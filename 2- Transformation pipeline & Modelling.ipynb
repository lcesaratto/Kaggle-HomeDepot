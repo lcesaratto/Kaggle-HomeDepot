{
 "metadata": {
  "language_info": {
   "codemirror_mode": {
    "name": "ipython",
    "version": 3
   },
   "file_extension": ".py",
   "mimetype": "text/x-python",
   "name": "python",
   "nbconvert_exporter": "python",
   "pygments_lexer": "ipython3",
   "version": "3.7.9-final"
  },
  "orig_nbformat": 2,
  "kernelspec": {
   "name": "python3",
   "display_name": "Python 3",
   "language": "python"
  }
 },
 "nbformat": 4,
 "nbformat_minor": 2,
 "cells": [
  {
   "source": [
    "# Load cleaned data"
   ],
   "cell_type": "markdown",
   "metadata": {}
  },
  {
   "cell_type": "code",
   "execution_count": 1,
   "metadata": {},
   "outputs": [
    {
     "output_type": "display_data",
     "data": {
      "text/plain": "   id  product_uid                    product_title   search_term  relevance  \\\n0   2       100001  simpson strong tie 12 gaug angl  angl bracket        3.0   \n1   3       100001  simpson strong tie 12 gaug angl       bracket        2.5   \n\n                                 product_description      MFG Brand Name  \\\n0  not only do angles make joints stronger , they...  simpson strong tie   \n1  not only do angles make joints stronger , they...  simpson strong tie   \n\n                                            Bullet02  \\\n0  stronger than angled nailing or screw fastenin...   \n1  stronger than angled nailing or screw fastenin...   \n\n                                            Bullet03  \\\n0  help ensure joints are consistently straight a...   \n1  help ensure joints are consistently straight a...   \n\n                               Bullet04  ... Bullet08  \\\n0  dimensions 3 in. x 3 in. x 1 1/2 in.  ...            \n1  dimensions 3 in. x 3 in. x 1 1/2 in.  ...            \n\n  Certifications and Listings Bullet09 Assembled Height (in.)  \\\n0                                                               \n1                                                               \n\n  Assembled Width (in.) Assembled Depth (in.) Product Length (in.) Bullet10  \\\n0                                                                             \n1                                                                             \n\n  Indoor/Outdoor Bullet11  \n0                          \n1                          \n\n[2 rows x 31 columns]",
      "text/html": "<div>\n<style scoped>\n    .dataframe tbody tr th:only-of-type {\n        vertical-align: middle;\n    }\n\n    .dataframe tbody tr th {\n        vertical-align: top;\n    }\n\n    .dataframe thead th {\n        text-align: right;\n    }\n</style>\n<table border=\"1\" class=\"dataframe\">\n  <thead>\n    <tr style=\"text-align: right;\">\n      <th></th>\n      <th>id</th>\n      <th>product_uid</th>\n      <th>product_title</th>\n      <th>search_term</th>\n      <th>relevance</th>\n      <th>product_description</th>\n      <th>MFG Brand Name</th>\n      <th>Bullet02</th>\n      <th>Bullet03</th>\n      <th>Bullet04</th>\n      <th>...</th>\n      <th>Bullet08</th>\n      <th>Certifications and Listings</th>\n      <th>Bullet09</th>\n      <th>Assembled Height (in.)</th>\n      <th>Assembled Width (in.)</th>\n      <th>Assembled Depth (in.)</th>\n      <th>Product Length (in.)</th>\n      <th>Bullet10</th>\n      <th>Indoor/Outdoor</th>\n      <th>Bullet11</th>\n    </tr>\n  </thead>\n  <tbody>\n    <tr>\n      <th>0</th>\n      <td>2</td>\n      <td>100001</td>\n      <td>simpson strong tie 12 gaug angl</td>\n      <td>angl bracket</td>\n      <td>3.0</td>\n      <td>not only do angles make joints stronger , they...</td>\n      <td>simpson strong tie</td>\n      <td>stronger than angled nailing or screw fastenin...</td>\n      <td>help ensure joints are consistently straight a...</td>\n      <td>dimensions 3 in. x 3 in. x 1 1/2 in.</td>\n      <td>...</td>\n      <td></td>\n      <td></td>\n      <td></td>\n      <td></td>\n      <td></td>\n      <td></td>\n      <td></td>\n      <td></td>\n      <td></td>\n      <td></td>\n    </tr>\n    <tr>\n      <th>1</th>\n      <td>3</td>\n      <td>100001</td>\n      <td>simpson strong tie 12 gaug angl</td>\n      <td>bracket</td>\n      <td>2.5</td>\n      <td>not only do angles make joints stronger , they...</td>\n      <td>simpson strong tie</td>\n      <td>stronger than angled nailing or screw fastenin...</td>\n      <td>help ensure joints are consistently straight a...</td>\n      <td>dimensions 3 in. x 3 in. x 1 1/2 in.</td>\n      <td>...</td>\n      <td></td>\n      <td></td>\n      <td></td>\n      <td></td>\n      <td></td>\n      <td></td>\n      <td></td>\n      <td></td>\n      <td></td>\n      <td></td>\n    </tr>\n  </tbody>\n</table>\n<p>2 rows × 31 columns</p>\n</div>"
     },
     "metadata": {}
    }
   ],
   "source": [
    "import pandas as pd\n",
    "\n",
    "train = pd.read_csv('train_cleaned.csv')\n",
    "train.fillna('',inplace=True)\n",
    "display(train.head(2))\n",
    "X_train, y_train = train.loc[:, train.columns != 'relevance'], train['relevance']"
   ]
  },
  {
   "source": [
    "# Transformation pipeline: Creating training features"
   ],
   "cell_type": "markdown",
   "metadata": {}
  },
  {
   "cell_type": "code",
   "execution_count": 15,
   "metadata": {},
   "outputs": [
    {
     "output_type": "execute_result",
     "data": {
      "text/plain": [
       "       len_of_query  word_in_title  word_in_description\n",
       "0                 2              1                    1\n",
       "1                 1              0                    0\n",
       "2                 1              1                    1\n",
       "3                 3              1                    1\n",
       "4                 3              3                    2\n",
       "...             ...            ...                  ...\n",
       "74062             2              1                    1\n",
       "74063             2              2                    2\n",
       "74064             7              2                    4\n",
       "74065             3              2                    2\n",
       "74066             4              2                    2\n",
       "\n",
       "[74067 rows x 3 columns]"
      ],
      "text/html": "<div>\n<style scoped>\n    .dataframe tbody tr th:only-of-type {\n        vertical-align: middle;\n    }\n\n    .dataframe tbody tr th {\n        vertical-align: top;\n    }\n\n    .dataframe thead th {\n        text-align: right;\n    }\n</style>\n<table border=\"1\" class=\"dataframe\">\n  <thead>\n    <tr style=\"text-align: right;\">\n      <th></th>\n      <th>len_of_query</th>\n      <th>word_in_title</th>\n      <th>word_in_description</th>\n    </tr>\n  </thead>\n  <tbody>\n    <tr>\n      <th>0</th>\n      <td>2</td>\n      <td>1</td>\n      <td>1</td>\n    </tr>\n    <tr>\n      <th>1</th>\n      <td>1</td>\n      <td>0</td>\n      <td>0</td>\n    </tr>\n    <tr>\n      <th>2</th>\n      <td>1</td>\n      <td>1</td>\n      <td>1</td>\n    </tr>\n    <tr>\n      <th>3</th>\n      <td>3</td>\n      <td>1</td>\n      <td>1</td>\n    </tr>\n    <tr>\n      <th>4</th>\n      <td>3</td>\n      <td>3</td>\n      <td>2</td>\n    </tr>\n    <tr>\n      <th>...</th>\n      <td>...</td>\n      <td>...</td>\n      <td>...</td>\n    </tr>\n    <tr>\n      <th>74062</th>\n      <td>2</td>\n      <td>1</td>\n      <td>1</td>\n    </tr>\n    <tr>\n      <th>74063</th>\n      <td>2</td>\n      <td>2</td>\n      <td>2</td>\n    </tr>\n    <tr>\n      <th>74064</th>\n      <td>7</td>\n      <td>2</td>\n      <td>4</td>\n    </tr>\n    <tr>\n      <th>74065</th>\n      <td>3</td>\n      <td>2</td>\n      <td>2</td>\n    </tr>\n    <tr>\n      <th>74066</th>\n      <td>4</td>\n      <td>2</td>\n      <td>2</td>\n    </tr>\n  </tbody>\n</table>\n<p>74067 rows × 3 columns</p>\n</div>"
     },
     "metadata": {},
     "execution_count": 15
    }
   ],
   "source": [
    "from sklearn.pipeline import Pipeline\n",
    "from sklearn.base import BaseEstimator, TransformerMixin\n",
    "from sklearn.feature_extraction.text import TfidfVectorizer\n",
    "import numpy as np\n",
    "\n",
    "class LenghtOfQuery(BaseEstimator, TransformerMixin):\n",
    "    def fit(self, X, y=None):\n",
    "        return self\n",
    "    def transform(self, X, y=None):\n",
    "        X['len_of_query'] = X['search_term'].map(lambda x:len(x.split())).astype(np.int64)\n",
    "        return X\n",
    "\n",
    "class LenghtCommonWords(BaseEstimator, TransformerMixin):\n",
    "    def str_common_word(self, str1, str2):\n",
    "        str1, str2 = str1.lower(), str2.lower()\n",
    "        words, cnt = str1.split(), 0\n",
    "        for word in words:\n",
    "            if str2.find(word)>=0:\n",
    "                cnt+=1\n",
    "        return cnt\n",
    "    def fit(self, X, y=None):\n",
    "        return self\n",
    "    def transform(self, X, y=None):\n",
    "        X['word_in_title'] = X.apply(lambda x:self.str_common_word(x['search_term'],x['product_title']), axis=1)\n",
    "        X['word_in_description'] = X.apply(lambda x:self.str_common_word(x['search_term'],x['product_description']), axis=1)\n",
    "        return X\n",
    "\n",
    "class TfIdfBasedFeatures(BaseEstimator, TransformerMixin):\n",
    "    def fit(self, X, y=None):\n",
    "        self.tf_transformer = TfidfVectorizer().fit(X)\n",
    "        return self\n",
    "    def transform(self, X, y=None):\n",
    "        # X['search_term_tfidf'] = self.tf_transformer.transform(X['search_term'])\n",
    "        return X\n",
    "\n",
    "class SelectFeatures(BaseEstimator, TransformerMixin):\n",
    "    def __init__(self, features_list):\n",
    "        self.features_list = features_list\n",
    "    def fit(self, X, y=None):\n",
    "        return self\n",
    "    def transform(self, X, y=None):\n",
    "        X = X[self.features_list]\n",
    "        return X\n",
    "\n",
    "\n",
    "prep_pipeline = Pipeline([\n",
    "    (\"lenght_query\", LenghtOfQuery()),\n",
    "    (\"lenght_common_words\", LenghtCommonWords()),\n",
    "    ('tf-idf_features', TfIdfBasedFeatures()),\n",
    "    (\"select_features\", SelectFeatures(features_list=[\"len_of_query\",\"word_in_title\",\"word_in_description\"]))\n",
    "])\n",
    "\n",
    "X_train_prep = prep_pipeline.fit_transform(X_train,y_train)\n",
    "X_train_prep"
   ]
  },
  {
   "source": [
    "# Model building and Hyperparameter tunning w/ Grid Search"
   ],
   "cell_type": "markdown",
   "metadata": {}
  },
  {
   "cell_type": "code",
   "execution_count": null,
   "metadata": {},
   "outputs": [],
   "source": [
    "from sklearn.pipeline import Pipeline\n",
    "from sklearn.ensemble import RandomForestRegressor\n",
    "from sklearn.model_selection import GridSearchCV\n",
    "from sklearn.metrics import make_scorer, mean_squared_error\n",
    "import os\n",
    "import numpy as np\n",
    "import pickle\n",
    "\n",
    "def my_custom_loss_func(y_true,y_pred):\n",
    "    mse = mean_squared_error(y_true, y_pred)\n",
    "    rmse = np.sqrt(mse)\n",
    "    print(rmse)\n",
    "    return rmse\n",
    "\n",
    "RMSE = make_scorer(my_custom_loss_func, greater_is_better=False)\n",
    "\n",
    "def execute_pipeline(features,labels, search_space=[\n",
    "                    {\"estimator\": [RandomForestRegressor(random_state=42, verbose=1, n_jobs=-1)],\n",
    "                    \"estimator__n_estimators\": [10, 25],\n",
    "                    \"estimator__max_depth\": [2, 6]\n",
    "                    }], \n",
    "                    cv=3,\n",
    "                    verbose=1,\n",
    "                    n_jobs=os.cpu_count() - 2,\n",
    "                    scoring=RMSE):\n",
    "    \n",
    "    pipe = Pipeline([(\"estimator\", RandomForestRegressor())])\n",
    "    \n",
    "    gridsearch = GridSearchCV(pipe, search_space, scoring=scoring, cv=cv, verbose=verbose,n_jobs=n_jobs)\n",
    "    best_model = gridsearch.fit(features, labels)\n",
    "    print(best_model.best_estimator_)\n",
    "    print(best_estimator.best_score_)\n",
    "    return best_model\n",
    "\n",
    "best_estimator = execute_pipeline(features,y_train)\n",
    "\n",
    "pickle.dump(best_estimator,open( \"best_estimator.pkl\", \"wb\" ))"
   ]
  },
  {
   "source": [
    "df_result = pd.DataFrame({'Relevance': y_test, 'Prediction':predicted})\n",
    "mask = df_result.Relevance < 2\n",
    "print (\"MSE for relevance<2:\", mean_squared_error(df_result[mask]['Relevance'], df_result[mask]['Prediction']))"
   ],
   "cell_type": "markdown",
   "metadata": {}
  },
  {
   "source": [
    "# Generate predictions on test set"
   ],
   "cell_type": "markdown",
   "metadata": {}
  },
  {
   "cell_type": "code",
   "execution_count": null,
   "metadata": {},
   "outputs": [],
   "source": [
    "import pickle\n",
    "from sklearn.pipeline import Pipeline\n",
    "from sklearn.ensemble import RandomForestRegressor\n",
    "from sklearn.model_selection import GridSearchCV\n",
    "from sklearn.metrics import make_scorer, mean_squared_error\n",
    "import numpy as np\n",
    "\n",
    "def my_custom_loss_func(y_true,y_pred):\n",
    "    mse = mean_squared_error(y_true, y_pred)\n",
    "    rmse = np.sqrt(mse)\n",
    "    print(rmse)\n",
    "    return rmse\n",
    "\n",
    "RMSE = make_scorer(my_custom_loss_func, greater_is_better=False)\n",
    "\n",
    "best_estimator = pickle.load(open( \"best_estimator.pkl\", \"rb\" ))"
   ]
  },
  {
   "cell_type": "code",
   "execution_count": null,
   "metadata": {},
   "outputs": [],
   "source": [
    "import pandas as pd\n",
    "\n",
    "X_test = pd.read_csv('test_cleaned.csv')\n",
    "\n",
    "X_test_prep = prep_pipeline.transform(X_test)\n",
    "X_test['relevance'] = best_estimator.predict(X_test_prep)\n",
    "display(X_test)\n",
    "\n",
    "X_test[['id','relevance']].to_csv('submission.csv',index=False)"
   ]
  }
 ]
}