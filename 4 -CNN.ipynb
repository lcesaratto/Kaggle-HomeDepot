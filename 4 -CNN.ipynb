{
 "cells": [
  {
   "source": [
    "# Load clean data"
   ],
   "cell_type": "markdown",
   "metadata": {}
  },
  {
   "cell_type": "code",
   "execution_count": 2,
   "metadata": {},
   "outputs": [
    {
     "output_type": "display_data",
     "data": {
      "text/plain": "   id  product_uid                    product_title   search_term  \\\n0   2       100001  simpson strong tie 12 gaug angl  angl bracket   \n1   3       100001  simpson strong tie 12 gaug angl       bracket   \n\n                                 product_description      MFG Brand Name  \\\n0  not only do angles make joints stronger , they...  simpson strong tie   \n1  not only do angles make joints stronger , they...  simpson strong tie   \n\n                                            Bullet02  \\\n0  stronger than angled nailing or screw fastenin...   \n1  stronger than angled nailing or screw fastenin...   \n\n                                            Bullet03  \\\n0  help ensure joints are consistently straight a...   \n1  help ensure joints are consistently straight a...   \n\n                               Bullet04  \\\n0  dimensions 3 in. x 3 in. x 1 1/2 in.   \n1  dimensions 3 in. x 3 in. x 1 1/2 in.   \n\n                                            Bullet01  ...  \\\n0  versatile connector for various 90 connections...  ...   \n1  versatile connector for various 90 connections...  ...   \n\n  Certifications and Listings Bullet09 Assembled Height (in.)  \\\n0                                                               \n1                                                               \n\n  Assembled Width (in.) Assembled Depth (in.) Product Length (in.) Bullet10  \\\n0                                                                             \n1                                                                             \n\n  Indoor/Outdoor Bullet11 relevance  \n0                               3.0  \n1                               2.5  \n\n[2 rows x 31 columns]",
      "text/html": "<div>\n<style scoped>\n    .dataframe tbody tr th:only-of-type {\n        vertical-align: middle;\n    }\n\n    .dataframe tbody tr th {\n        vertical-align: top;\n    }\n\n    .dataframe thead th {\n        text-align: right;\n    }\n</style>\n<table border=\"1\" class=\"dataframe\">\n  <thead>\n    <tr style=\"text-align: right;\">\n      <th></th>\n      <th>id</th>\n      <th>product_uid</th>\n      <th>product_title</th>\n      <th>search_term</th>\n      <th>product_description</th>\n      <th>MFG Brand Name</th>\n      <th>Bullet02</th>\n      <th>Bullet03</th>\n      <th>Bullet04</th>\n      <th>Bullet01</th>\n      <th>...</th>\n      <th>Certifications and Listings</th>\n      <th>Bullet09</th>\n      <th>Assembled Height (in.)</th>\n      <th>Assembled Width (in.)</th>\n      <th>Assembled Depth (in.)</th>\n      <th>Product Length (in.)</th>\n      <th>Bullet10</th>\n      <th>Indoor/Outdoor</th>\n      <th>Bullet11</th>\n      <th>relevance</th>\n    </tr>\n  </thead>\n  <tbody>\n    <tr>\n      <th>0</th>\n      <td>2</td>\n      <td>100001</td>\n      <td>simpson strong tie 12 gaug angl</td>\n      <td>angl bracket</td>\n      <td>not only do angles make joints stronger , they...</td>\n      <td>simpson strong tie</td>\n      <td>stronger than angled nailing or screw fastenin...</td>\n      <td>help ensure joints are consistently straight a...</td>\n      <td>dimensions 3 in. x 3 in. x 1 1/2 in.</td>\n      <td>versatile connector for various 90 connections...</td>\n      <td>...</td>\n      <td></td>\n      <td></td>\n      <td></td>\n      <td></td>\n      <td></td>\n      <td></td>\n      <td></td>\n      <td></td>\n      <td></td>\n      <td>3.0</td>\n    </tr>\n    <tr>\n      <th>1</th>\n      <td>3</td>\n      <td>100001</td>\n      <td>simpson strong tie 12 gaug angl</td>\n      <td>bracket</td>\n      <td>not only do angles make joints stronger , they...</td>\n      <td>simpson strong tie</td>\n      <td>stronger than angled nailing or screw fastenin...</td>\n      <td>help ensure joints are consistently straight a...</td>\n      <td>dimensions 3 in. x 3 in. x 1 1/2 in.</td>\n      <td>versatile connector for various 90 connections...</td>\n      <td>...</td>\n      <td></td>\n      <td></td>\n      <td></td>\n      <td></td>\n      <td></td>\n      <td></td>\n      <td></td>\n      <td></td>\n      <td></td>\n      <td>2.5</td>\n    </tr>\n  </tbody>\n</table>\n<p>2 rows × 31 columns</p>\n</div>"
     },
     "metadata": {}
    }
   ],
   "source": [
    "import pandas as pd\n",
    "\n",
    "train = pd.read_csv('train_cleaned.csv')\n",
    "train.fillna('',inplace=True)\n",
    "display(train.head(2))\n",
    "X_train, y_train = train.loc[:, train.columns != 'relevance'], train['relevance']"
   ]
  },
  {
   "cell_type": "markdown",
   "metadata": {},
   "source": [
    "# CNN with 2 features"
   ]
  },
  {
   "cell_type": "code",
   "execution_count": 3,
   "metadata": {},
   "outputs": [],
   "source": [
    "from sklearn.model_selection import train_test_split\n",
    "\n",
    "X_train_search_term, X_val_search_term, y_train_search_term, y_val_search_term = train_test_split(X_train['search_term'].to_list(),\n",
    "                                                                                                    y_train.to_list(),\n",
    "                                                                                                    test_size=0.1,\n",
    "                                                                                                    random_state=42,\n",
    "                                                                                                    #stratify=y\n",
    "                                                                                                    )\n",
    "\n",
    "\n",
    "X_train_product_title, X_val_product_title, y_train_product_title, y_val_product_title = train_test_split(X_train['product_title'].to_list(),\n",
    "                                                                                                            y_train.to_list(),\n",
    "                                                                                                            test_size=0.1,\n",
    "                                                                                                            random_state=42,\n",
    "                                                                                                            #stratify=y\n",
    "                                                                                                            )"
   ]
  },
  {
   "cell_type": "code",
   "execution_count": 4,
   "metadata": {},
   "outputs": [],
   "source": [
    "from tensorflow.keras.layers.experimental.preprocessing import TextVectorization\n",
    "\n",
    "vectorizer_search_term = TextVectorization(max_tokens=20000, output_sequence_length=200)\n",
    "vectorizer_search_term.adapt(X_train['search_term'].to_list())\n",
    "voc_search_term = vectorizer_search_term.get_vocabulary()\n",
    "word_index_search_term = dict(zip(voc_search_term, range(len(voc_search_term))))\n",
    "\n",
    "vectorizer_product_title = TextVectorization(max_tokens=20000, output_sequence_length=200)\n",
    "vectorizer_product_title.adapt(X_train['product_title'].to_list())\n",
    "voc_product_title = vectorizer_product_title.get_vocabulary()\n",
    "word_index_product_title = dict(zip(voc_product_title, range(len(voc_product_title))))"
   ]
  },
  {
   "source": [
    "!wget http://nlp.stanford.edu/data/glove.6B.zip"
   ],
   "cell_type": "markdown",
   "metadata": {}
  },
  {
   "cell_type": "code",
   "execution_count": 5,
   "metadata": {},
   "outputs": [],
   "source": [
    "from zipfile import ZipFile\n",
    "import os\n",
    "\n",
    "if \"glove.6B.100d.txt\" not in os.listdir(\"model_data/\"):\n",
    "    ZipFile(\"model_data/glove.6B.zip\",'r').extractall('model_data/')"
   ]
  },
  {
   "cell_type": "code",
   "execution_count": 6,
   "metadata": {},
   "outputs": [
    {
     "output_type": "stream",
     "name": "stdout",
     "text": [
      "Loading Glove Model\n",
      "400000  words loaded!\n"
     ]
    }
   ],
   "source": [
    "import numpy as np\n",
    "\n",
    "def loadGloveModel(File):\n",
    "    print(\"Loading Glove Model\")\n",
    "    f = open(File,'r',encoding='utf-8')\n",
    "    gloveModel = {}\n",
    "    for line in f:\n",
    "        splitLines = line.split()\n",
    "        word = splitLines[0]\n",
    "        wordEmbedding = np.array([float(value) for value in splitLines[1:]])\n",
    "        gloveModel[word] = wordEmbedding\n",
    "    print(len(gloveModel),\" words loaded!\")\n",
    "    return gloveModel\n",
    "\n",
    "glove_embeddings_index = loadGloveModel(\"model_data/glove.6B.100d.txt\")"
   ]
  },
  {
   "cell_type": "code",
   "execution_count": 7,
   "metadata": {},
   "outputs": [
    {
     "output_type": "stream",
     "name": "stdout",
     "text": [
      "Converted 3460 words (650 misses)\nConverted 9480 words (9034 misses)\n"
     ]
    }
   ],
   "source": [
    "import numpy as np\n",
    "\n",
    "def createEmbeddingMatrix(embeddings_index,word_index,voc):\n",
    "    num_tokens = len(voc) + 2\n",
    "    embedding_dim = 100\n",
    "    hits = 0\n",
    "    misses = 0\n",
    "\n",
    "    # Prepare embedding matrix\n",
    "    embedding_matrix = np.zeros((num_tokens, embedding_dim))\n",
    "    for word, i in word_index.items():\n",
    "        embedding_vector = embeddings_index.get(word)\n",
    "        if embedding_vector is not None:\n",
    "            # Words not found in embedding index will be all-zeros.\n",
    "            # This includes the representation for \"padding\" and \"OOV\"\n",
    "            embedding_matrix[i] = embedding_vector\n",
    "            hits += 1\n",
    "        else:\n",
    "            misses += 1\n",
    "    print(\"Converted %d words (%d misses)\" % (hits, misses))\n",
    "    return embedding_matrix\n",
    "\n",
    "embedding_matrix_search_term = createEmbeddingMatrix(embeddings_index=glove_embeddings_index, word_index=word_index_search_term, voc=voc_search_term)\n",
    "embedding_matrix_product_title = createEmbeddingMatrix(embeddings_index=glove_embeddings_index, word_index=word_index_product_title, voc=voc_product_title)\n",
    "\n"
   ]
  },
  {
   "cell_type": "code",
   "execution_count": 8,
   "metadata": {},
   "outputs": [],
   "source": [
    "X_train_search_term = vectorizer_search_term(X_train_search_term).numpy()\n",
    "X_val_search_term = vectorizer_search_term(X_val_search_term).numpy()\n",
    "\n",
    "X_train_product_title = vectorizer_product_title(X_train_product_title).numpy()\n",
    "X_val_product_title = vectorizer_product_title(X_val_product_title).numpy()\n",
    "\n",
    "y_train = np.array(y_train_search_term)\n",
    "y_val = np.array(y_val_search_term)"
   ]
  },
  {
   "cell_type": "code",
   "execution_count": 9,
   "metadata": {},
   "outputs": [
    {
     "output_type": "stream",
     "name": "stdout",
     "text": [
      "[name: \"/device:CPU:0\"\ndevice_type: \"CPU\"\nmemory_limit: 268435456\nlocality {\n}\nincarnation: 11263380009247252689\n, name: \"/device:GPU:0\"\ndevice_type: \"GPU\"\nmemory_limit: 6959755424\nlocality {\n  bus_id: 1\n  links {\n  }\n}\nincarnation: 16672806475566927587\nphysical_device_desc: \"device: 0, name: GeForce RTX 2070 with Max-Q Design, pci bus id: 0000:01:00.0, compute capability: 7.5\"\n]\n"
     ]
    }
   ],
   "source": [
    "from tensorflow.python.client import device_lib\n",
    "print(device_lib.list_local_devices())"
   ]
  },
  {
   "cell_type": "code",
   "execution_count": 13,
   "metadata": {},
   "outputs": [],
   "source": [
    "from tensorflow.keras.models import Model\n",
    "from tensorflow.keras.callbacks import ModelCheckpoint, EarlyStopping\n",
    "from tensorflow.keras.layers import Input, Dense, Embedding, MaxPooling1D, Dropout, Conv1D, concatenate, Reshape, Flatten, Dropout\n",
    "from tensorflow.keras.initializers import Constant\n",
    "\n",
    "num_tokens_search_term = len(voc_search_term) + 2\n",
    "num_tokens_product_title = len(voc_product_title) + 2\n",
    "embedding_dim = 100\n",
    "\n",
    "epochs = 100\n",
    "batch_size = 256\n",
    "\n",
    "# Search term CNN\n",
    "input_search_term = Input(shape=(200), dtype='int64')\n",
    "embedding_layer = Embedding(input_dim=num_tokens_search_term, output_dim=embedding_dim, embeddings_initializer=Constant(embedding_matrix_search_term), trainable=False)(input_search_term)\n",
    "conv1d_search_term = Conv1D(filters=32, kernel_size=7, activation='relu')(embedding_layer)\n",
    "maxpooling1d_search_term = MaxPooling1D(pool_size=2, strides=2)(conv1d_search_term)\n",
    "conv1d_search_term_2 = Conv1D(filters=64, kernel_size=3, activation='relu', padding='same')(maxpooling1d_search_term)\n",
    "maxpooling1d_search_term_2 = MaxPooling1D(pool_size=2, strides=2)(conv1d_search_term_2)\n",
    "dropout_search_term = (Dropout(0.5))(maxpooling1d_search_term_2)\n",
    "flatten_search_term = Flatten()(dropout_search_term)\n",
    "\n",
    "# Product title CNN\n",
    "input_product_title = Input(shape=(200),dtype=\"int64\")\n",
    "embedding_layer2 = Embedding(num_tokens_product_title, embedding_dim, embeddings_initializer=Constant(embedding_matrix_product_title), trainable=False)(input_product_title)\n",
    "conv1d_product_title = Conv1D(filters=32, kernel_size=7, activation='relu')(embedding_layer2)\n",
    "maxpooling1d_product_title = MaxPooling1D(pool_size=2, strides=2)(conv1d_product_title)\n",
    "conv1d_product_title_2 = Conv1D(filters=64, kernel_size=3, activation='relu', padding='same')(maxpooling1d_product_title)\n",
    "maxpooling1d_product_title_2 = MaxPooling1D(pool_size=2, strides=2)(conv1d_product_title_2)\n",
    "dropout_product_title = (Dropout(0.5))(maxpooling1d_product_title_2)\n",
    "flatten_product_title = Flatten()(dropout_product_title)\n",
    "\n",
    "# concatenated model\n",
    "concatenated_layers = concatenate([flatten_search_term, flatten_product_title])\n",
    "model_concatenated = Dense(80, activation=\"relu\")(concatenated_layers)\n",
    "dropout = (Dropout(0.5))(model_concatenated)\n",
    "model_output = Dense(1, activation=\"linear\")(dropout)\n",
    "\n",
    "model = Model(inputs= [input_search_term, input_product_title], outputs=model_output)\n",
    "\n",
    "checkpoint = ModelCheckpoint('./model_data/' + 'weights.{epoch:03d}-{val_mse:.4f}.hdf5',\n",
    "                                 monitor='val_mse', verbose=1,\n",
    "                                 save_best_only=True, mode='auto')\n",
    "\n",
    "cb = EarlyStopping(monitor='val_mse',\n",
    "                              min_delta=0,\n",
    "                              patience=10,\n",
    "                              verbose=1,\n",
    "                              mode='auto')\n",
    "\n",
    "model.compile(loss='mse', optimizer='adam', metrics=['mse'])"
   ]
  },
  {
   "cell_type": "code",
   "execution_count": 14,
   "metadata": {},
   "outputs": [
    {
     "output_type": "stream",
     "name": "stdout",
     "text": [
      "Model: \"model_1\"\n__________________________________________________________________________________________________\nLayer (type)                    Output Shape         Param #     Connected to                     \n==================================================================================================\ninput_3 (InputLayer)            [(None, 200)]        0                                            \n__________________________________________________________________________________________________\ninput_4 (InputLayer)            [(None, 200)]        0                                            \n__________________________________________________________________________________________________\nembedding_2 (Embedding)         (None, 200, 100)     411200      input_3[0][0]                    \n__________________________________________________________________________________________________\nembedding_3 (Embedding)         (None, 200, 100)     1851600     input_4[0][0]                    \n__________________________________________________________________________________________________\nconv1d_4 (Conv1D)               (None, 194, 32)      22432       embedding_2[0][0]                \n__________________________________________________________________________________________________\nconv1d_6 (Conv1D)               (None, 194, 32)      22432       embedding_3[0][0]                \n__________________________________________________________________________________________________\nmax_pooling1d_4 (MaxPooling1D)  (None, 97, 32)       0           conv1d_4[0][0]                   \n__________________________________________________________________________________________________\nmax_pooling1d_6 (MaxPooling1D)  (None, 97, 32)       0           conv1d_6[0][0]                   \n__________________________________________________________________________________________________\nconv1d_5 (Conv1D)               (None, 97, 64)       6208        max_pooling1d_4[0][0]            \n__________________________________________________________________________________________________\nconv1d_7 (Conv1D)               (None, 97, 64)       6208        max_pooling1d_6[0][0]            \n__________________________________________________________________________________________________\nmax_pooling1d_5 (MaxPooling1D)  (None, 48, 64)       0           conv1d_5[0][0]                   \n__________________________________________________________________________________________________\nmax_pooling1d_7 (MaxPooling1D)  (None, 48, 64)       0           conv1d_7[0][0]                   \n__________________________________________________________________________________________________\ndropout_3 (Dropout)             (None, 48, 64)       0           max_pooling1d_5[0][0]            \n__________________________________________________________________________________________________\ndropout_4 (Dropout)             (None, 48, 64)       0           max_pooling1d_7[0][0]            \n__________________________________________________________________________________________________\nflatten_2 (Flatten)             (None, 3072)         0           dropout_3[0][0]                  \n__________________________________________________________________________________________________\nflatten_3 (Flatten)             (None, 3072)         0           dropout_4[0][0]                  \n__________________________________________________________________________________________________\nconcatenate_1 (Concatenate)     (None, 6144)         0           flatten_2[0][0]                  \n                                                                 flatten_3[0][0]                  \n__________________________________________________________________________________________________\ndense_2 (Dense)                 (None, 80)           491600      concatenate_1[0][0]              \n__________________________________________________________________________________________________\ndropout_5 (Dropout)             (None, 80)           0           dense_2[0][0]                    \n__________________________________________________________________________________________________\ndense_3 (Dense)                 (None, 1)            81          dropout_5[0][0]                  \n==================================================================================================\nTotal params: 2,811,761\nTrainable params: 548,961\nNon-trainable params: 2,262,800\n__________________________________________________________________________________________________\n"
     ]
    }
   ],
   "source": [
    "model.summary()"
   ]
  },
  {
   "cell_type": "code",
   "execution_count": 15,
   "metadata": {},
   "outputs": [
    {
     "output_type": "stream",
     "name": "stdout",
     "text": [
      "Epoch 1/100\n",
      "261/261 [==============================] - 6s 20ms/step - loss: 0.9055 - mse: 0.9055 - val_loss: 0.2841 - val_mse: 0.2841\n",
      "\n",
      "Epoch 00001: val_mse improved from inf to 0.28406, saving model to ./model_data\\weights.001-0.2841.hdf5\n",
      "Epoch 2/100\n",
      "261/261 [==============================] - 5s 19ms/step - loss: 0.4308 - mse: 0.4308 - val_loss: 0.2844 - val_mse: 0.2844\n",
      "\n",
      "Epoch 00002: val_mse did not improve from 0.28406\n",
      "Epoch 3/100\n",
      "261/261 [==============================] - 5s 19ms/step - loss: 0.4039 - mse: 0.4039 - val_loss: 0.2626 - val_mse: 0.2626\n",
      "\n",
      "Epoch 00003: val_mse improved from 0.28406 to 0.26261, saving model to ./model_data\\weights.003-0.2626.hdf5\n",
      "Epoch 4/100\n",
      "261/261 [==============================] - 5s 19ms/step - loss: 0.3834 - mse: 0.3834 - val_loss: 0.2784 - val_mse: 0.2784\n",
      "\n",
      "Epoch 00004: val_mse did not improve from 0.26261\n",
      "Epoch 5/100\n",
      "261/261 [==============================] - 5s 19ms/step - loss: 0.3592 - mse: 0.3592 - val_loss: 0.2615 - val_mse: 0.2615\n",
      "\n",
      "Epoch 00005: val_mse improved from 0.26261 to 0.26146, saving model to ./model_data\\weights.005-0.2615.hdf5\n",
      "Epoch 6/100\n",
      "261/261 [==============================] - 5s 19ms/step - loss: 0.3407 - mse: 0.3407 - val_loss: 0.2518 - val_mse: 0.2518\n",
      "\n",
      "Epoch 00006: val_mse improved from 0.26146 to 0.25179, saving model to ./model_data\\weights.006-0.2518.hdf5\n",
      "Epoch 7/100\n",
      "261/261 [==============================] - 5s 19ms/step - loss: 0.3226 - mse: 0.3226 - val_loss: 0.2498 - val_mse: 0.2498\n",
      "\n",
      "Epoch 00007: val_mse improved from 0.25179 to 0.24975, saving model to ./model_data\\weights.007-0.2498.hdf5\n",
      "Epoch 8/100\n",
      "261/261 [==============================] - 5s 19ms/step - loss: 0.3082 - mse: 0.3082 - val_loss: 0.2508 - val_mse: 0.2508\n",
      "\n",
      "Epoch 00008: val_mse did not improve from 0.24975\n",
      "Epoch 9/100\n",
      "261/261 [==============================] - 5s 19ms/step - loss: 0.2887 - mse: 0.2887 - val_loss: 0.2538 - val_mse: 0.2538\n",
      "\n",
      "Epoch 00009: val_mse did not improve from 0.24975\n",
      "Epoch 10/100\n",
      "261/261 [==============================] - 5s 19ms/step - loss: 0.2792 - mse: 0.2792 - val_loss: 0.2481 - val_mse: 0.2481\n",
      "\n",
      "Epoch 00010: val_mse improved from 0.24975 to 0.24815, saving model to ./model_data\\weights.010-0.2481.hdf5\n",
      "Epoch 11/100\n",
      "261/261 [==============================] - 5s 19ms/step - loss: 0.2636 - mse: 0.2636 - val_loss: 0.2460 - val_mse: 0.2460\n",
      "\n",
      "Epoch 00011: val_mse improved from 0.24815 to 0.24598, saving model to ./model_data\\weights.011-0.2460.hdf5\n",
      "Epoch 12/100\n",
      "261/261 [==============================] - 5s 19ms/step - loss: 0.2507 - mse: 0.2507 - val_loss: 0.2479 - val_mse: 0.2479\n",
      "\n",
      "Epoch 00012: val_mse did not improve from 0.24598\n",
      "Epoch 13/100\n",
      "261/261 [==============================] - 5s 19ms/step - loss: 0.2425 - mse: 0.2425 - val_loss: 0.2451 - val_mse: 0.2451\n",
      "\n",
      "Epoch 00013: val_mse improved from 0.24598 to 0.24507, saving model to ./model_data\\weights.013-0.2451.hdf5\n",
      "Epoch 14/100\n",
      "261/261 [==============================] - 5s 19ms/step - loss: 0.2307 - mse: 0.2307 - val_loss: 0.2475 - val_mse: 0.2475\n",
      "\n",
      "Epoch 00014: val_mse did not improve from 0.24507\n",
      "Epoch 15/100\n",
      "261/261 [==============================] - 5s 19ms/step - loss: 0.2206 - mse: 0.2206 - val_loss: 0.2469 - val_mse: 0.2469\n",
      "\n",
      "Epoch 00015: val_mse did not improve from 0.24507\n",
      "Epoch 16/100\n",
      "261/261 [==============================] - 5s 19ms/step - loss: 0.2150 - mse: 0.2150 - val_loss: 0.2470 - val_mse: 0.2470\n",
      "\n",
      "Epoch 00016: val_mse did not improve from 0.24507\n",
      "Epoch 17/100\n",
      "261/261 [==============================] - 5s 19ms/step - loss: 0.2075 - mse: 0.2075 - val_loss: 0.2458 - val_mse: 0.2458\n",
      "\n",
      "Epoch 00017: val_mse did not improve from 0.24507\n",
      "Epoch 18/100\n",
      "261/261 [==============================] - 5s 19ms/step - loss: 0.2030 - mse: 0.2030 - val_loss: 0.2480 - val_mse: 0.2480\n",
      "\n",
      "Epoch 00018: val_mse did not improve from 0.24507\n",
      "Epoch 19/100\n",
      "261/261 [==============================] - 5s 19ms/step - loss: 0.1946 - mse: 0.1946 - val_loss: 0.2441 - val_mse: 0.2441\n",
      "\n",
      "Epoch 00019: val_mse improved from 0.24507 to 0.24406, saving model to ./model_data\\weights.019-0.2441.hdf5\n",
      "Epoch 20/100\n",
      "261/261 [==============================] - 5s 19ms/step - loss: 0.1923 - mse: 0.1923 - val_loss: 0.2486 - val_mse: 0.2486\n",
      "\n",
      "Epoch 00020: val_mse did not improve from 0.24406\n",
      "Epoch 21/100\n",
      "261/261 [==============================] - 5s 19ms/step - loss: 0.1859 - mse: 0.1859 - val_loss: 0.2462 - val_mse: 0.2462\n",
      "\n",
      "Epoch 00021: val_mse did not improve from 0.24406\n",
      "Epoch 22/100\n",
      "261/261 [==============================] - 5s 19ms/step - loss: 0.1816 - mse: 0.1816 - val_loss: 0.2460 - val_mse: 0.2460\n",
      "\n",
      "Epoch 00022: val_mse did not improve from 0.24406\n",
      "Epoch 23/100\n",
      "261/261 [==============================] - 5s 19ms/step - loss: 0.1803 - mse: 0.1803 - val_loss: 0.2541 - val_mse: 0.2541\n",
      "\n",
      "Epoch 00023: val_mse did not improve from 0.24406\n",
      "Epoch 24/100\n",
      "261/261 [==============================] - 5s 20ms/step - loss: 0.1778 - mse: 0.1778 - val_loss: 0.2535 - val_mse: 0.2535\n",
      "\n",
      "Epoch 00024: val_mse did not improve from 0.24406\n",
      "Epoch 25/100\n",
      "261/261 [==============================] - 5s 20ms/step - loss: 0.1759 - mse: 0.1759 - val_loss: 0.2545 - val_mse: 0.2545\n",
      "\n",
      "Epoch 00025: val_mse did not improve from 0.24406\n",
      "Epoch 26/100\n",
      "261/261 [==============================] - 5s 19ms/step - loss: 0.1738 - mse: 0.1738 - val_loss: 0.2461 - val_mse: 0.2461\n",
      "\n",
      "Epoch 00026: val_mse did not improve from 0.24406\n",
      "Epoch 27/100\n",
      "261/261 [==============================] - 5s 20ms/step - loss: 0.1733 - mse: 0.1733 - val_loss: 0.2515 - val_mse: 0.2515\n",
      "\n",
      "Epoch 00027: val_mse did not improve from 0.24406\n",
      "Epoch 28/100\n",
      "261/261 [==============================] - 5s 20ms/step - loss: 0.1713 - mse: 0.1713 - val_loss: 0.2506 - val_mse: 0.2506\n",
      "\n",
      "Epoch 00028: val_mse did not improve from 0.24406\n",
      "Epoch 29/100\n",
      "261/261 [==============================] - 5s 20ms/step - loss: 0.1694 - mse: 0.1694 - val_loss: 0.2521 - val_mse: 0.2521\n",
      "\n",
      "Epoch 00029: val_mse did not improve from 0.24406\n",
      "Epoch 00029: early stopping\n"
     ]
    }
   ],
   "source": [
    "import tensorflow as tf\n",
    "\n",
    "# Run training on GPU\n",
    "with tf.device('/device:GPU:0'):\n",
    "    model.fit([X_train_search_term, X_train_product_title], y_train, epochs=epochs, batch_size=batch_size ,verbose=1, callbacks=[checkpoint, cb], validation_data=([X_val_search_term, X_val_product_title], y_val))"
   ]
  },
  {
   "cell_type": "code",
   "execution_count": 16,
   "metadata": {},
   "outputs": [],
   "source": [
    "model.save_weights('./model_data/' + 'final weights')\n",
    "model.save('./model_data/' + 'my_model.h5')"
   ]
  },
  {
   "cell_type": "code",
   "execution_count": 5,
   "metadata": {},
   "outputs": [
    {
     "output_type": "display_data",
     "data": {
      "text/plain": "   id  product_uid                    product_title    search_term  \\\n0   1       100001  simpson strong tie 12 gaug angl  degre bracket   \n1   4       100001  simpson strong tie 12 gaug angl  metal bracket   \n\n                                 product_description      MFG Brand Name  \\\n0  not only do angles make joints stronger , they...  simpson strong tie   \n1  not only do angles make joints stronger , they...  simpson strong tie   \n\n                                            Bullet02  \\\n0  stronger than angled nailing or screw fastenin...   \n1  stronger than angled nailing or screw fastenin...   \n\n                                            Bullet03  \\\n0  help ensure joints are consistently straight a...   \n1  help ensure joints are consistently straight a...   \n\n                               Bullet04  \\\n0  dimensions 3 in. x 3 in. x 1 1/2 in.   \n1  dimensions 3 in. x 3 in. x 1 1/2 in.   \n\n                                            Bullet01  ... Bullet08  \\\n0  versatile connector for various 90 connections...  ...            \n1  versatile connector for various 90 connections...  ...            \n\n  Certifications and Listings Bullet09 Assembled Height (in.)  \\\n0                                                               \n1                                                               \n\n  Assembled Width (in.) Assembled Depth (in.) Product Length (in.) Bullet10  \\\n0                                                                             \n1                                                                             \n\n  Indoor/Outdoor Bullet11  \n0                          \n1                          \n\n[2 rows x 30 columns]",
      "text/html": "<div>\n<style scoped>\n    .dataframe tbody tr th:only-of-type {\n        vertical-align: middle;\n    }\n\n    .dataframe tbody tr th {\n        vertical-align: top;\n    }\n\n    .dataframe thead th {\n        text-align: right;\n    }\n</style>\n<table border=\"1\" class=\"dataframe\">\n  <thead>\n    <tr style=\"text-align: right;\">\n      <th></th>\n      <th>id</th>\n      <th>product_uid</th>\n      <th>product_title</th>\n      <th>search_term</th>\n      <th>product_description</th>\n      <th>MFG Brand Name</th>\n      <th>Bullet02</th>\n      <th>Bullet03</th>\n      <th>Bullet04</th>\n      <th>Bullet01</th>\n      <th>...</th>\n      <th>Bullet08</th>\n      <th>Certifications and Listings</th>\n      <th>Bullet09</th>\n      <th>Assembled Height (in.)</th>\n      <th>Assembled Width (in.)</th>\n      <th>Assembled Depth (in.)</th>\n      <th>Product Length (in.)</th>\n      <th>Bullet10</th>\n      <th>Indoor/Outdoor</th>\n      <th>Bullet11</th>\n    </tr>\n  </thead>\n  <tbody>\n    <tr>\n      <th>0</th>\n      <td>1</td>\n      <td>100001</td>\n      <td>simpson strong tie 12 gaug angl</td>\n      <td>degre bracket</td>\n      <td>not only do angles make joints stronger , they...</td>\n      <td>simpson strong tie</td>\n      <td>stronger than angled nailing or screw fastenin...</td>\n      <td>help ensure joints are consistently straight a...</td>\n      <td>dimensions 3 in. x 3 in. x 1 1/2 in.</td>\n      <td>versatile connector for various 90 connections...</td>\n      <td>...</td>\n      <td></td>\n      <td></td>\n      <td></td>\n      <td></td>\n      <td></td>\n      <td></td>\n      <td></td>\n      <td></td>\n      <td></td>\n      <td></td>\n    </tr>\n    <tr>\n      <th>1</th>\n      <td>4</td>\n      <td>100001</td>\n      <td>simpson strong tie 12 gaug angl</td>\n      <td>metal bracket</td>\n      <td>not only do angles make joints stronger , they...</td>\n      <td>simpson strong tie</td>\n      <td>stronger than angled nailing or screw fastenin...</td>\n      <td>help ensure joints are consistently straight a...</td>\n      <td>dimensions 3 in. x 3 in. x 1 1/2 in.</td>\n      <td>versatile connector for various 90 connections...</td>\n      <td>...</td>\n      <td></td>\n      <td></td>\n      <td></td>\n      <td></td>\n      <td></td>\n      <td></td>\n      <td></td>\n      <td></td>\n      <td></td>\n      <td></td>\n    </tr>\n  </tbody>\n</table>\n<p>2 rows × 30 columns</p>\n</div>"
     },
     "metadata": {}
    },
    {
     "output_type": "stream",
     "name": "stdout",
     "text": [
      "5210/5210 [==============================] - 40s 7ms/step\n"
     ]
    }
   ],
   "source": [
    "import pandas as pd\n",
    "from tensorflow.keras.models import load_model\n",
    "\n",
    "test = pd.read_csv('test_cleaned.csv')\n",
    "test.fillna('',inplace=True)\n",
    "display(test.head(2))\n",
    "X_test_search_term, X_test_product_title = test['search_term'].to_list(), test['product_title'].to_list()\n",
    "\n",
    "X_test_search_term = vectorizer_search_term(X_test_search_term).numpy()\n",
    "X_test_product_title = vectorizer_search_term(X_test_product_title).numpy()\n",
    "\n",
    "model = load_model('./model_data/' + \"my_model.h5\")\n",
    "\n",
    "predictions = model.predict([X_test_search_term, X_test_product_title], verbose=1)"
   ]
  },
  {
   "cell_type": "code",
   "execution_count": 9,
   "metadata": {},
   "outputs": [
    {
     "output_type": "stream",
     "name": "stdout",
     "text": [
      "3.0\n1.2510374\n"
     ]
    }
   ],
   "source": [
    "predictions = predictions / predictions.max() * 3\n",
    "print(predictions.max())\n",
    "print(predictions.min())"
   ]
  },
  {
   "cell_type": "code",
   "execution_count": 10,
   "metadata": {},
   "outputs": [
    {
     "output_type": "display_data",
     "data": {
      "text/plain": "   id  product_uid                    product_title             search_term  \\\n0   1       100001  simpson strong tie 12 gaug angl           degre bracket   \n1   4       100001  simpson strong tie 12 gaug angl           metal bracket   \n2   5       100001  simpson strong tie 12 gaug angl         simpson ski abl   \n3   6       100001  simpson strong tie 12 gaug angl      simpson strong tie   \n4   7       100001  simpson strong tie 12 gaug angl  simpson strong tie acc   \n\n                                 product_description      MFG Brand Name  \\\n0  not only do angles make joints stronger , they...  simpson strong tie   \n1  not only do angles make joints stronger , they...  simpson strong tie   \n2  not only do angles make joints stronger , they...  simpson strong tie   \n3  not only do angles make joints stronger , they...  simpson strong tie   \n4  not only do angles make joints stronger , they...  simpson strong tie   \n\n                                            Bullet02  \\\n0  stronger than angled nailing or screw fastenin...   \n1  stronger than angled nailing or screw fastenin...   \n2  stronger than angled nailing or screw fastenin...   \n3  stronger than angled nailing or screw fastenin...   \n4  stronger than angled nailing or screw fastenin...   \n\n                                            Bullet03  \\\n0  help ensure joints are consistently straight a...   \n1  help ensure joints are consistently straight a...   \n2  help ensure joints are consistently straight a...   \n3  help ensure joints are consistently straight a...   \n4  help ensure joints are consistently straight a...   \n\n                               Bullet04  \\\n0  dimensions 3 in. x 3 in. x 1 1/2 in.   \n1  dimensions 3 in. x 3 in. x 1 1/2 in.   \n2  dimensions 3 in. x 3 in. x 1 1/2 in.   \n3  dimensions 3 in. x 3 in. x 1 1/2 in.   \n4  dimensions 3 in. x 3 in. x 1 1/2 in.   \n\n                                            Bullet01  ...  \\\n0  versatile connector for various 90 connections...  ...   \n1  versatile connector for various 90 connections...  ...   \n2  versatile connector for various 90 connections...  ...   \n3  versatile connector for various 90 connections...  ...   \n4  versatile connector for various 90 connections...  ...   \n\n  Certifications and Listings Bullet09 Assembled Height (in.)  \\\n0                                                               \n1                                                               \n2                                                               \n3                                                               \n4                                                               \n\n  Assembled Width (in.) Assembled Depth (in.) Product Length (in.) Bullet10  \\\n0                                                                             \n1                                                                             \n2                                                                             \n3                                                                             \n4                                                                             \n\n  Indoor/Outdoor Bullet11 relevance  \n0                          2.162010  \n1                          2.158765  \n2                          1.843243  \n3                          2.319182  \n4                          2.344798  \n\n[5 rows x 31 columns]",
      "text/html": "<div>\n<style scoped>\n    .dataframe tbody tr th:only-of-type {\n        vertical-align: middle;\n    }\n\n    .dataframe tbody tr th {\n        vertical-align: top;\n    }\n\n    .dataframe thead th {\n        text-align: right;\n    }\n</style>\n<table border=\"1\" class=\"dataframe\">\n  <thead>\n    <tr style=\"text-align: right;\">\n      <th></th>\n      <th>id</th>\n      <th>product_uid</th>\n      <th>product_title</th>\n      <th>search_term</th>\n      <th>product_description</th>\n      <th>MFG Brand Name</th>\n      <th>Bullet02</th>\n      <th>Bullet03</th>\n      <th>Bullet04</th>\n      <th>Bullet01</th>\n      <th>...</th>\n      <th>Certifications and Listings</th>\n      <th>Bullet09</th>\n      <th>Assembled Height (in.)</th>\n      <th>Assembled Width (in.)</th>\n      <th>Assembled Depth (in.)</th>\n      <th>Product Length (in.)</th>\n      <th>Bullet10</th>\n      <th>Indoor/Outdoor</th>\n      <th>Bullet11</th>\n      <th>relevance</th>\n    </tr>\n  </thead>\n  <tbody>\n    <tr>\n      <th>0</th>\n      <td>1</td>\n      <td>100001</td>\n      <td>simpson strong tie 12 gaug angl</td>\n      <td>degre bracket</td>\n      <td>not only do angles make joints stronger , they...</td>\n      <td>simpson strong tie</td>\n      <td>stronger than angled nailing or screw fastenin...</td>\n      <td>help ensure joints are consistently straight a...</td>\n      <td>dimensions 3 in. x 3 in. x 1 1/2 in.</td>\n      <td>versatile connector for various 90 connections...</td>\n      <td>...</td>\n      <td></td>\n      <td></td>\n      <td></td>\n      <td></td>\n      <td></td>\n      <td></td>\n      <td></td>\n      <td></td>\n      <td></td>\n      <td>2.162010</td>\n    </tr>\n    <tr>\n      <th>1</th>\n      <td>4</td>\n      <td>100001</td>\n      <td>simpson strong tie 12 gaug angl</td>\n      <td>metal bracket</td>\n      <td>not only do angles make joints stronger , they...</td>\n      <td>simpson strong tie</td>\n      <td>stronger than angled nailing or screw fastenin...</td>\n      <td>help ensure joints are consistently straight a...</td>\n      <td>dimensions 3 in. x 3 in. x 1 1/2 in.</td>\n      <td>versatile connector for various 90 connections...</td>\n      <td>...</td>\n      <td></td>\n      <td></td>\n      <td></td>\n      <td></td>\n      <td></td>\n      <td></td>\n      <td></td>\n      <td></td>\n      <td></td>\n      <td>2.158765</td>\n    </tr>\n    <tr>\n      <th>2</th>\n      <td>5</td>\n      <td>100001</td>\n      <td>simpson strong tie 12 gaug angl</td>\n      <td>simpson ski abl</td>\n      <td>not only do angles make joints stronger , they...</td>\n      <td>simpson strong tie</td>\n      <td>stronger than angled nailing or screw fastenin...</td>\n      <td>help ensure joints are consistently straight a...</td>\n      <td>dimensions 3 in. x 3 in. x 1 1/2 in.</td>\n      <td>versatile connector for various 90 connections...</td>\n      <td>...</td>\n      <td></td>\n      <td></td>\n      <td></td>\n      <td></td>\n      <td></td>\n      <td></td>\n      <td></td>\n      <td></td>\n      <td></td>\n      <td>1.843243</td>\n    </tr>\n    <tr>\n      <th>3</th>\n      <td>6</td>\n      <td>100001</td>\n      <td>simpson strong tie 12 gaug angl</td>\n      <td>simpson strong tie</td>\n      <td>not only do angles make joints stronger , they...</td>\n      <td>simpson strong tie</td>\n      <td>stronger than angled nailing or screw fastenin...</td>\n      <td>help ensure joints are consistently straight a...</td>\n      <td>dimensions 3 in. x 3 in. x 1 1/2 in.</td>\n      <td>versatile connector for various 90 connections...</td>\n      <td>...</td>\n      <td></td>\n      <td></td>\n      <td></td>\n      <td></td>\n      <td></td>\n      <td></td>\n      <td></td>\n      <td></td>\n      <td></td>\n      <td>2.319182</td>\n    </tr>\n    <tr>\n      <th>4</th>\n      <td>7</td>\n      <td>100001</td>\n      <td>simpson strong tie 12 gaug angl</td>\n      <td>simpson strong tie acc</td>\n      <td>not only do angles make joints stronger , they...</td>\n      <td>simpson strong tie</td>\n      <td>stronger than angled nailing or screw fastenin...</td>\n      <td>help ensure joints are consistently straight a...</td>\n      <td>dimensions 3 in. x 3 in. x 1 1/2 in.</td>\n      <td>versatile connector for various 90 connections...</td>\n      <td>...</td>\n      <td></td>\n      <td></td>\n      <td></td>\n      <td></td>\n      <td></td>\n      <td></td>\n      <td></td>\n      <td></td>\n      <td></td>\n      <td>2.344798</td>\n    </tr>\n  </tbody>\n</table>\n<p>5 rows × 31 columns</p>\n</div>"
     },
     "metadata": {}
    }
   ],
   "source": [
    "test['relevance'] = predictions\n",
    "display(test.head(5))\n",
    "\n",
    "test[['id','relevance']].to_csv('submission.csv',index=False)"
   ]
  },
  {
   "cell_type": "code",
   "execution_count": null,
   "metadata": {},
   "outputs": [],
   "source": []
  },
  {
   "cell_type": "code",
   "execution_count": null,
   "metadata": {},
   "outputs": [],
   "source": [
    "# import tensorflow as tf\n",
    "# import tensorflow_hub as hub\n",
    "# from tqdm import tqdm\n",
    "# import numpy as np\n",
    "# embed = hub.load(\"https://tfhub.dev/google/universal-sentence-encoder/4\")\n",
    "# from tensorflow.keras.preprocessing.sequence import pad_sequences\n",
    "\n",
    "# words_search_term = [t.split(' ') for t in df_train_complete_modified['search_term']]\n",
    "# max_length_search_term = max(len(w) for w in words_search_term)\n",
    "# embeddings_search_term = [embed(w).numpy() for w in tqdm(words_search_term)]\n",
    "# missing_search_term = [max_length_search_term - e.shape[0] for e in embeddings_search_term]\n",
    "\n",
    "# # padding = [0] * 512\n",
    "# # for i, m in enumerate(tqdm(missing_search_term)):\n",
    "# #     if m == 0:\n",
    "# #         continue\n",
    "# #     embeddings_search_term[i] = np.concatenate([embeddings_search_term[i], np.array([padding] * m)])\n",
    "# embeddings_search_term = pad_sequences(embeddings_search_term,maxlen=max_length_search_term,padding='post',value=0.0)\n",
    "\n",
    "# embeddings_search_term = np.array(embeddings_search_term)\n",
    "# print(embeddings_search_term.shape) #(74067, 10, 512)\n",
    "# #------------------------------------------------------------------------------------------------------------------------------\n",
    "# words_product_title = [t.split(' ') for t in df_train_complete_modified['product_title']]\n",
    "# max_length_product_title = max(len(w) for w in words_product_title)\n",
    "# embeddings_product_title = [embed(w).numpy() for w in tqdm(words_product_title)]\n",
    "# missing_product_title = [max_length_product_title - e.shape[0] for e in embeddings_product_title]\n",
    "\n",
    "# padding = [0] * 512\n",
    "# for i, m in enumerate(tqdm(missing_product_title)):\n",
    "#     if m == 0:\n",
    "#         continue\n",
    "#     embeddings_product_title[i] = np.concatenate([embeddings_product_title[i], np.array([padding] * m)])\n",
    "\n",
    "# embeddings_product_title = np.array(embeddings_product_title)\n",
    "# print(embeddings_product_title.shape) #(74067, 29, 512)\n",
    "# #------------------------------------------------------------------------------------------------------------------------------\n",
    "# #y = df_train_complete_modified['relevance'].round().astype(int).tolist()\n",
    "# y = df_train_complete_modified['relevance'].tolist()\n",
    "# print(len(y))"
   ]
  }
 ],
 "metadata": {
  "colab": {
   "authorship_tag": "ABX9TyOW/Yrtpbb/U7oxo2ECILeT",
   "collapsed_sections": [
    "M2Yb5wSkJuVR"
   ],
   "mount_file_id": "1yUC1b0OPk8gG9FDDuY6K3JpHvZGgIx1d",
   "name": "homeDepot.ipynb",
   "provenance": []
  },
  "kernelspec": {
   "display_name": "Python 3",
   "language": "python",
   "name": "python3"
  },
  "language_info": {
   "codemirror_mode": {
    "name": "ipython",
    "version": 3
   },
   "file_extension": ".py",
   "mimetype": "text/x-python",
   "name": "python",
   "nbconvert_exporter": "python",
   "pygments_lexer": "ipython3",
   "version": "3.7.9-final"
  }
 },
 "nbformat": 4,
 "nbformat_minor": 4
}