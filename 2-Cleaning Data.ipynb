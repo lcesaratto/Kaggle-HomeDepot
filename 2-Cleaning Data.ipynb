{
 "metadata": {
  "language_info": {
   "codemirror_mode": {
    "name": "ipython",
    "version": 3
   },
   "file_extension": ".py",
   "mimetype": "text/x-python",
   "name": "python",
   "nbconvert_exporter": "python",
   "pygments_lexer": "ipython3",
   "version": "3.7.9-final"
  },
  "orig_nbformat": 2,
  "kernelspec": {
   "name": "python3",
   "display_name": "Python 3",
   "language": "python"
  }
 },
 "nbformat": 4,
 "nbformat_minor": 2,
 "cells": [
  {
   "source": [
    "# Load Train set"
   ],
   "cell_type": "markdown",
   "metadata": {}
  },
  {
   "cell_type": "code",
   "execution_count": 4,
   "metadata": {},
   "outputs": [],
   "source": [
    "import pandas as pd\n",
    "\n",
    "train = pd.read_csv('data/train.csv', encoding=\"ISO-8859-1\")\n",
    "product_descriptions_with_attributes = pd.read_csv('product_descriptions_with_attributes.csv')\n",
    "train = pd.merge(train , product_descriptions_with_attributes , how='left', on=['product_uid'])\n",
    "X_train, y_train = train.loc[:, train.columns != 'relevance'], train['relevance']"
   ]
  },
  {
   "source": [
    "# Cleaning Pipeline"
   ],
   "cell_type": "markdown",
   "metadata": {}
  },
  {
   "cell_type": "code",
   "execution_count": 8,
   "metadata": {},
   "outputs": [
    {
     "output_type": "stream",
     "name": "stdout",
     "text": [
      "           id product_uid                                      product_title  \\\n0           2      100001                    simpson strong tie 12 gaug angl   \n1           3      100001                    simpson strong tie 12 gaug angl   \n2           9      100002  behr premium textur deckov 1gal sc 141 tugboat...   \n3          16      100005  delta vero 1 handl shower onli faucet trim kit...   \n4          17      100005  delta vero 1 handl shower onli faucet trim kit...   \n...       ...         ...                                                ...   \n74062  221457      206638  atlant windowpan 576 cd 192 dvd blu ray game m...   \n74063  221458      206639  philip 40 watt halogen r20 flood light bulb 12...   \n74064  221463      206641  schlage camelot activ age bronz handleset left...   \n74065  221471      206648   plastec 11in x 24in rose garden wall decor steel   \n74066  221473      206650  lichtenberg pool blue 918 millenni ryan heathe...   \n\n                              search_term  \\\n0                            angl bracket   \n1                                 bracket   \n2                                    deck   \n3                        rain shower head   \n4                      shower onli faucet   \n...                                   ...   \n74062                         riser glass   \n74063                       halogen light   \n74064  sch age lock siena half dummi knob   \n74065                    zen garden decor   \n74066             fine sheer curtain inch   \n\n                                     product_description  \\\n0      not only do angles make joints stronger , they...   \n1      not only do angles make joints stronger , they...   \n2      behr premium textured deckover is an innovativ...   \n3      update your bathroom with the delta vero singl...   \n4      update your bathroom with the delta vero singl...   \n...                                                  ...   \n74062  atlantic , inc. 94835722 uniquely designed for...   \n74063  philips energy advantage lamps use less energy...   \n74064  the schlage camelot in active aged bronze hand...   \n74065  the rose garden is inspired by the popular ear...   \n74066  no. 918 millennial ryan heathered texture semi...   \n\n                       MFG Brand Name  \\\n0                  simpson strong tie   \n1                  simpson strong tie   \n2      behr premium textured deckover   \n3                               delta   \n4                               delta   \n...                               ...   \n74062                        atlantic   \n74063                         philips   \n74064                         schlage   \n74065                         plastec   \n74066                     lichtenberg   \n\n                                                Bullet02  \\\n0      stronger than angled nailing or screw fastenin...   \n1      stronger than angled nailing or screw fastenin...   \n2                        100 acrylic solid color coating   \n3                                    includes the handle   \n4                                    includes the handle   \n...                                                  ...   \n74062                             tempered glass windows   \n74063  estimated yearly energy cost 4.82 \\( based on ...   \n74064  adjustable throughbolt can move up and down 1 ...   \n74065                finished in dark bronze powder coat   \n74066                           no header pole top panel   \n\n                                                Bullet03  \\\n0      help ensure joints are consistently straight a...   \n1      help ensure joints are consistently straight a...   \n2      resists cracking and peeling and conceals spli...   \n3      maintains a balanced pressure of hot and cold ...   \n4      maintains a balanced pressure of hot and cold ...   \n...                                                  ...   \n74062  adjustable shelves for optimal media storage c...   \n74063      life hours 2.7 years \\( based on 3 hrs/day \\)   \n74064  self aligning screw holes make installation ea...   \n74065                   stylized roses have broad appeal   \n74066                                   machine washable   \n\n                                                Bullet04  \\\n0                   dimensions 3 in. x 3 in. x 1 1/2 in.   \n1                   dimensions 3 in. x 3 in. x 1 1/2 in.   \n2           provides a durable , mildew resistant finish   \n3      due to watersense regulations in the state of ...   \n4      due to watersense regulations in the state of ...   \n...                                                  ...   \n74062  thick base and frame provide greater stability...   \n74063            light appearance 2700k \\( soft white \\)   \n74064  latch retracted by thumbpiece from outside or ...   \n74065                               great for all decors   \n74066                wide array of colors to choose from   \n\n                                                Bullet01  ...  \\\n0      versatile connector for various 90 connections...  ...   \n1      versatile connector for various 90 connections...  ...   \n2      revives wood and composite decks , railings , ...  ...   \n3      includes the trim kit only , the rough in kit ...  ...   \n4      includes the trim kit only , the rough in kit ...  ...   \n...                                                  ...  ...   \n74062           holds 216 blu rays , 192 dvds or 576 cds  ...   \n74063                              brightness 590 lumens  ...   \n74064               use with 1 5/8 in. to 1 3/4 in. door  ...   \n74065                             indoor and outdoor use  ...   \n74066                 sheer panel , gently filters light  ...   \n\n                                                Bullet08  \\\n0                                                    nan   \n1                                                    nan   \n2      actual paint colors may vary from on screen an...   \n3                                                    nan   \n4                                                    nan   \n...                                                  ...   \n74062                                                nan   \n74063                                                nan   \n74064  lock and finish backed by limited lifetime war...   \n74065                                                nan   \n74066                                                nan   \n\n                           Certifications and Listings  \\\n0                                                  nan   \n1                                                  nan   \n2                                                  nan   \n3      ada compliant , csa certified , iapmo certified   \n4      ada compliant , csa certified , iapmo certified   \n...                                                ...   \n74062                                              nan   \n74063                                              nan   \n74064                    no certifications or listings   \n74065                                              nan   \n74066                                              nan   \n\n                                              Bullet09 Assembled Height (in.)  \\\n0                                                  nan                    nan   \n1                                                  nan                    nan   \n2                                                  nan                7.76 in   \n3                                                  nan                    nan   \n4                                                  nan                    nan   \n...                                                ...                    ...   \n74062                                              nan                  49 in   \n74063                                              nan                    nan   \n74064  fits 1 3/8 in. to 1 3/4 in. wood or metal doors                12.9 in   \n74065                                              nan                    nan   \n74066                                              nan                  63 in   \n\n      Assembled Width (in.) Assembled Depth (in.) Product Length (in.)  \\\n0                       nan                   nan                  nan   \n1                       nan                   nan                  nan   \n2                   6.63 in               6.63 in                  nan   \n3                       nan                   nan                  nan   \n4                       nan                   nan                  nan   \n...                     ...                   ...                  ...   \n74062                 32 in                9.5 in                  nan   \n74063                   nan                   nan                  nan   \n74064                  3 in                2.9 in                  nan   \n74065                   nan                   nan                  nan   \n74066                 40 in                 .1 in                   63   \n\n                                           Bullet10  Indoor/Outdoor Bullet11  \n0                                               nan             nan      nan  \n1                                               nan             nan      nan  \n2      colors available to be tinted in most stores             nan      nan  \n3                                               nan             nan      nan  \n4                                               nan             nan      nan  \n...                                             ...             ...      ...  \n74062                                           nan             nan      nan  \n74063                                           nan          indoor      nan  \n74064                                           nan             nan      nan  \n74065                                           nan  indoor/outdoor      nan  \n74066                                           nan          indoor      nan  \n\n[74067 rows x 30 columns]\n"
     ]
    }
   ],
   "source": [
    "from sklearn.pipeline import Pipeline\n",
    "from sklearn.base import BaseEstimator, TransformerMixin\n",
    "from sklearn.feature_extraction.text import TfidfVectorizer\n",
    "import numpy as np\n",
    "import re\n",
    "from tqdm import tqdm\n",
    "import pkg_resources\n",
    "from symspellpy import SymSpell, Verbosity\n",
    "from nltk.stem.porter import *\n",
    "from nltk.corpus import stopwords\n",
    "import nltk\n",
    "import string\n",
    "\n",
    "class OverallStringClean(BaseEstimator, TransformerMixin):\n",
    "    def clean_str(self, string):\n",
    "        #string = re.sub(r\"[^A-Za-z0-9(),!?\\'\\`]\", \" \", string)\n",
    "        string = re.sub(r\"[^A-Za-z0-9/.(),!?\\'\\`]\", \" \", string)\n",
    "        string = re.sub(r\"\\'s\", \" \\'s\", string)\n",
    "        string = re.sub(r\"\\'ve\", \" \\'ve\", string)\n",
    "        string = re.sub(r\"n\\'t\", \" n\\'t\", string)\n",
    "        string = re.sub(r\"\\'re\", \" \\'re\", string)\n",
    "        string = re.sub(r\"\\'d\", \" \\'d\", string)\n",
    "        string = re.sub(r\"\\'ll\", \" \\'ll\", string)\n",
    "        string = re.sub(r\",\", \" , \", string)\n",
    "        string = re.sub(r\"!\", \" ! \", string)\n",
    "        string = re.sub(r\"\\(\", \" \\( \", string)\n",
    "        string = re.sub(r\"\\)\", \" \\) \", string)\n",
    "        string = re.sub(r\"\\?\", \" \\? \", string)\n",
    "        string = re.sub(r\"\\s{2,}\", \" \", string)\n",
    "        #string = ''.join([i for i in string if not i.isdigit()])\n",
    "        return string.strip().lower()\n",
    "    def fit(self, X, y=None):\n",
    "        return self\n",
    "    def transform(self, X, y=None):\n",
    "        for column in X_train.columns:\n",
    "            X[column] = X[column].map(lambda x:self.clean_str(str(x)))\n",
    "        return X\n",
    "\n",
    "class CheckSpell(BaseEstimator, TransformerMixin):\n",
    "    def __init__(self):\n",
    "        self.sym_spell = SymSpell(max_dictionary_edit_distance=2, prefix_length=7)\n",
    "        dictionary_path = pkg_resources.resource_filename(\"symspellpy\", \"frequency_dictionary_en_82_765.txt\")\n",
    "        bigram_path = pkg_resources.resource_filename(\"symspellpy\", \"frequency_bigramdictionary_en_243_342.txt\")\n",
    "        self.sym_spell.load_dictionary(dictionary_path, term_index=0, count_index=1)\n",
    "        self.sym_spell.load_bigram_dictionary(bigram_path, term_index=0, count_index=2)\n",
    "    def check_spell(self, input_term):\n",
    "        suggestions = self.sym_spell.lookup_compound(input_term, max_edit_distance=2)\n",
    "        # pbar.update()\n",
    "        return suggestions[0]._term\n",
    "    def fit(self, X, y=None):\n",
    "        return self\n",
    "    def transform(self, X, y=None):\n",
    "        # pbar = tqdm(total=len(X['search_term']))\n",
    "        X['search_term'] = X['search_term'].map(self.check_spell)\n",
    "        # pbar.close()\n",
    "        return X\n",
    "\n",
    "class StemmingUnitsSpecialCharacters(BaseEstimator, TransformerMixin):\n",
    "    def __init__(self):\n",
    "        self.stemmer = PorterStemmer()\n",
    "    def str_stem(self, s): \n",
    "        if isinstance(s, str):\n",
    "            s = re.sub(r\"([0-9])( *)\\.( *)([0-9])\", r\"\\1.\\4\", s)\n",
    "            s = re.sub(r\"([0-9]+)( *)(inches|inch|in|')\\.?\", r\"\\1in. \", s)\n",
    "            s = re.sub(r\"([0-9]+)( *)(foot|feet|ft|'')\\.?\", r\"\\1ft. \", s)\n",
    "            s = re.sub(r\"([0-9]+)( *)(pounds|pound|lbs|lb)\\.?\", r\"\\1lb. \", s)\n",
    "            s = re.sub(r\"([0-9]+)( *)(square|sq) ?\\.?(feet|foot|ft)\\.?\", r\"\\1sq.ft. \", s)\n",
    "            s = re.sub(r\"([0-9]+)( *)(cubic|cu) ?\\.?(feet|foot|ft)\\.?\", r\"\\1cu.ft. \", s)\n",
    "            s = re.sub(r\"([0-9]+)( *)(gallons|gallon|gal)\\.?\", r\"\\1gal. \", s)\n",
    "            s = re.sub(r\"([0-9]+)( *)(ounces|ounce|oz)\\.?\", r\"\\1oz. \", s)\n",
    "            s = re.sub(r\"([0-9]+)( *)(centimeters|cm)\\.?\", r\"\\1cm. \", s)\n",
    "            s = re.sub(r\"([0-9]+)( *)(milimeters|mm)\\.?\", r\"\\1mm. \", s)\n",
    "            s = re.sub(r\"([0-9]+)( *)(°|degrees|degree)\\.?\", r\"\\1 deg. \", s)\n",
    "            s = re.sub(r\"([0-9]+)( *)(v|volts|volt)\\.?\", r\"\\1 volt. \", s)\n",
    "            s = re.sub(r\"([0-9]+)( *)(wattage|watts|watt)\\.?\", r\"\\1 watt. \", s)\n",
    "            s = re.sub(r\"([0-9]+)( *)(amperes|ampere|amps|amp)\\.?\", r\"\\1 amp. \", s)\n",
    "            s = re.sub(r\"([0-9]+)( *)(qquart|quart)\\.?\", r\"\\1 qt. \", s)\n",
    "            s = re.sub(r\"([0-9]+)( *)(hours|hour|hrs.)\\.?\", r\"\\1 hr \", s)\n",
    "            s = re.sub(r\"([0-9]+)( *)(gallons per minute|gallon per minute|gal per minute|gallons/min.|gallons/min)\\.?\", r\"\\1 gal. per min. \", s)\n",
    "            s = re.sub(r\"([0-9]+)( *)(gallons per hour|gallon per hour|gal per hour|gallons/hour|gallons/hr)\\.?\", r\"\\1 gal. per hr \", s)\n",
    "            # Deal with special characters\n",
    "            s = s.replace(\"$\",\" \")\n",
    "            s = s.replace(\"?\",\" \")\n",
    "            s = s.replace(\"&nbsp;\",\" \")\n",
    "            s = s.replace(\"&amp;\",\"&\")\n",
    "            s = s.replace(\"&#39;\",\"'\")\n",
    "            s = s.replace(\"/>/Agt/>\",\"\")\n",
    "            s = s.replace(\"</a<gt/\",\"\")\n",
    "            s = s.replace(\"gt/>\",\"\")\n",
    "            s = s.replace(\"/>\",\"\")\n",
    "            s = s.replace(\"<br\",\"\")\n",
    "            s = s.replace(\"<.+?>\",\"\")\n",
    "            s = s.replace(\"[ &<>)(_,;:!?\\+^~@#\\$]+\",\" \")\n",
    "            s = s.replace(\"'s\\\\b\",\"\")\n",
    "            s = s.replace(\"[']+\",\"\")\n",
    "            s = s.replace(\"[\\\"]+\",\"\")\n",
    "            s = s.replace(\"-\",\" \")\n",
    "            s = s.replace(\"+\",\" \")\n",
    "            # Remove text between paranthesis/brackets)\n",
    "            s = s.replace(\"[ ]?[[(].+?[])]\",\"\")\n",
    "            # remove sizes\n",
    "            s = s.replace(\"size: .+$\",\"\")\n",
    "            s = s.replace(\"size [0-9]+[.]?[0-9]+\\\\b\",\"\")\n",
    "            \n",
    "            return \" \".join([self.stemmer.stem(re.sub('[^A-Za-z0-9-./]', ' ', word)) for word in s.lower().split()])\n",
    "        else:\n",
    "            return \"null\"\n",
    "    def fit(self, X, y=None):\n",
    "        return self\n",
    "    def transform(self, X, y=None):\n",
    "        X['product_title'] = X['product_title'].apply(self.str_stem)\n",
    "        X['search_term'] = X['search_term'].apply(self.str_stem)\n",
    "        return X\n",
    "\n",
    "class RemoveStopwords(BaseEstimator, TransformerMixin):\n",
    "    def __init__(self):\n",
    "        nltk.data.path.append(\"./\")\n",
    "        self.stopwords = stopwords.words('english')\n",
    "    def clean_puntuation_stopwords(self, text):\n",
    "        text = ''.join([word for word in text if word not in string.punctuation])\n",
    "        text = text.lower()\n",
    "        text = ' '.join([word for word in text.split() if word not in self.stopwords])\n",
    "        return text\n",
    "    def fit(self, X, y=None):\n",
    "        return self\n",
    "    def transform(self, X, y=None):\n",
    "        X['product_title'] = X['product_title'].apply(self.clean_puntuation_stopwords)\n",
    "        X['search_term'] = X['search_term'].apply(self.clean_puntuation_stopwords)\n",
    "        return X\n",
    "\n",
    "clean_pipeline = Pipeline([\n",
    "    (\"overall_string_clean\", OverallStringClean()),\n",
    "    (\"spellchecker\", CheckSpell()),\n",
    "    ('stem_units_and_special_characters', StemmingUnitsSpecialCharacters()),\n",
    "    (\"remove_stopwords\", RemoveStopwords())\n",
    "])\n",
    "\n",
    "X_train_prep = clean_pipeline.fit_transform(X_train,y_train)\n",
    "display(X_train_prep.head(5))"
   ]
  },
  {
   "cell_type": "code",
   "execution_count": 17,
   "metadata": {},
   "outputs": [
    {
     "output_type": "display_data",
     "data": {
      "text/plain": "  id product_uid                    product_title   search_term  \\\n0  2      100001  simpson strong tie 12 gaug angl  angl bracket   \n1  3      100001  simpson strong tie 12 gaug angl       bracket   \n\n                                 product_description      MFG Brand Name  \\\n0  not only do angles make joints stronger , they...  simpson strong tie   \n1  not only do angles make joints stronger , they...  simpson strong tie   \n\n                                            Bullet02  \\\n0  stronger than angled nailing or screw fastenin...   \n1  stronger than angled nailing or screw fastenin...   \n\n                                            Bullet03  \\\n0  help ensure joints are consistently straight a...   \n1  help ensure joints are consistently straight a...   \n\n                               Bullet04  \\\n0  dimensions 3 in. x 3 in. x 1 1/2 in.   \n1  dimensions 3 in. x 3 in. x 1 1/2 in.   \n\n                                            Bullet01  ...  \\\n0  versatile connector for various 90 connections...  ...   \n1  versatile connector for various 90 connections...  ...   \n\n  Certifications and Listings Bullet09 Assembled Height (in.)  \\\n0                         nan      nan                    nan   \n1                         nan      nan                    nan   \n\n  Assembled Width (in.) Assembled Depth (in.) Product Length (in.) Bullet10  \\\n0                   nan                   nan                  nan      nan   \n1                   nan                   nan                  nan      nan   \n\n  Indoor/Outdoor Bullet11 relevance  \n0            nan      nan       3.0  \n1            nan      nan       2.5  \n\n[2 rows x 31 columns]",
      "text/html": "<div>\n<style scoped>\n    .dataframe tbody tr th:only-of-type {\n        vertical-align: middle;\n    }\n\n    .dataframe tbody tr th {\n        vertical-align: top;\n    }\n\n    .dataframe thead th {\n        text-align: right;\n    }\n</style>\n<table border=\"1\" class=\"dataframe\">\n  <thead>\n    <tr style=\"text-align: right;\">\n      <th></th>\n      <th>id</th>\n      <th>product_uid</th>\n      <th>product_title</th>\n      <th>search_term</th>\n      <th>product_description</th>\n      <th>MFG Brand Name</th>\n      <th>Bullet02</th>\n      <th>Bullet03</th>\n      <th>Bullet04</th>\n      <th>Bullet01</th>\n      <th>...</th>\n      <th>Certifications and Listings</th>\n      <th>Bullet09</th>\n      <th>Assembled Height (in.)</th>\n      <th>Assembled Width (in.)</th>\n      <th>Assembled Depth (in.)</th>\n      <th>Product Length (in.)</th>\n      <th>Bullet10</th>\n      <th>Indoor/Outdoor</th>\n      <th>Bullet11</th>\n      <th>relevance</th>\n    </tr>\n  </thead>\n  <tbody>\n    <tr>\n      <th>0</th>\n      <td>2</td>\n      <td>100001</td>\n      <td>simpson strong tie 12 gaug angl</td>\n      <td>angl bracket</td>\n      <td>not only do angles make joints stronger , they...</td>\n      <td>simpson strong tie</td>\n      <td>stronger than angled nailing or screw fastenin...</td>\n      <td>help ensure joints are consistently straight a...</td>\n      <td>dimensions 3 in. x 3 in. x 1 1/2 in.</td>\n      <td>versatile connector for various 90 connections...</td>\n      <td>...</td>\n      <td>nan</td>\n      <td>nan</td>\n      <td>nan</td>\n      <td>nan</td>\n      <td>nan</td>\n      <td>nan</td>\n      <td>nan</td>\n      <td>nan</td>\n      <td>nan</td>\n      <td>3.0</td>\n    </tr>\n    <tr>\n      <th>1</th>\n      <td>3</td>\n      <td>100001</td>\n      <td>simpson strong tie 12 gaug angl</td>\n      <td>bracket</td>\n      <td>not only do angles make joints stronger , they...</td>\n      <td>simpson strong tie</td>\n      <td>stronger than angled nailing or screw fastenin...</td>\n      <td>help ensure joints are consistently straight a...</td>\n      <td>dimensions 3 in. x 3 in. x 1 1/2 in.</td>\n      <td>versatile connector for various 90 connections...</td>\n      <td>...</td>\n      <td>nan</td>\n      <td>nan</td>\n      <td>nan</td>\n      <td>nan</td>\n      <td>nan</td>\n      <td>nan</td>\n      <td>nan</td>\n      <td>nan</td>\n      <td>nan</td>\n      <td>2.5</td>\n    </tr>\n  </tbody>\n</table>\n<p>2 rows × 31 columns</p>\n</div>"
     },
     "metadata": {}
    }
   ],
   "source": [
    "train = pd.concat([X_train_prep , y_train],axis=1)\n",
    "display(train.head(2))"
   ]
  },
  {
   "cell_type": "code",
   "execution_count": 18,
   "metadata": {},
   "outputs": [],
   "source": [
    "train.to_csv('train_cleaned.csv',index=False)"
   ]
  },
  {
   "source": [
    "# Clean test set"
   ],
   "cell_type": "markdown",
   "metadata": {}
  },
  {
   "cell_type": "code",
   "execution_count": 20,
   "metadata": {},
   "outputs": [],
   "source": [
    "import pandas as pd\n",
    "\n",
    "X_test = pd.read_csv('data/test.csv', encoding=\"ISO-8859-1\")\n",
    "product_descriptions_with_attributes = pd.read_csv('product_descriptions_with_attributes.csv')\n",
    "X_test = pd.merge(X_test , product_descriptions_with_attributes , how='left', on=['product_uid'])\n",
    "\n",
    "X_test_prep = clean_pipeline.transform(X_test)\n",
    "\n",
    "X_test_prep.to_csv('test_cleaned.csv', index=False)"
   ]
  }
 ]
}