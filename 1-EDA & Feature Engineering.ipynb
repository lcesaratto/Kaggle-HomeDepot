{
 "metadata": {
  "language_info": {
   "codemirror_mode": {
    "name": "ipython",
    "version": 3
   },
   "file_extension": ".py",
   "mimetype": "text/x-python",
   "name": "python",
   "nbconvert_exporter": "python",
   "pygments_lexer": "ipython3",
   "version": "3.7.9-final"
  },
  "orig_nbformat": 2,
  "kernelspec": {
   "name": "python3",
   "display_name": "Python 3",
   "language": "python"
  }
 },
 "nbformat": 4,
 "nbformat_minor": 2,
 "cells": [
  {
   "source": [
    "## Extract files"
   ],
   "cell_type": "markdown",
   "metadata": {}
  },
  {
   "cell_type": "code",
   "execution_count": 15,
   "metadata": {},
   "outputs": [],
   "source": [
    "import os\n",
    "from zipfile import ZipFile\n",
    "\n",
    "def unzip_all_files_in_dir(data_path='data/'):\n",
    "    last_files_zip = []\n",
    "    while True:\n",
    "        files_zip = [file for file in os.listdir(data_path) if file.endswith('.zip')]\n",
    "        if files_zip == last_files_zip:\n",
    "            break\n",
    "        else:\n",
    "            files_new = list(set(files_zip) - set(last_files_zip))\n",
    "            last_files_zip = files_zip\n",
    "        for file in files_new:\n",
    "            ZipFile(data_path+file,'r').extractall(data_path)"
   ]
  },
  {
   "source": [
    "## Load data"
   ],
   "cell_type": "markdown",
   "metadata": {}
  },
  {
   "cell_type": "code",
   "execution_count": 1,
   "metadata": {},
   "outputs": [
    {
     "output_type": "display_data",
     "data": {
      "text/plain": "   id  product_uid                                      product_title  \\\n0   2       100001                  Simpson Strong-Tie 12-Gauge Angle   \n1   3       100001                  Simpson Strong-Tie 12-Gauge Angle   \n2   9       100002  BEHR Premium Textured DeckOver 1-gal. #SC-141 ...   \n3  16       100005  Delta Vero 1-Handle Shower Only Faucet Trim Ki...   \n4  17       100005  Delta Vero 1-Handle Shower Only Faucet Trim Ki...   \n\n          search_term  relevance  \n0       angle bracket       3.00  \n1           l bracket       2.50  \n2           deck over       3.00  \n3    rain shower head       2.33  \n4  shower only faucet       2.67  ",
      "text/html": "<div>\n<style scoped>\n    .dataframe tbody tr th:only-of-type {\n        vertical-align: middle;\n    }\n\n    .dataframe tbody tr th {\n        vertical-align: top;\n    }\n\n    .dataframe thead th {\n        text-align: right;\n    }\n</style>\n<table border=\"1\" class=\"dataframe\">\n  <thead>\n    <tr style=\"text-align: right;\">\n      <th></th>\n      <th>id</th>\n      <th>product_uid</th>\n      <th>product_title</th>\n      <th>search_term</th>\n      <th>relevance</th>\n    </tr>\n  </thead>\n  <tbody>\n    <tr>\n      <th>0</th>\n      <td>2</td>\n      <td>100001</td>\n      <td>Simpson Strong-Tie 12-Gauge Angle</td>\n      <td>angle bracket</td>\n      <td>3.00</td>\n    </tr>\n    <tr>\n      <th>1</th>\n      <td>3</td>\n      <td>100001</td>\n      <td>Simpson Strong-Tie 12-Gauge Angle</td>\n      <td>l bracket</td>\n      <td>2.50</td>\n    </tr>\n    <tr>\n      <th>2</th>\n      <td>9</td>\n      <td>100002</td>\n      <td>BEHR Premium Textured DeckOver 1-gal. #SC-141 ...</td>\n      <td>deck over</td>\n      <td>3.00</td>\n    </tr>\n    <tr>\n      <th>3</th>\n      <td>16</td>\n      <td>100005</td>\n      <td>Delta Vero 1-Handle Shower Only Faucet Trim Ki...</td>\n      <td>rain shower head</td>\n      <td>2.33</td>\n    </tr>\n    <tr>\n      <th>4</th>\n      <td>17</td>\n      <td>100005</td>\n      <td>Delta Vero 1-Handle Shower Only Faucet Trim Ki...</td>\n      <td>shower only faucet</td>\n      <td>2.67</td>\n    </tr>\n  </tbody>\n</table>\n</div>"
     },
     "metadata": {}
    },
    {
     "output_type": "display_data",
     "data": {
      "text/plain": "                  id    product_uid     relevance\ncount   74067.000000   74067.000000  74067.000000\nmean   112385.709223  142331.911553      2.381634\nstd     64016.573650   30770.774864      0.533984\nmin         2.000000  100001.000000      1.000000\n25%     57163.500000  115128.500000      2.000000\n50%    113228.000000  137334.000000      2.330000\n75%    168275.500000  166883.500000      3.000000\nmax    221473.000000  206650.000000      3.000000",
      "text/html": "<div>\n<style scoped>\n    .dataframe tbody tr th:only-of-type {\n        vertical-align: middle;\n    }\n\n    .dataframe tbody tr th {\n        vertical-align: top;\n    }\n\n    .dataframe thead th {\n        text-align: right;\n    }\n</style>\n<table border=\"1\" class=\"dataframe\">\n  <thead>\n    <tr style=\"text-align: right;\">\n      <th></th>\n      <th>id</th>\n      <th>product_uid</th>\n      <th>relevance</th>\n    </tr>\n  </thead>\n  <tbody>\n    <tr>\n      <th>count</th>\n      <td>74067.000000</td>\n      <td>74067.000000</td>\n      <td>74067.000000</td>\n    </tr>\n    <tr>\n      <th>mean</th>\n      <td>112385.709223</td>\n      <td>142331.911553</td>\n      <td>2.381634</td>\n    </tr>\n    <tr>\n      <th>std</th>\n      <td>64016.573650</td>\n      <td>30770.774864</td>\n      <td>0.533984</td>\n    </tr>\n    <tr>\n      <th>min</th>\n      <td>2.000000</td>\n      <td>100001.000000</td>\n      <td>1.000000</td>\n    </tr>\n    <tr>\n      <th>25%</th>\n      <td>57163.500000</td>\n      <td>115128.500000</td>\n      <td>2.000000</td>\n    </tr>\n    <tr>\n      <th>50%</th>\n      <td>113228.000000</td>\n      <td>137334.000000</td>\n      <td>2.330000</td>\n    </tr>\n    <tr>\n      <th>75%</th>\n      <td>168275.500000</td>\n      <td>166883.500000</td>\n      <td>3.000000</td>\n    </tr>\n    <tr>\n      <th>max</th>\n      <td>221473.000000</td>\n      <td>206650.000000</td>\n      <td>3.000000</td>\n    </tr>\n  </tbody>\n</table>\n</div>"
     },
     "metadata": {}
    }
   ],
   "source": [
    "import pandas as pd\n",
    "\n",
    "train = pd.read_csv('data/train.csv', encoding=\"ISO-8859-1\")\n",
    "display(train.head(5))\n",
    "display(train.describe())"
   ]
  },
  {
   "cell_type": "code",
   "execution_count": 2,
   "metadata": {},
   "outputs": [
    {
     "output_type": "display_data",
     "data": {
      "text/plain": "   product_uid      name                                              value\n0       100001  Bullet01  Versatile connector for various 90° connection...\n1       100001  Bullet02  Stronger than angled nailing or screw fastenin...\n2       100001  Bullet03  Help ensure joints are consistently straight a...\n3       100001  Bullet04              Dimensions: 3 in. x 3 in. x 1-1/2 in.\n4       100001  Bullet05                           Made from 12-Gauge steel",
      "text/html": "<div>\n<style scoped>\n    .dataframe tbody tr th:only-of-type {\n        vertical-align: middle;\n    }\n\n    .dataframe tbody tr th {\n        vertical-align: top;\n    }\n\n    .dataframe thead th {\n        text-align: right;\n    }\n</style>\n<table border=\"1\" class=\"dataframe\">\n  <thead>\n    <tr style=\"text-align: right;\">\n      <th></th>\n      <th>product_uid</th>\n      <th>name</th>\n      <th>value</th>\n    </tr>\n  </thead>\n  <tbody>\n    <tr>\n      <th>0</th>\n      <td>100001</td>\n      <td>Bullet01</td>\n      <td>Versatile connector for various 90° connection...</td>\n    </tr>\n    <tr>\n      <th>1</th>\n      <td>100001</td>\n      <td>Bullet02</td>\n      <td>Stronger than angled nailing or screw fastenin...</td>\n    </tr>\n    <tr>\n      <th>2</th>\n      <td>100001</td>\n      <td>Bullet03</td>\n      <td>Help ensure joints are consistently straight a...</td>\n    </tr>\n    <tr>\n      <th>3</th>\n      <td>100001</td>\n      <td>Bullet04</td>\n      <td>Dimensions: 3 in. x 3 in. x 1-1/2 in.</td>\n    </tr>\n    <tr>\n      <th>4</th>\n      <td>100001</td>\n      <td>Bullet05</td>\n      <td>Made from 12-Gauge steel</td>\n    </tr>\n  </tbody>\n</table>\n</div>"
     },
     "metadata": {}
    },
    {
     "output_type": "display_data",
     "data": {
      "text/plain": "   product_uid                                product_description\n0       100001  Not only do angles make joints stronger, they ...\n1       100002  BEHR Premium Textured DECKOVER is an innovativ...\n2       100003  Classic architecture meets contemporary design...\n3       100004  The Grape Solar 265-Watt Polycrystalline PV So...\n4       100005  Update your bathroom with the Delta Vero Singl...",
      "text/html": "<div>\n<style scoped>\n    .dataframe tbody tr th:only-of-type {\n        vertical-align: middle;\n    }\n\n    .dataframe tbody tr th {\n        vertical-align: top;\n    }\n\n    .dataframe thead th {\n        text-align: right;\n    }\n</style>\n<table border=\"1\" class=\"dataframe\">\n  <thead>\n    <tr style=\"text-align: right;\">\n      <th></th>\n      <th>product_uid</th>\n      <th>product_description</th>\n    </tr>\n  </thead>\n  <tbody>\n    <tr>\n      <th>0</th>\n      <td>100001</td>\n      <td>Not only do angles make joints stronger, they ...</td>\n    </tr>\n    <tr>\n      <th>1</th>\n      <td>100002</td>\n      <td>BEHR Premium Textured DECKOVER is an innovativ...</td>\n    </tr>\n    <tr>\n      <th>2</th>\n      <td>100003</td>\n      <td>Classic architecture meets contemporary design...</td>\n    </tr>\n    <tr>\n      <th>3</th>\n      <td>100004</td>\n      <td>The Grape Solar 265-Watt Polycrystalline PV So...</td>\n    </tr>\n    <tr>\n      <th>4</th>\n      <td>100005</td>\n      <td>Update your bathroom with the Delta Vero Singl...</td>\n    </tr>\n  </tbody>\n</table>\n</div>"
     },
     "metadata": {}
    }
   ],
   "source": [
    "attributes = pd.read_csv('data/attributes.csv')\n",
    "attributes['product_uid'] = attributes['product_uid'].fillna(0).astype('int')\n",
    "display(attributes.head(5))\n",
    "product_descriptions = pd.read_csv('data/product_descriptions.csv')\n",
    "display(product_descriptions.head(5))"
   ]
  },
  {
   "source": [
    "## Exploring data"
   ],
   "cell_type": "markdown",
   "metadata": {}
  },
  {
   "source": [
    "### Check null values"
   ],
   "cell_type": "markdown",
   "metadata": {}
  },
  {
   "cell_type": "code",
   "execution_count": 3,
   "metadata": {},
   "outputs": [
    {
     "output_type": "stream",
     "name": "stdout",
     "text": [
      "Total entries:  74067\n"
     ]
    },
    {
     "output_type": "display_data",
     "data": {
      "text/plain": "id               0\nproduct_uid      0\nproduct_title    0\nsearch_term      0\nrelevance        0\ndtype: int64"
     },
     "metadata": {}
    },
    {
     "output_type": "display_data",
     "data": {
      "text/plain": "id               74067\nproduct_uid      54667\nproduct_title    53489\nsearch_term      11795\nrelevance           13\ndtype: int64"
     },
     "metadata": {}
    }
   ],
   "source": [
    "print('Total entries: ', len(train))\n",
    "display(train.isnull().sum())\n",
    "display(train.nunique())"
   ]
  },
  {
   "source": [
    "### Check if product_uid is unique"
   ],
   "cell_type": "markdown",
   "metadata": {}
  },
  {
   "cell_type": "code",
   "execution_count": 4,
   "metadata": {},
   "outputs": [
    {
     "output_type": "stream",
     "name": "stdout",
     "text": [
      "True\nFalse\n"
     ]
    }
   ],
   "source": [
    "print(product_descriptions['product_uid'].is_unique)\n",
    "print(attributes['product_uid'].is_unique)"
   ]
  },
  {
   "source": [
    "### Before joining the attributes, I need to check why are product_uid not unique"
   ],
   "cell_type": "markdown",
   "metadata": {}
  },
  {
   "cell_type": "code",
   "execution_count": 5,
   "metadata": {},
   "outputs": [
    {
     "output_type": "execute_result",
     "data": {
      "text/plain": [
       "    product_uid                  name  \\\n",
       "0        100001              Bullet01   \n",
       "1        100001              Bullet02   \n",
       "2        100001              Bullet03   \n",
       "3        100001              Bullet04   \n",
       "4        100001              Bullet05   \n",
       "5        100001              Bullet06   \n",
       "6        100001              Bullet07   \n",
       "7        100001                 Gauge   \n",
       "8        100001              Material   \n",
       "9        100001        MFG Brand Name   \n",
       "10       100001      Number of Pieces   \n",
       "11       100001   Product Depth (in.)   \n",
       "12       100001  Product Height (in.)   \n",
       "13       100001  Product Weight (lb.)   \n",
       "14       100001   Product Width (in.)   \n",
       "\n",
       "                                                value  \n",
       "0   Versatile connector for various 90° connection...  \n",
       "1   Stronger than angled nailing or screw fastenin...  \n",
       "2   Help ensure joints are consistently straight a...  \n",
       "3               Dimensions: 3 in. x 3 in. x 1-1/2 in.  \n",
       "4                            Made from 12-Gauge steel  \n",
       "5           Galvanized for extra corrosion resistance  \n",
       "6   Install with 10d common nails or #9 x 1-1/2 in...  \n",
       "7                                                  12  \n",
       "8                                    Galvanized Steel  \n",
       "9                                  Simpson Strong-Tie  \n",
       "10                                                  1  \n",
       "11                                                1.5  \n",
       "12                                                  3  \n",
       "13                                               0.26  \n",
       "14                                                  3  "
      ],
      "text/html": "<div>\n<style scoped>\n    .dataframe tbody tr th:only-of-type {\n        vertical-align: middle;\n    }\n\n    .dataframe tbody tr th {\n        vertical-align: top;\n    }\n\n    .dataframe thead th {\n        text-align: right;\n    }\n</style>\n<table border=\"1\" class=\"dataframe\">\n  <thead>\n    <tr style=\"text-align: right;\">\n      <th></th>\n      <th>product_uid</th>\n      <th>name</th>\n      <th>value</th>\n    </tr>\n  </thead>\n  <tbody>\n    <tr>\n      <th>0</th>\n      <td>100001</td>\n      <td>Bullet01</td>\n      <td>Versatile connector for various 90° connection...</td>\n    </tr>\n    <tr>\n      <th>1</th>\n      <td>100001</td>\n      <td>Bullet02</td>\n      <td>Stronger than angled nailing or screw fastenin...</td>\n    </tr>\n    <tr>\n      <th>2</th>\n      <td>100001</td>\n      <td>Bullet03</td>\n      <td>Help ensure joints are consistently straight a...</td>\n    </tr>\n    <tr>\n      <th>3</th>\n      <td>100001</td>\n      <td>Bullet04</td>\n      <td>Dimensions: 3 in. x 3 in. x 1-1/2 in.</td>\n    </tr>\n    <tr>\n      <th>4</th>\n      <td>100001</td>\n      <td>Bullet05</td>\n      <td>Made from 12-Gauge steel</td>\n    </tr>\n    <tr>\n      <th>5</th>\n      <td>100001</td>\n      <td>Bullet06</td>\n      <td>Galvanized for extra corrosion resistance</td>\n    </tr>\n    <tr>\n      <th>6</th>\n      <td>100001</td>\n      <td>Bullet07</td>\n      <td>Install with 10d common nails or #9 x 1-1/2 in...</td>\n    </tr>\n    <tr>\n      <th>7</th>\n      <td>100001</td>\n      <td>Gauge</td>\n      <td>12</td>\n    </tr>\n    <tr>\n      <th>8</th>\n      <td>100001</td>\n      <td>Material</td>\n      <td>Galvanized Steel</td>\n    </tr>\n    <tr>\n      <th>9</th>\n      <td>100001</td>\n      <td>MFG Brand Name</td>\n      <td>Simpson Strong-Tie</td>\n    </tr>\n    <tr>\n      <th>10</th>\n      <td>100001</td>\n      <td>Number of Pieces</td>\n      <td>1</td>\n    </tr>\n    <tr>\n      <th>11</th>\n      <td>100001</td>\n      <td>Product Depth (in.)</td>\n      <td>1.5</td>\n    </tr>\n    <tr>\n      <th>12</th>\n      <td>100001</td>\n      <td>Product Height (in.)</td>\n      <td>3</td>\n    </tr>\n    <tr>\n      <th>13</th>\n      <td>100001</td>\n      <td>Product Weight (lb.)</td>\n      <td>0.26</td>\n    </tr>\n    <tr>\n      <th>14</th>\n      <td>100001</td>\n      <td>Product Width (in.)</td>\n      <td>3</td>\n    </tr>\n  </tbody>\n</table>\n</div>"
     },
     "metadata": {},
     "execution_count": 5
    }
   ],
   "source": [
    "attributes[attributes['product_uid'] == 100001]"
   ]
  },
  {
   "cell_type": "code",
   "execution_count": 6,
   "metadata": {},
   "outputs": [
    {
     "output_type": "execute_result",
     "data": {
      "text/plain": [
       "5410"
      ]
     },
     "metadata": {},
     "execution_count": 6
    }
   ],
   "source": [
    "attributes['name'].nunique()"
   ]
  },
  {
   "source": [
    "### I select only the attributes with more than 10.000 entries"
   ],
   "cell_type": "markdown",
   "metadata": {}
  },
  {
   "cell_type": "code",
   "execution_count": 7,
   "metadata": {},
   "outputs": [
    {
     "output_type": "stream",
     "name": "stdout",
     "text": [
      "['MFG Brand Name', 'Bullet02', 'Bullet03', 'Bullet04', 'Bullet01', 'Product Width (in.)', 'Bullet05', 'Product Height (in.)', 'Product Depth (in.)', 'Product Weight (lb.)', 'Bullet06', 'Color Family', 'Bullet07', 'Material', 'Color/Finish', 'Bullet08', 'Certifications and Listings', 'Bullet09', 'Assembled Height (in.)', 'Assembled Width (in.)', 'Assembled Depth (in.)', 'Product Length (in.)', 'Bullet10', 'Indoor/Outdoor', 'Bullet11']\n"
     ]
    },
    {
     "output_type": "display_data",
     "data": {
      "text/plain": "   product_uid      name                                              value  \\\n0       100001  Bullet01  Versatile connector for various 90° connection...   \n1       100001  Bullet02  Stronger than angled nailing or screw fastenin...   \n2       100001  Bullet03  Help ensure joints are consistently straight a...   \n3       100001  Bullet04              Dimensions: 3 in. x 3 in. x 1-1/2 in.   \n4       100001  Bullet05                           Made from 12-Gauge steel   \n\n  MFG Brand Name                                           Bullet02  \\\n0            NaN                                                NaN   \n1            NaN  Stronger than angled nailing or screw fastenin...   \n2            NaN                                                NaN   \n3            NaN                                                NaN   \n4            NaN                                                NaN   \n\n                                            Bullet03  \\\n0                                                NaN   \n1                                                NaN   \n2  Help ensure joints are consistently straight a...   \n3                                                NaN   \n4                                                NaN   \n\n                                Bullet04  \\\n0                                    NaN   \n1                                    NaN   \n2                                    NaN   \n3  Dimensions: 3 in. x 3 in. x 1-1/2 in.   \n4                                    NaN   \n\n                                            Bullet01 Product Width (in.)  \\\n0  Versatile connector for various 90° connection...                 NaN   \n1                                                NaN                 NaN   \n2                                                NaN                 NaN   \n3                                                NaN                 NaN   \n4                                                NaN                 NaN   \n\n                   Bullet05 Product Height (in.) Product Depth (in.)  \\\n0                       NaN                  NaN                 NaN   \n1                       NaN                  NaN                 NaN   \n2                       NaN                  NaN                 NaN   \n3                       NaN                  NaN                 NaN   \n4  Made from 12-Gauge steel                  NaN                 NaN   \n\n  Product Weight (lb.) Bullet06 Color Family Bullet07 Material Color/Finish  \\\n0                  NaN      NaN          NaN      NaN      NaN          NaN   \n1                  NaN      NaN          NaN      NaN      NaN          NaN   \n2                  NaN      NaN          NaN      NaN      NaN          NaN   \n3                  NaN      NaN          NaN      NaN      NaN          NaN   \n4                  NaN      NaN          NaN      NaN      NaN          NaN   \n\n  Bullet08 Certifications and Listings Bullet09 Assembled Height (in.)  \\\n0      NaN                         NaN      NaN                    NaN   \n1      NaN                         NaN      NaN                    NaN   \n2      NaN                         NaN      NaN                    NaN   \n3      NaN                         NaN      NaN                    NaN   \n4      NaN                         NaN      NaN                    NaN   \n\n  Assembled Width (in.) Assembled Depth (in.) Product Length (in.) Bullet10  \\\n0                   NaN                   NaN                  NaN      NaN   \n1                   NaN                   NaN                  NaN      NaN   \n2                   NaN                   NaN                  NaN      NaN   \n3                   NaN                   NaN                  NaN      NaN   \n4                   NaN                   NaN                  NaN      NaN   \n\n  Indoor/Outdoor Bullet11  \n0            NaN      NaN  \n1            NaN      NaN  \n2            NaN      NaN  \n3            NaN      NaN  \n4            NaN      NaN  ",
      "text/html": "<div>\n<style scoped>\n    .dataframe tbody tr th:only-of-type {\n        vertical-align: middle;\n    }\n\n    .dataframe tbody tr th {\n        vertical-align: top;\n    }\n\n    .dataframe thead th {\n        text-align: right;\n    }\n</style>\n<table border=\"1\" class=\"dataframe\">\n  <thead>\n    <tr style=\"text-align: right;\">\n      <th></th>\n      <th>product_uid</th>\n      <th>name</th>\n      <th>value</th>\n      <th>MFG Brand Name</th>\n      <th>Bullet02</th>\n      <th>Bullet03</th>\n      <th>Bullet04</th>\n      <th>Bullet01</th>\n      <th>Product Width (in.)</th>\n      <th>Bullet05</th>\n      <th>Product Height (in.)</th>\n      <th>Product Depth (in.)</th>\n      <th>Product Weight (lb.)</th>\n      <th>Bullet06</th>\n      <th>Color Family</th>\n      <th>Bullet07</th>\n      <th>Material</th>\n      <th>Color/Finish</th>\n      <th>Bullet08</th>\n      <th>Certifications and Listings</th>\n      <th>Bullet09</th>\n      <th>Assembled Height (in.)</th>\n      <th>Assembled Width (in.)</th>\n      <th>Assembled Depth (in.)</th>\n      <th>Product Length (in.)</th>\n      <th>Bullet10</th>\n      <th>Indoor/Outdoor</th>\n      <th>Bullet11</th>\n    </tr>\n  </thead>\n  <tbody>\n    <tr>\n      <th>0</th>\n      <td>100001</td>\n      <td>Bullet01</td>\n      <td>Versatile connector for various 90° connection...</td>\n      <td>NaN</td>\n      <td>NaN</td>\n      <td>NaN</td>\n      <td>NaN</td>\n      <td>Versatile connector for various 90° connection...</td>\n      <td>NaN</td>\n      <td>NaN</td>\n      <td>NaN</td>\n      <td>NaN</td>\n      <td>NaN</td>\n      <td>NaN</td>\n      <td>NaN</td>\n      <td>NaN</td>\n      <td>NaN</td>\n      <td>NaN</td>\n      <td>NaN</td>\n      <td>NaN</td>\n      <td>NaN</td>\n      <td>NaN</td>\n      <td>NaN</td>\n      <td>NaN</td>\n      <td>NaN</td>\n      <td>NaN</td>\n      <td>NaN</td>\n      <td>NaN</td>\n    </tr>\n    <tr>\n      <th>1</th>\n      <td>100001</td>\n      <td>Bullet02</td>\n      <td>Stronger than angled nailing or screw fastenin...</td>\n      <td>NaN</td>\n      <td>Stronger than angled nailing or screw fastenin...</td>\n      <td>NaN</td>\n      <td>NaN</td>\n      <td>NaN</td>\n      <td>NaN</td>\n      <td>NaN</td>\n      <td>NaN</td>\n      <td>NaN</td>\n      <td>NaN</td>\n      <td>NaN</td>\n      <td>NaN</td>\n      <td>NaN</td>\n      <td>NaN</td>\n      <td>NaN</td>\n      <td>NaN</td>\n      <td>NaN</td>\n      <td>NaN</td>\n      <td>NaN</td>\n      <td>NaN</td>\n      <td>NaN</td>\n      <td>NaN</td>\n      <td>NaN</td>\n      <td>NaN</td>\n      <td>NaN</td>\n    </tr>\n    <tr>\n      <th>2</th>\n      <td>100001</td>\n      <td>Bullet03</td>\n      <td>Help ensure joints are consistently straight a...</td>\n      <td>NaN</td>\n      <td>NaN</td>\n      <td>Help ensure joints are consistently straight a...</td>\n      <td>NaN</td>\n      <td>NaN</td>\n      <td>NaN</td>\n      <td>NaN</td>\n      <td>NaN</td>\n      <td>NaN</td>\n      <td>NaN</td>\n      <td>NaN</td>\n      <td>NaN</td>\n      <td>NaN</td>\n      <td>NaN</td>\n      <td>NaN</td>\n      <td>NaN</td>\n      <td>NaN</td>\n      <td>NaN</td>\n      <td>NaN</td>\n      <td>NaN</td>\n      <td>NaN</td>\n      <td>NaN</td>\n      <td>NaN</td>\n      <td>NaN</td>\n      <td>NaN</td>\n    </tr>\n    <tr>\n      <th>3</th>\n      <td>100001</td>\n      <td>Bullet04</td>\n      <td>Dimensions: 3 in. x 3 in. x 1-1/2 in.</td>\n      <td>NaN</td>\n      <td>NaN</td>\n      <td>NaN</td>\n      <td>Dimensions: 3 in. x 3 in. x 1-1/2 in.</td>\n      <td>NaN</td>\n      <td>NaN</td>\n      <td>NaN</td>\n      <td>NaN</td>\n      <td>NaN</td>\n      <td>NaN</td>\n      <td>NaN</td>\n      <td>NaN</td>\n      <td>NaN</td>\n      <td>NaN</td>\n      <td>NaN</td>\n      <td>NaN</td>\n      <td>NaN</td>\n      <td>NaN</td>\n      <td>NaN</td>\n      <td>NaN</td>\n      <td>NaN</td>\n      <td>NaN</td>\n      <td>NaN</td>\n      <td>NaN</td>\n      <td>NaN</td>\n    </tr>\n    <tr>\n      <th>4</th>\n      <td>100001</td>\n      <td>Bullet05</td>\n      <td>Made from 12-Gauge steel</td>\n      <td>NaN</td>\n      <td>NaN</td>\n      <td>NaN</td>\n      <td>NaN</td>\n      <td>NaN</td>\n      <td>NaN</td>\n      <td>Made from 12-Gauge steel</td>\n      <td>NaN</td>\n      <td>NaN</td>\n      <td>NaN</td>\n      <td>NaN</td>\n      <td>NaN</td>\n      <td>NaN</td>\n      <td>NaN</td>\n      <td>NaN</td>\n      <td>NaN</td>\n      <td>NaN</td>\n      <td>NaN</td>\n      <td>NaN</td>\n      <td>NaN</td>\n      <td>NaN</td>\n      <td>NaN</td>\n      <td>NaN</td>\n      <td>NaN</td>\n      <td>NaN</td>\n    </tr>\n  </tbody>\n</table>\n</div>"
     },
     "metadata": {}
    }
   ],
   "source": [
    "df_showing_all_att = attributes['name'].value_counts().rename_axis('name').reset_index(name='counts')\n",
    "list_showing_all_att = df_showing_all_att[df_showing_all_att['counts'] > 10000].values.tolist()\n",
    "attributes_selected = [name[0] for name in list_showing_all_att]\n",
    "print(attributes_selected)\n",
    "\n",
    "for attribute in attributes_selected:\n",
    "    attributes.loc[attributes['name'] == attribute, attribute] = attributes['value']\n",
    "\n",
    "pd.set_option('display.max_columns', None)\n",
    "display(attributes.head(5))"
   ]
  },
  {
   "cell_type": "code",
   "execution_count": 8,
   "metadata": {},
   "outputs": [],
   "source": [
    "attributes.drop(['name','value'], axis=1, inplace=True)"
   ]
  },
  {
   "cell_type": "code",
   "execution_count": 20,
   "metadata": {},
   "outputs": [
    {
     "output_type": "execute_result",
     "data": {
      "text/plain": [
       "                             MFG Brand Name  \\\n",
       "product_uid                                   \n",
       "0                                             \n",
       "100001                   Simpson Strong-Tie   \n",
       "100002       BEHR Premium Textured DeckOver   \n",
       "\n",
       "                                                      Bullet02  \\\n",
       "product_uid                                                      \n",
       "0                                                                \n",
       "100001       Stronger than angled nailing or screw fastenin...   \n",
       "100002                        100% acrylic solid color coating   \n",
       "\n",
       "                                                      Bullet03  \\\n",
       "product_uid                                                      \n",
       "0                                                                \n",
       "100001       Help ensure joints are consistently straight a...   \n",
       "100002       Resists cracking and peeling and conceals spli...   \n",
       "\n",
       "                                                Bullet04  \\\n",
       "product_uid                                                \n",
       "0                                                          \n",
       "100001             Dimensions: 3 in. x 3 in. x 1-1/2 in.   \n",
       "100002       Provides a durable, mildew resistant finish   \n",
       "\n",
       "                                                      Bullet01  \\\n",
       "product_uid                                                      \n",
       "0                                                                \n",
       "100001       Versatile connector for various 90° connection...   \n",
       "100002       Revives wood and composite decks, railings, po...   \n",
       "\n",
       "            Product Width (in.)  \\\n",
       "product_uid                       \n",
       "0                                 \n",
       "100001                        3   \n",
       "100002                            \n",
       "\n",
       "                                                  Bullet05  \\\n",
       "product_uid                                                  \n",
       "0                                                            \n",
       "100001                            Made from 12-Gauge steel   \n",
       "100002       Covers up to 75 sq. ft. in 2 coats per gallon   \n",
       "\n",
       "            Product Height (in.) Product Depth (in.) Product Weight (lb.)  \\\n",
       "product_uid                                                                 \n",
       "0                                                                           \n",
       "100001                         3                 1.5                 0.26   \n",
       "100002                                                                      \n",
       "\n",
       "                                              Bullet06   Color Family  \\\n",
       "product_uid                                                             \n",
       "0                                                                       \n",
       "100001       Galvanized for extra corrosion resistance                  \n",
       "100002       Creates a textured, slip-resistant finish  Browns / Tans   \n",
       "\n",
       "                                                      Bullet07  \\\n",
       "product_uid                                                      \n",
       "0                                                                \n",
       "100001       Install with 10d common nails or #9 x 1-1/2 in...   \n",
       "100002       For best results, prepare with the appropriate...   \n",
       "\n",
       "                     Material Color/Finish  \\\n",
       "product_uid                                  \n",
       "0                                            \n",
       "100001       Galvanized Steel                \n",
       "100002                             Tugboat   \n",
       "\n",
       "                                                      Bullet08  \\\n",
       "product_uid                                                      \n",
       "0                                                                \n",
       "100001                                                           \n",
       "100002       Actual paint colors may vary from on-screen an...   \n",
       "\n",
       "            Certifications and Listings Bullet09 Assembled Height (in.)  \\\n",
       "product_uid                                                               \n",
       "0                                                                         \n",
       "100001                                                                    \n",
       "100002                                                          7.76 in   \n",
       "\n",
       "            Assembled Width (in.) Assembled Depth (in.) Product Length (in.)  \\\n",
       "product_uid                                                                    \n",
       "0                                                                              \n",
       "100001                                                                         \n",
       "100002                    6.63 in               6.63 in                        \n",
       "\n",
       "                                                 Bullet10 Indoor/Outdoor  \\\n",
       "product_uid                                                                \n",
       "0                                                                          \n",
       "100001                                                                     \n",
       "100002       Colors available to be tinted in most stores                  \n",
       "\n",
       "            Bullet11  \n",
       "product_uid           \n",
       "0                     \n",
       "100001                \n",
       "100002                "
      ],
      "text/html": "<div>\n<style scoped>\n    .dataframe tbody tr th:only-of-type {\n        vertical-align: middle;\n    }\n\n    .dataframe tbody tr th {\n        vertical-align: top;\n    }\n\n    .dataframe thead th {\n        text-align: right;\n    }\n</style>\n<table border=\"1\" class=\"dataframe\">\n  <thead>\n    <tr style=\"text-align: right;\">\n      <th></th>\n      <th>MFG Brand Name</th>\n      <th>Bullet02</th>\n      <th>Bullet03</th>\n      <th>Bullet04</th>\n      <th>Bullet01</th>\n      <th>Product Width (in.)</th>\n      <th>Bullet05</th>\n      <th>Product Height (in.)</th>\n      <th>Product Depth (in.)</th>\n      <th>Product Weight (lb.)</th>\n      <th>Bullet06</th>\n      <th>Color Family</th>\n      <th>Bullet07</th>\n      <th>Material</th>\n      <th>Color/Finish</th>\n      <th>Bullet08</th>\n      <th>Certifications and Listings</th>\n      <th>Bullet09</th>\n      <th>Assembled Height (in.)</th>\n      <th>Assembled Width (in.)</th>\n      <th>Assembled Depth (in.)</th>\n      <th>Product Length (in.)</th>\n      <th>Bullet10</th>\n      <th>Indoor/Outdoor</th>\n      <th>Bullet11</th>\n    </tr>\n    <tr>\n      <th>product_uid</th>\n      <th></th>\n      <th></th>\n      <th></th>\n      <th></th>\n      <th></th>\n      <th></th>\n      <th></th>\n      <th></th>\n      <th></th>\n      <th></th>\n      <th></th>\n      <th></th>\n      <th></th>\n      <th></th>\n      <th></th>\n      <th></th>\n      <th></th>\n      <th></th>\n      <th></th>\n      <th></th>\n      <th></th>\n      <th></th>\n      <th></th>\n      <th></th>\n      <th></th>\n    </tr>\n  </thead>\n  <tbody>\n    <tr>\n      <th>0</th>\n      <td></td>\n      <td></td>\n      <td></td>\n      <td></td>\n      <td></td>\n      <td></td>\n      <td></td>\n      <td></td>\n      <td></td>\n      <td></td>\n      <td></td>\n      <td></td>\n      <td></td>\n      <td></td>\n      <td></td>\n      <td></td>\n      <td></td>\n      <td></td>\n      <td></td>\n      <td></td>\n      <td></td>\n      <td></td>\n      <td></td>\n      <td></td>\n      <td></td>\n    </tr>\n    <tr>\n      <th>100001</th>\n      <td>Simpson Strong-Tie</td>\n      <td>Stronger than angled nailing or screw fastenin...</td>\n      <td>Help ensure joints are consistently straight a...</td>\n      <td>Dimensions: 3 in. x 3 in. x 1-1/2 in.</td>\n      <td>Versatile connector for various 90° connection...</td>\n      <td>3</td>\n      <td>Made from 12-Gauge steel</td>\n      <td>3</td>\n      <td>1.5</td>\n      <td>0.26</td>\n      <td>Galvanized for extra corrosion resistance</td>\n      <td></td>\n      <td>Install with 10d common nails or #9 x 1-1/2 in...</td>\n      <td>Galvanized Steel</td>\n      <td></td>\n      <td></td>\n      <td></td>\n      <td></td>\n      <td></td>\n      <td></td>\n      <td></td>\n      <td></td>\n      <td></td>\n      <td></td>\n      <td></td>\n    </tr>\n    <tr>\n      <th>100002</th>\n      <td>BEHR Premium Textured DeckOver</td>\n      <td>100% acrylic solid color coating</td>\n      <td>Resists cracking and peeling and conceals spli...</td>\n      <td>Provides a durable, mildew resistant finish</td>\n      <td>Revives wood and composite decks, railings, po...</td>\n      <td></td>\n      <td>Covers up to 75 sq. ft. in 2 coats per gallon</td>\n      <td></td>\n      <td></td>\n      <td></td>\n      <td>Creates a textured, slip-resistant finish</td>\n      <td>Browns / Tans</td>\n      <td>For best results, prepare with the appropriate...</td>\n      <td></td>\n      <td>Tugboat</td>\n      <td>Actual paint colors may vary from on-screen an...</td>\n      <td></td>\n      <td></td>\n      <td>7.76 in</td>\n      <td>6.63 in</td>\n      <td>6.63 in</td>\n      <td></td>\n      <td>Colors available to be tinted in most stores</td>\n      <td></td>\n      <td></td>\n    </tr>\n  </tbody>\n</table>\n</div>"
     },
     "metadata": {},
     "execution_count": 20
    }
   ],
   "source": [
    "attributes = attributes.fillna('').groupby('product_uid').agg(lambda x: ''.join(x))\n",
    "attributes.head(3)"
   ]
  },
  {
   "source": [
    "## Join data"
   ],
   "cell_type": "markdown",
   "metadata": {}
  },
  {
   "source": [
    "pd.concat([train, attributes, product_descriptions], axis=1)"
   ],
   "cell_type": "code",
   "metadata": {},
   "execution_count": null,
   "outputs": []
  }
 ]
}