{
 "metadata": {
  "language_info": {
   "codemirror_mode": {
    "name": "ipython",
    "version": 3
   },
   "file_extension": ".py",
   "mimetype": "text/x-python",
   "name": "python",
   "nbconvert_exporter": "python",
   "pygments_lexer": "ipython3",
   "version": "3.7.9-final"
  },
  "orig_nbformat": 2,
  "kernelspec": {
   "name": "python3",
   "display_name": "Python 3",
   "language": "python"
  }
 },
 "nbformat": 4,
 "nbformat_minor": 2,
 "cells": [
  {
   "source": [
    "## Extract files"
   ],
   "cell_type": "markdown",
   "metadata": {}
  },
  {
   "cell_type": "code",
   "execution_count": 1,
   "metadata": {},
   "outputs": [],
   "source": [
    "import os\n",
    "from zipfile import ZipFile\n",
    "\n",
    "def unzip_all_files_in_dir(data_path='data/'):\n",
    "    last_files_zip = []\n",
    "    while True:\n",
    "        files_zip = [file for file in os.listdir(data_path) if file.endswith('.zip')]\n",
    "        if files_zip == last_files_zip:\n",
    "            break\n",
    "        else:\n",
    "            files_new = list(set(files_zip) - set(last_files_zip))\n",
    "            last_files_zip = files_zip\n",
    "        for file in files_new:\n",
    "            ZipFile(data_path+file,'r').extractall(data_path)"
   ]
  },
  {
   "source": [
    "## Load data"
   ],
   "cell_type": "markdown",
   "metadata": {}
  },
  {
   "cell_type": "code",
   "execution_count": 2,
   "metadata": {},
   "outputs": [
    {
     "output_type": "display_data",
     "data": {
      "text/plain": "   id  product_uid                                      product_title  \\\n0   2       100001                  Simpson Strong-Tie 12-Gauge Angle   \n1   3       100001                  Simpson Strong-Tie 12-Gauge Angle   \n2   9       100002  BEHR Premium Textured DeckOver 1-gal. #SC-141 ...   \n3  16       100005  Delta Vero 1-Handle Shower Only Faucet Trim Ki...   \n4  17       100005  Delta Vero 1-Handle Shower Only Faucet Trim Ki...   \n\n          search_term  relevance  \n0       angle bracket       3.00  \n1           l bracket       2.50  \n2           deck over       3.00  \n3    rain shower head       2.33  \n4  shower only faucet       2.67  ",
      "text/html": "<div>\n<style scoped>\n    .dataframe tbody tr th:only-of-type {\n        vertical-align: middle;\n    }\n\n    .dataframe tbody tr th {\n        vertical-align: top;\n    }\n\n    .dataframe thead th {\n        text-align: right;\n    }\n</style>\n<table border=\"1\" class=\"dataframe\">\n  <thead>\n    <tr style=\"text-align: right;\">\n      <th></th>\n      <th>id</th>\n      <th>product_uid</th>\n      <th>product_title</th>\n      <th>search_term</th>\n      <th>relevance</th>\n    </tr>\n  </thead>\n  <tbody>\n    <tr>\n      <th>0</th>\n      <td>2</td>\n      <td>100001</td>\n      <td>Simpson Strong-Tie 12-Gauge Angle</td>\n      <td>angle bracket</td>\n      <td>3.00</td>\n    </tr>\n    <tr>\n      <th>1</th>\n      <td>3</td>\n      <td>100001</td>\n      <td>Simpson Strong-Tie 12-Gauge Angle</td>\n      <td>l bracket</td>\n      <td>2.50</td>\n    </tr>\n    <tr>\n      <th>2</th>\n      <td>9</td>\n      <td>100002</td>\n      <td>BEHR Premium Textured DeckOver 1-gal. #SC-141 ...</td>\n      <td>deck over</td>\n      <td>3.00</td>\n    </tr>\n    <tr>\n      <th>3</th>\n      <td>16</td>\n      <td>100005</td>\n      <td>Delta Vero 1-Handle Shower Only Faucet Trim Ki...</td>\n      <td>rain shower head</td>\n      <td>2.33</td>\n    </tr>\n    <tr>\n      <th>4</th>\n      <td>17</td>\n      <td>100005</td>\n      <td>Delta Vero 1-Handle Shower Only Faucet Trim Ki...</td>\n      <td>shower only faucet</td>\n      <td>2.67</td>\n    </tr>\n  </tbody>\n</table>\n</div>"
     },
     "metadata": {}
    },
    {
     "output_type": "display_data",
     "data": {
      "text/plain": "                  id    product_uid     relevance\ncount   74067.000000   74067.000000  74067.000000\nmean   112385.709223  142331.911553      2.381634\nstd     64016.573650   30770.774864      0.533984\nmin         2.000000  100001.000000      1.000000\n25%     57163.500000  115128.500000      2.000000\n50%    113228.000000  137334.000000      2.330000\n75%    168275.500000  166883.500000      3.000000\nmax    221473.000000  206650.000000      3.000000",
      "text/html": "<div>\n<style scoped>\n    .dataframe tbody tr th:only-of-type {\n        vertical-align: middle;\n    }\n\n    .dataframe tbody tr th {\n        vertical-align: top;\n    }\n\n    .dataframe thead th {\n        text-align: right;\n    }\n</style>\n<table border=\"1\" class=\"dataframe\">\n  <thead>\n    <tr style=\"text-align: right;\">\n      <th></th>\n      <th>id</th>\n      <th>product_uid</th>\n      <th>relevance</th>\n    </tr>\n  </thead>\n  <tbody>\n    <tr>\n      <th>count</th>\n      <td>74067.000000</td>\n      <td>74067.000000</td>\n      <td>74067.000000</td>\n    </tr>\n    <tr>\n      <th>mean</th>\n      <td>112385.709223</td>\n      <td>142331.911553</td>\n      <td>2.381634</td>\n    </tr>\n    <tr>\n      <th>std</th>\n      <td>64016.573650</td>\n      <td>30770.774864</td>\n      <td>0.533984</td>\n    </tr>\n    <tr>\n      <th>min</th>\n      <td>2.000000</td>\n      <td>100001.000000</td>\n      <td>1.000000</td>\n    </tr>\n    <tr>\n      <th>25%</th>\n      <td>57163.500000</td>\n      <td>115128.500000</td>\n      <td>2.000000</td>\n    </tr>\n    <tr>\n      <th>50%</th>\n      <td>113228.000000</td>\n      <td>137334.000000</td>\n      <td>2.330000</td>\n    </tr>\n    <tr>\n      <th>75%</th>\n      <td>168275.500000</td>\n      <td>166883.500000</td>\n      <td>3.000000</td>\n    </tr>\n    <tr>\n      <th>max</th>\n      <td>221473.000000</td>\n      <td>206650.000000</td>\n      <td>3.000000</td>\n    </tr>\n  </tbody>\n</table>\n</div>"
     },
     "metadata": {}
    }
   ],
   "source": [
    "import pandas as pd\n",
    "\n",
    "train = pd.read_csv('data/train.csv', encoding=\"ISO-8859-1\")\n",
    "display(train.head(5))\n",
    "display(train.describe())"
   ]
  },
  {
   "cell_type": "code",
   "execution_count": 3,
   "metadata": {},
   "outputs": [
    {
     "output_type": "display_data",
     "data": {
      "text/plain": "   product_uid      name                                              value\n0       100001  Bullet01  Versatile connector for various 90° connection...\n1       100001  Bullet02  Stronger than angled nailing or screw fastenin...\n2       100001  Bullet03  Help ensure joints are consistently straight a...\n3       100001  Bullet04              Dimensions: 3 in. x 3 in. x 1-1/2 in.\n4       100001  Bullet05                           Made from 12-Gauge steel",
      "text/html": "<div>\n<style scoped>\n    .dataframe tbody tr th:only-of-type {\n        vertical-align: middle;\n    }\n\n    .dataframe tbody tr th {\n        vertical-align: top;\n    }\n\n    .dataframe thead th {\n        text-align: right;\n    }\n</style>\n<table border=\"1\" class=\"dataframe\">\n  <thead>\n    <tr style=\"text-align: right;\">\n      <th></th>\n      <th>product_uid</th>\n      <th>name</th>\n      <th>value</th>\n    </tr>\n  </thead>\n  <tbody>\n    <tr>\n      <th>0</th>\n      <td>100001</td>\n      <td>Bullet01</td>\n      <td>Versatile connector for various 90° connection...</td>\n    </tr>\n    <tr>\n      <th>1</th>\n      <td>100001</td>\n      <td>Bullet02</td>\n      <td>Stronger than angled nailing or screw fastenin...</td>\n    </tr>\n    <tr>\n      <th>2</th>\n      <td>100001</td>\n      <td>Bullet03</td>\n      <td>Help ensure joints are consistently straight a...</td>\n    </tr>\n    <tr>\n      <th>3</th>\n      <td>100001</td>\n      <td>Bullet04</td>\n      <td>Dimensions: 3 in. x 3 in. x 1-1/2 in.</td>\n    </tr>\n    <tr>\n      <th>4</th>\n      <td>100001</td>\n      <td>Bullet05</td>\n      <td>Made from 12-Gauge steel</td>\n    </tr>\n  </tbody>\n</table>\n</div>"
     },
     "metadata": {}
    },
    {
     "output_type": "display_data",
     "data": {
      "text/plain": "   product_uid                                product_description\n0       100001  Not only do angles make joints stronger, they ...\n1       100002  BEHR Premium Textured DECKOVER is an innovativ...\n2       100003  Classic architecture meets contemporary design...\n3       100004  The Grape Solar 265-Watt Polycrystalline PV So...\n4       100005  Update your bathroom with the Delta Vero Singl...",
      "text/html": "<div>\n<style scoped>\n    .dataframe tbody tr th:only-of-type {\n        vertical-align: middle;\n    }\n\n    .dataframe tbody tr th {\n        vertical-align: top;\n    }\n\n    .dataframe thead th {\n        text-align: right;\n    }\n</style>\n<table border=\"1\" class=\"dataframe\">\n  <thead>\n    <tr style=\"text-align: right;\">\n      <th></th>\n      <th>product_uid</th>\n      <th>product_description</th>\n    </tr>\n  </thead>\n  <tbody>\n    <tr>\n      <th>0</th>\n      <td>100001</td>\n      <td>Not only do angles make joints stronger, they ...</td>\n    </tr>\n    <tr>\n      <th>1</th>\n      <td>100002</td>\n      <td>BEHR Premium Textured DECKOVER is an innovativ...</td>\n    </tr>\n    <tr>\n      <th>2</th>\n      <td>100003</td>\n      <td>Classic architecture meets contemporary design...</td>\n    </tr>\n    <tr>\n      <th>3</th>\n      <td>100004</td>\n      <td>The Grape Solar 265-Watt Polycrystalline PV So...</td>\n    </tr>\n    <tr>\n      <th>4</th>\n      <td>100005</td>\n      <td>Update your bathroom with the Delta Vero Singl...</td>\n    </tr>\n  </tbody>\n</table>\n</div>"
     },
     "metadata": {}
    }
   ],
   "source": [
    "attributes = pd.read_csv('data/attributes.csv')\n",
    "attributes['product_uid'] = attributes['product_uid'].fillna(0).astype('int')\n",
    "display(attributes.head(5))\n",
    "product_descriptions = pd.read_csv('data/product_descriptions.csv')\n",
    "display(product_descriptions.head(5))"
   ]
  },
  {
   "source": [
    "## Exploring data"
   ],
   "cell_type": "markdown",
   "metadata": {}
  },
  {
   "source": [
    "### Check null values"
   ],
   "cell_type": "markdown",
   "metadata": {}
  },
  {
   "cell_type": "code",
   "execution_count": 4,
   "metadata": {},
   "outputs": [
    {
     "output_type": "stream",
     "name": "stdout",
     "text": [
      "Total entries:  74067\n"
     ]
    },
    {
     "output_type": "display_data",
     "data": {
      "text/plain": "id               0\nproduct_uid      0\nproduct_title    0\nsearch_term      0\nrelevance        0\ndtype: int64"
     },
     "metadata": {}
    },
    {
     "output_type": "display_data",
     "data": {
      "text/plain": "id               74067\nproduct_uid      54667\nproduct_title    53489\nsearch_term      11795\nrelevance           13\ndtype: int64"
     },
     "metadata": {}
    }
   ],
   "source": [
    "print('Total entries: ', len(train))\n",
    "display(train.isnull().sum())\n",
    "display(train.nunique())"
   ]
  },
  {
   "source": [
    "### Check if product_uid is unique"
   ],
   "cell_type": "markdown",
   "metadata": {}
  },
  {
   "cell_type": "code",
   "execution_count": 5,
   "metadata": {},
   "outputs": [
    {
     "output_type": "stream",
     "name": "stdout",
     "text": [
      "True\nFalse\n"
     ]
    }
   ],
   "source": [
    "print(product_descriptions['product_uid'].is_unique)\n",
    "print(attributes['product_uid'].is_unique)"
   ]
  },
  {
   "source": [
    "### Before joining the attributes, I need to check why are product_uid not unique"
   ],
   "cell_type": "markdown",
   "metadata": {}
  },
  {
   "cell_type": "code",
   "execution_count": 6,
   "metadata": {},
   "outputs": [
    {
     "output_type": "execute_result",
     "data": {
      "text/plain": [
       "    product_uid                  name  \\\n",
       "0        100001              Bullet01   \n",
       "1        100001              Bullet02   \n",
       "2        100001              Bullet03   \n",
       "3        100001              Bullet04   \n",
       "4        100001              Bullet05   \n",
       "5        100001              Bullet06   \n",
       "6        100001              Bullet07   \n",
       "7        100001                 Gauge   \n",
       "8        100001              Material   \n",
       "9        100001        MFG Brand Name   \n",
       "10       100001      Number of Pieces   \n",
       "11       100001   Product Depth (in.)   \n",
       "12       100001  Product Height (in.)   \n",
       "13       100001  Product Weight (lb.)   \n",
       "14       100001   Product Width (in.)   \n",
       "\n",
       "                                                value  \n",
       "0   Versatile connector for various 90° connection...  \n",
       "1   Stronger than angled nailing or screw fastenin...  \n",
       "2   Help ensure joints are consistently straight a...  \n",
       "3               Dimensions: 3 in. x 3 in. x 1-1/2 in.  \n",
       "4                            Made from 12-Gauge steel  \n",
       "5           Galvanized for extra corrosion resistance  \n",
       "6   Install with 10d common nails or #9 x 1-1/2 in...  \n",
       "7                                                  12  \n",
       "8                                    Galvanized Steel  \n",
       "9                                  Simpson Strong-Tie  \n",
       "10                                                  1  \n",
       "11                                                1.5  \n",
       "12                                                  3  \n",
       "13                                               0.26  \n",
       "14                                                  3  "
      ],
      "text/html": "<div>\n<style scoped>\n    .dataframe tbody tr th:only-of-type {\n        vertical-align: middle;\n    }\n\n    .dataframe tbody tr th {\n        vertical-align: top;\n    }\n\n    .dataframe thead th {\n        text-align: right;\n    }\n</style>\n<table border=\"1\" class=\"dataframe\">\n  <thead>\n    <tr style=\"text-align: right;\">\n      <th></th>\n      <th>product_uid</th>\n      <th>name</th>\n      <th>value</th>\n    </tr>\n  </thead>\n  <tbody>\n    <tr>\n      <th>0</th>\n      <td>100001</td>\n      <td>Bullet01</td>\n      <td>Versatile connector for various 90° connection...</td>\n    </tr>\n    <tr>\n      <th>1</th>\n      <td>100001</td>\n      <td>Bullet02</td>\n      <td>Stronger than angled nailing or screw fastenin...</td>\n    </tr>\n    <tr>\n      <th>2</th>\n      <td>100001</td>\n      <td>Bullet03</td>\n      <td>Help ensure joints are consistently straight a...</td>\n    </tr>\n    <tr>\n      <th>3</th>\n      <td>100001</td>\n      <td>Bullet04</td>\n      <td>Dimensions: 3 in. x 3 in. x 1-1/2 in.</td>\n    </tr>\n    <tr>\n      <th>4</th>\n      <td>100001</td>\n      <td>Bullet05</td>\n      <td>Made from 12-Gauge steel</td>\n    </tr>\n    <tr>\n      <th>5</th>\n      <td>100001</td>\n      <td>Bullet06</td>\n      <td>Galvanized for extra corrosion resistance</td>\n    </tr>\n    <tr>\n      <th>6</th>\n      <td>100001</td>\n      <td>Bullet07</td>\n      <td>Install with 10d common nails or #9 x 1-1/2 in...</td>\n    </tr>\n    <tr>\n      <th>7</th>\n      <td>100001</td>\n      <td>Gauge</td>\n      <td>12</td>\n    </tr>\n    <tr>\n      <th>8</th>\n      <td>100001</td>\n      <td>Material</td>\n      <td>Galvanized Steel</td>\n    </tr>\n    <tr>\n      <th>9</th>\n      <td>100001</td>\n      <td>MFG Brand Name</td>\n      <td>Simpson Strong-Tie</td>\n    </tr>\n    <tr>\n      <th>10</th>\n      <td>100001</td>\n      <td>Number of Pieces</td>\n      <td>1</td>\n    </tr>\n    <tr>\n      <th>11</th>\n      <td>100001</td>\n      <td>Product Depth (in.)</td>\n      <td>1.5</td>\n    </tr>\n    <tr>\n      <th>12</th>\n      <td>100001</td>\n      <td>Product Height (in.)</td>\n      <td>3</td>\n    </tr>\n    <tr>\n      <th>13</th>\n      <td>100001</td>\n      <td>Product Weight (lb.)</td>\n      <td>0.26</td>\n    </tr>\n    <tr>\n      <th>14</th>\n      <td>100001</td>\n      <td>Product Width (in.)</td>\n      <td>3</td>\n    </tr>\n  </tbody>\n</table>\n</div>"
     },
     "metadata": {},
     "execution_count": 6
    }
   ],
   "source": [
    "attributes[attributes['product_uid'] == 100001]"
   ]
  },
  {
   "cell_type": "code",
   "execution_count": 7,
   "metadata": {},
   "outputs": [
    {
     "output_type": "execute_result",
     "data": {
      "text/plain": [
       "5410"
      ]
     },
     "metadata": {},
     "execution_count": 7
    }
   ],
   "source": [
    "attributes['name'].nunique()"
   ]
  },
  {
   "source": [
    "### I select only the attributes with more than 10.000 entries"
   ],
   "cell_type": "markdown",
   "metadata": {}
  },
  {
   "cell_type": "code",
   "execution_count": 8,
   "metadata": {},
   "outputs": [
    {
     "output_type": "stream",
     "name": "stdout",
     "text": [
      "['MFG Brand Name', 'Bullet02', 'Bullet03', 'Bullet04', 'Bullet01', 'Product Width (in.)', 'Bullet05', 'Product Height (in.)', 'Product Depth (in.)', 'Product Weight (lb.)', 'Bullet06', 'Color Family', 'Bullet07', 'Material', 'Color/Finish', 'Bullet08', 'Certifications and Listings', 'Bullet09', 'Assembled Height (in.)', 'Assembled Width (in.)', 'Assembled Depth (in.)', 'Product Length (in.)', 'Bullet10', 'Indoor/Outdoor', 'Bullet11']\n"
     ]
    },
    {
     "output_type": "display_data",
     "data": {
      "text/plain": "   product_uid      name                                              value  \\\n0       100001  Bullet01  Versatile connector for various 90° connection...   \n1       100001  Bullet02  Stronger than angled nailing or screw fastenin...   \n2       100001  Bullet03  Help ensure joints are consistently straight a...   \n3       100001  Bullet04              Dimensions: 3 in. x 3 in. x 1-1/2 in.   \n4       100001  Bullet05                           Made from 12-Gauge steel   \n\n  MFG Brand Name                                           Bullet02  \\\n0            NaN                                                NaN   \n1            NaN  Stronger than angled nailing or screw fastenin...   \n2            NaN                                                NaN   \n3            NaN                                                NaN   \n4            NaN                                                NaN   \n\n                                            Bullet03  \\\n0                                                NaN   \n1                                                NaN   \n2  Help ensure joints are consistently straight a...   \n3                                                NaN   \n4                                                NaN   \n\n                                Bullet04  \\\n0                                    NaN   \n1                                    NaN   \n2                                    NaN   \n3  Dimensions: 3 in. x 3 in. x 1-1/2 in.   \n4                                    NaN   \n\n                                            Bullet01 Product Width (in.)  \\\n0  Versatile connector for various 90° connection...                 NaN   \n1                                                NaN                 NaN   \n2                                                NaN                 NaN   \n3                                                NaN                 NaN   \n4                                                NaN                 NaN   \n\n                   Bullet05 Product Height (in.) Product Depth (in.)  \\\n0                       NaN                  NaN                 NaN   \n1                       NaN                  NaN                 NaN   \n2                       NaN                  NaN                 NaN   \n3                       NaN                  NaN                 NaN   \n4  Made from 12-Gauge steel                  NaN                 NaN   \n\n  Product Weight (lb.) Bullet06 Color Family Bullet07 Material Color/Finish  \\\n0                  NaN      NaN          NaN      NaN      NaN          NaN   \n1                  NaN      NaN          NaN      NaN      NaN          NaN   \n2                  NaN      NaN          NaN      NaN      NaN          NaN   \n3                  NaN      NaN          NaN      NaN      NaN          NaN   \n4                  NaN      NaN          NaN      NaN      NaN          NaN   \n\n  Bullet08 Certifications and Listings Bullet09 Assembled Height (in.)  \\\n0      NaN                         NaN      NaN                    NaN   \n1      NaN                         NaN      NaN                    NaN   \n2      NaN                         NaN      NaN                    NaN   \n3      NaN                         NaN      NaN                    NaN   \n4      NaN                         NaN      NaN                    NaN   \n\n  Assembled Width (in.) Assembled Depth (in.) Product Length (in.) Bullet10  \\\n0                   NaN                   NaN                  NaN      NaN   \n1                   NaN                   NaN                  NaN      NaN   \n2                   NaN                   NaN                  NaN      NaN   \n3                   NaN                   NaN                  NaN      NaN   \n4                   NaN                   NaN                  NaN      NaN   \n\n  Indoor/Outdoor Bullet11  \n0            NaN      NaN  \n1            NaN      NaN  \n2            NaN      NaN  \n3            NaN      NaN  \n4            NaN      NaN  ",
      "text/html": "<div>\n<style scoped>\n    .dataframe tbody tr th:only-of-type {\n        vertical-align: middle;\n    }\n\n    .dataframe tbody tr th {\n        vertical-align: top;\n    }\n\n    .dataframe thead th {\n        text-align: right;\n    }\n</style>\n<table border=\"1\" class=\"dataframe\">\n  <thead>\n    <tr style=\"text-align: right;\">\n      <th></th>\n      <th>product_uid</th>\n      <th>name</th>\n      <th>value</th>\n      <th>MFG Brand Name</th>\n      <th>Bullet02</th>\n      <th>Bullet03</th>\n      <th>Bullet04</th>\n      <th>Bullet01</th>\n      <th>Product Width (in.)</th>\n      <th>Bullet05</th>\n      <th>Product Height (in.)</th>\n      <th>Product Depth (in.)</th>\n      <th>Product Weight (lb.)</th>\n      <th>Bullet06</th>\n      <th>Color Family</th>\n      <th>Bullet07</th>\n      <th>Material</th>\n      <th>Color/Finish</th>\n      <th>Bullet08</th>\n      <th>Certifications and Listings</th>\n      <th>Bullet09</th>\n      <th>Assembled Height (in.)</th>\n      <th>Assembled Width (in.)</th>\n      <th>Assembled Depth (in.)</th>\n      <th>Product Length (in.)</th>\n      <th>Bullet10</th>\n      <th>Indoor/Outdoor</th>\n      <th>Bullet11</th>\n    </tr>\n  </thead>\n  <tbody>\n    <tr>\n      <th>0</th>\n      <td>100001</td>\n      <td>Bullet01</td>\n      <td>Versatile connector for various 90° connection...</td>\n      <td>NaN</td>\n      <td>NaN</td>\n      <td>NaN</td>\n      <td>NaN</td>\n      <td>Versatile connector for various 90° connection...</td>\n      <td>NaN</td>\n      <td>NaN</td>\n      <td>NaN</td>\n      <td>NaN</td>\n      <td>NaN</td>\n      <td>NaN</td>\n      <td>NaN</td>\n      <td>NaN</td>\n      <td>NaN</td>\n      <td>NaN</td>\n      <td>NaN</td>\n      <td>NaN</td>\n      <td>NaN</td>\n      <td>NaN</td>\n      <td>NaN</td>\n      <td>NaN</td>\n      <td>NaN</td>\n      <td>NaN</td>\n      <td>NaN</td>\n      <td>NaN</td>\n    </tr>\n    <tr>\n      <th>1</th>\n      <td>100001</td>\n      <td>Bullet02</td>\n      <td>Stronger than angled nailing or screw fastenin...</td>\n      <td>NaN</td>\n      <td>Stronger than angled nailing or screw fastenin...</td>\n      <td>NaN</td>\n      <td>NaN</td>\n      <td>NaN</td>\n      <td>NaN</td>\n      <td>NaN</td>\n      <td>NaN</td>\n      <td>NaN</td>\n      <td>NaN</td>\n      <td>NaN</td>\n      <td>NaN</td>\n      <td>NaN</td>\n      <td>NaN</td>\n      <td>NaN</td>\n      <td>NaN</td>\n      <td>NaN</td>\n      <td>NaN</td>\n      <td>NaN</td>\n      <td>NaN</td>\n      <td>NaN</td>\n      <td>NaN</td>\n      <td>NaN</td>\n      <td>NaN</td>\n      <td>NaN</td>\n    </tr>\n    <tr>\n      <th>2</th>\n      <td>100001</td>\n      <td>Bullet03</td>\n      <td>Help ensure joints are consistently straight a...</td>\n      <td>NaN</td>\n      <td>NaN</td>\n      <td>Help ensure joints are consistently straight a...</td>\n      <td>NaN</td>\n      <td>NaN</td>\n      <td>NaN</td>\n      <td>NaN</td>\n      <td>NaN</td>\n      <td>NaN</td>\n      <td>NaN</td>\n      <td>NaN</td>\n      <td>NaN</td>\n      <td>NaN</td>\n      <td>NaN</td>\n      <td>NaN</td>\n      <td>NaN</td>\n      <td>NaN</td>\n      <td>NaN</td>\n      <td>NaN</td>\n      <td>NaN</td>\n      <td>NaN</td>\n      <td>NaN</td>\n      <td>NaN</td>\n      <td>NaN</td>\n      <td>NaN</td>\n    </tr>\n    <tr>\n      <th>3</th>\n      <td>100001</td>\n      <td>Bullet04</td>\n      <td>Dimensions: 3 in. x 3 in. x 1-1/2 in.</td>\n      <td>NaN</td>\n      <td>NaN</td>\n      <td>NaN</td>\n      <td>Dimensions: 3 in. x 3 in. x 1-1/2 in.</td>\n      <td>NaN</td>\n      <td>NaN</td>\n      <td>NaN</td>\n      <td>NaN</td>\n      <td>NaN</td>\n      <td>NaN</td>\n      <td>NaN</td>\n      <td>NaN</td>\n      <td>NaN</td>\n      <td>NaN</td>\n      <td>NaN</td>\n      <td>NaN</td>\n      <td>NaN</td>\n      <td>NaN</td>\n      <td>NaN</td>\n      <td>NaN</td>\n      <td>NaN</td>\n      <td>NaN</td>\n      <td>NaN</td>\n      <td>NaN</td>\n      <td>NaN</td>\n    </tr>\n    <tr>\n      <th>4</th>\n      <td>100001</td>\n      <td>Bullet05</td>\n      <td>Made from 12-Gauge steel</td>\n      <td>NaN</td>\n      <td>NaN</td>\n      <td>NaN</td>\n      <td>NaN</td>\n      <td>NaN</td>\n      <td>NaN</td>\n      <td>Made from 12-Gauge steel</td>\n      <td>NaN</td>\n      <td>NaN</td>\n      <td>NaN</td>\n      <td>NaN</td>\n      <td>NaN</td>\n      <td>NaN</td>\n      <td>NaN</td>\n      <td>NaN</td>\n      <td>NaN</td>\n      <td>NaN</td>\n      <td>NaN</td>\n      <td>NaN</td>\n      <td>NaN</td>\n      <td>NaN</td>\n      <td>NaN</td>\n      <td>NaN</td>\n      <td>NaN</td>\n      <td>NaN</td>\n    </tr>\n  </tbody>\n</table>\n</div>"
     },
     "metadata": {}
    }
   ],
   "source": [
    "df_showing_all_att = attributes['name'].value_counts().rename_axis('name').reset_index(name='counts')\n",
    "list_showing_all_att = df_showing_all_att[df_showing_all_att['counts'] > 10000].values.tolist()\n",
    "attributes_selected = [name[0] for name in list_showing_all_att]\n",
    "print(attributes_selected)\n",
    "\n",
    "for attribute in attributes_selected:\n",
    "    attributes.loc[attributes['name'] == attribute, attribute] = attributes['value']\n",
    "\n",
    "pd.set_option('display.max_columns', None)\n",
    "display(attributes.head(5))"
   ]
  },
  {
   "cell_type": "code",
   "execution_count": 9,
   "metadata": {},
   "outputs": [],
   "source": [
    "attributes.drop(['name','value'], axis=1, inplace=True)"
   ]
  },
  {
   "cell_type": "code",
   "execution_count": 10,
   "metadata": {},
   "outputs": [
    {
     "output_type": "execute_result",
     "data": {
      "text/plain": [
       "                             MFG Brand Name  \\\n",
       "product_uid                                   \n",
       "0                                             \n",
       "100001                   Simpson Strong-Tie   \n",
       "100002       BEHR Premium Textured DeckOver   \n",
       "\n",
       "                                                      Bullet02  \\\n",
       "product_uid                                                      \n",
       "0                                                                \n",
       "100001       Stronger than angled nailing or screw fastenin...   \n",
       "100002                        100% acrylic solid color coating   \n",
       "\n",
       "                                                      Bullet03  \\\n",
       "product_uid                                                      \n",
       "0                                                                \n",
       "100001       Help ensure joints are consistently straight a...   \n",
       "100002       Resists cracking and peeling and conceals spli...   \n",
       "\n",
       "                                                Bullet04  \\\n",
       "product_uid                                                \n",
       "0                                                          \n",
       "100001             Dimensions: 3 in. x 3 in. x 1-1/2 in.   \n",
       "100002       Provides a durable, mildew resistant finish   \n",
       "\n",
       "                                                      Bullet01  \\\n",
       "product_uid                                                      \n",
       "0                                                                \n",
       "100001       Versatile connector for various 90° connection...   \n",
       "100002       Revives wood and composite decks, railings, po...   \n",
       "\n",
       "            Product Width (in.)  \\\n",
       "product_uid                       \n",
       "0                                 \n",
       "100001                        3   \n",
       "100002                            \n",
       "\n",
       "                                                  Bullet05  \\\n",
       "product_uid                                                  \n",
       "0                                                            \n",
       "100001                            Made from 12-Gauge steel   \n",
       "100002       Covers up to 75 sq. ft. in 2 coats per gallon   \n",
       "\n",
       "            Product Height (in.) Product Depth (in.) Product Weight (lb.)  \\\n",
       "product_uid                                                                 \n",
       "0                                                                           \n",
       "100001                         3                 1.5                 0.26   \n",
       "100002                                                                      \n",
       "\n",
       "                                              Bullet06   Color Family  \\\n",
       "product_uid                                                             \n",
       "0                                                                       \n",
       "100001       Galvanized for extra corrosion resistance                  \n",
       "100002       Creates a textured, slip-resistant finish  Browns / Tans   \n",
       "\n",
       "                                                      Bullet07  \\\n",
       "product_uid                                                      \n",
       "0                                                                \n",
       "100001       Install with 10d common nails or #9 x 1-1/2 in...   \n",
       "100002       For best results, prepare with the appropriate...   \n",
       "\n",
       "                     Material Color/Finish  \\\n",
       "product_uid                                  \n",
       "0                                            \n",
       "100001       Galvanized Steel                \n",
       "100002                             Tugboat   \n",
       "\n",
       "                                                      Bullet08  \\\n",
       "product_uid                                                      \n",
       "0                                                                \n",
       "100001                                                           \n",
       "100002       Actual paint colors may vary from on-screen an...   \n",
       "\n",
       "            Certifications and Listings Bullet09 Assembled Height (in.)  \\\n",
       "product_uid                                                               \n",
       "0                                                                         \n",
       "100001                                                                    \n",
       "100002                                                          7.76 in   \n",
       "\n",
       "            Assembled Width (in.) Assembled Depth (in.) Product Length (in.)  \\\n",
       "product_uid                                                                    \n",
       "0                                                                              \n",
       "100001                                                                         \n",
       "100002                    6.63 in               6.63 in                        \n",
       "\n",
       "                                                 Bullet10 Indoor/Outdoor  \\\n",
       "product_uid                                                                \n",
       "0                                                                          \n",
       "100001                                                                     \n",
       "100002       Colors available to be tinted in most stores                  \n",
       "\n",
       "            Bullet11  \n",
       "product_uid           \n",
       "0                     \n",
       "100001                \n",
       "100002                "
      ],
      "text/html": "<div>\n<style scoped>\n    .dataframe tbody tr th:only-of-type {\n        vertical-align: middle;\n    }\n\n    .dataframe tbody tr th {\n        vertical-align: top;\n    }\n\n    .dataframe thead th {\n        text-align: right;\n    }\n</style>\n<table border=\"1\" class=\"dataframe\">\n  <thead>\n    <tr style=\"text-align: right;\">\n      <th></th>\n      <th>MFG Brand Name</th>\n      <th>Bullet02</th>\n      <th>Bullet03</th>\n      <th>Bullet04</th>\n      <th>Bullet01</th>\n      <th>Product Width (in.)</th>\n      <th>Bullet05</th>\n      <th>Product Height (in.)</th>\n      <th>Product Depth (in.)</th>\n      <th>Product Weight (lb.)</th>\n      <th>Bullet06</th>\n      <th>Color Family</th>\n      <th>Bullet07</th>\n      <th>Material</th>\n      <th>Color/Finish</th>\n      <th>Bullet08</th>\n      <th>Certifications and Listings</th>\n      <th>Bullet09</th>\n      <th>Assembled Height (in.)</th>\n      <th>Assembled Width (in.)</th>\n      <th>Assembled Depth (in.)</th>\n      <th>Product Length (in.)</th>\n      <th>Bullet10</th>\n      <th>Indoor/Outdoor</th>\n      <th>Bullet11</th>\n    </tr>\n    <tr>\n      <th>product_uid</th>\n      <th></th>\n      <th></th>\n      <th></th>\n      <th></th>\n      <th></th>\n      <th></th>\n      <th></th>\n      <th></th>\n      <th></th>\n      <th></th>\n      <th></th>\n      <th></th>\n      <th></th>\n      <th></th>\n      <th></th>\n      <th></th>\n      <th></th>\n      <th></th>\n      <th></th>\n      <th></th>\n      <th></th>\n      <th></th>\n      <th></th>\n      <th></th>\n      <th></th>\n    </tr>\n  </thead>\n  <tbody>\n    <tr>\n      <th>0</th>\n      <td></td>\n      <td></td>\n      <td></td>\n      <td></td>\n      <td></td>\n      <td></td>\n      <td></td>\n      <td></td>\n      <td></td>\n      <td></td>\n      <td></td>\n      <td></td>\n      <td></td>\n      <td></td>\n      <td></td>\n      <td></td>\n      <td></td>\n      <td></td>\n      <td></td>\n      <td></td>\n      <td></td>\n      <td></td>\n      <td></td>\n      <td></td>\n      <td></td>\n    </tr>\n    <tr>\n      <th>100001</th>\n      <td>Simpson Strong-Tie</td>\n      <td>Stronger than angled nailing or screw fastenin...</td>\n      <td>Help ensure joints are consistently straight a...</td>\n      <td>Dimensions: 3 in. x 3 in. x 1-1/2 in.</td>\n      <td>Versatile connector for various 90° connection...</td>\n      <td>3</td>\n      <td>Made from 12-Gauge steel</td>\n      <td>3</td>\n      <td>1.5</td>\n      <td>0.26</td>\n      <td>Galvanized for extra corrosion resistance</td>\n      <td></td>\n      <td>Install with 10d common nails or #9 x 1-1/2 in...</td>\n      <td>Galvanized Steel</td>\n      <td></td>\n      <td></td>\n      <td></td>\n      <td></td>\n      <td></td>\n      <td></td>\n      <td></td>\n      <td></td>\n      <td></td>\n      <td></td>\n      <td></td>\n    </tr>\n    <tr>\n      <th>100002</th>\n      <td>BEHR Premium Textured DeckOver</td>\n      <td>100% acrylic solid color coating</td>\n      <td>Resists cracking and peeling and conceals spli...</td>\n      <td>Provides a durable, mildew resistant finish</td>\n      <td>Revives wood and composite decks, railings, po...</td>\n      <td></td>\n      <td>Covers up to 75 sq. ft. in 2 coats per gallon</td>\n      <td></td>\n      <td></td>\n      <td></td>\n      <td>Creates a textured, slip-resistant finish</td>\n      <td>Browns / Tans</td>\n      <td>For best results, prepare with the appropriate...</td>\n      <td></td>\n      <td>Tugboat</td>\n      <td>Actual paint colors may vary from on-screen an...</td>\n      <td></td>\n      <td></td>\n      <td>7.76 in</td>\n      <td>6.63 in</td>\n      <td>6.63 in</td>\n      <td></td>\n      <td>Colors available to be tinted in most stores</td>\n      <td></td>\n      <td></td>\n    </tr>\n  </tbody>\n</table>\n</div>"
     },
     "metadata": {},
     "execution_count": 10
    }
   ],
   "source": [
    "attributes = attributes.fillna('').groupby('product_uid').agg(lambda x: ''.join(x))\n",
    "attributes.head(3)"
   ]
  },
  {
   "cell_type": "code",
   "execution_count": 11,
   "metadata": {},
   "outputs": [],
   "source": [
    "attributes = attributes.iloc[1:]\n",
    "attributes = attributes.reset_index()"
   ]
  },
  {
   "source": [
    "## Join data"
   ],
   "cell_type": "markdown",
   "metadata": {}
  },
  {
   "cell_type": "code",
   "execution_count": 12,
   "metadata": {},
   "outputs": [],
   "source": [
    "product_descriptions_with_attributes = pd.merge(product_descriptions , attributes , how='outer', on=['product_uid'])\n",
    "product_descriptions_with_attributes.to_csv('data/product_descriptions_with_attributes.csv',index=False)\n",
    "train = pd.merge(train , product_descriptions_with_attributes , how='left', on=['product_uid'])"
   ]
  },
  {
   "source": [
    "## Cleaning Data"
   ],
   "cell_type": "markdown",
   "metadata": {}
  },
  {
   "cell_type": "code",
   "execution_count": 16,
   "metadata": {},
   "outputs": [],
   "source": [
    "def clean_str(string):\n",
    "    import re\n",
    "    \"\"\"\n",
    "    Tokenization/string cleaning for datasets.\n",
    "    Original taken from https://github.com/yoonkim/CNN_sentence/blob/master/process_data.py\n",
    "    \"\"\"\n",
    "    #string = re.sub(r\"[^A-Za-z0-9(),!?\\'\\`]\", \" \", string)\n",
    "    string = re.sub(r\"[^A-Za-z0-9/.(),!?\\'\\`]\", \" \", string)\n",
    "    string = re.sub(r\"\\'s\", \" \\'s\", string)\n",
    "    string = re.sub(r\"\\'ve\", \" \\'ve\", string)\n",
    "    string = re.sub(r\"n\\'t\", \" n\\'t\", string)\n",
    "    string = re.sub(r\"\\'re\", \" \\'re\", string)\n",
    "    string = re.sub(r\"\\'d\", \" \\'d\", string)\n",
    "    string = re.sub(r\"\\'ll\", \" \\'ll\", string)\n",
    "    string = re.sub(r\",\", \" , \", string)\n",
    "    string = re.sub(r\"!\", \" ! \", string)\n",
    "    string = re.sub(r\"\\(\", \" \\( \", string)\n",
    "    string = re.sub(r\"\\)\", \" \\) \", string)\n",
    "    string = re.sub(r\"\\?\", \" \\? \", string)\n",
    "    string = re.sub(r\"\\s{2,}\", \" \", string)\n",
    "    #string = ''.join([i for i in string if not i.isdigit()])\n",
    "    return string.strip().lower()\n",
    "\n",
    "for column in train.columns:\n",
    "  if column == 'relevance':\n",
    "    continue\n",
    "  train[column] = train[column].map(lambda x:clean_str(str(x)))"
   ]
  },
  {
   "source": [
    "def replace_relevance_values(relevance):\n",
    "  #1->1, 2->4, 3->7\n",
    "  return round(relevance*6/2-2)\n",
    "\n",
    "#train['relevance'] = train['relevance'].map(lambda x:replace_relevance_values(x))"
   ],
   "cell_type": "markdown",
   "metadata": {}
  },
  {
   "source": [
    "def pad_sentences(sentences, padding_word=\"<PAD/>\", len_sent = None):\n",
    "    \"\"\"\n",
    "    Pads all sentences to the same length. The length is defined by the longest sentence.\n",
    "    Returns padded sentences.\n",
    "    \"\"\"\n",
    "    if len_sent is None:\n",
    "        sequence_length = max(len(x) for x in sentences)\n",
    "    else:\n",
    "        sequence_length = len_sent\n",
    "    padded_sentences = []\n",
    "    for i in range(len(sentences)):\n",
    "        sentence = sentences[i]\n",
    "        num_padding = sequence_length - len(sentence)\n",
    "        if num_padding >= 0:\n",
    "            new_sentence = sentence + [padding_word] * num_padding\n",
    "        else:\n",
    "            new_sentence = sentence[:sequence_length]\n",
    "        padded_sentences.append(new_sentence)\n",
    "    return padded_sentences"
   ],
   "cell_type": "markdown",
   "metadata": {}
  },
  {
   "cell_type": "code",
   "execution_count": 17,
   "metadata": {},
   "outputs": [
    {
     "output_type": "display_data",
     "data": {
      "text/plain": "<Figure size 432x288 with 1 Axes>",
      "image/svg+xml": "<?xml version=\"1.0\" encoding=\"utf-8\" standalone=\"no\"?>\r\n<!DOCTYPE svg PUBLIC \"-//W3C//DTD SVG 1.1//EN\"\r\n  \"http://www.w3.org/Graphics/SVG/1.1/DTD/svg11.dtd\">\r\n<!-- Created with matplotlib (https://matplotlib.org/) -->\r\n<svg height=\"248.518125pt\" version=\"1.1\" viewBox=\"0 0 388.0125 248.518125\" width=\"388.0125pt\" xmlns=\"http://www.w3.org/2000/svg\" xmlns:xlink=\"http://www.w3.org/1999/xlink\">\r\n <metadata>\r\n  <rdf:RDF xmlns:cc=\"http://creativecommons.org/ns#\" xmlns:dc=\"http://purl.org/dc/elements/1.1/\" xmlns:rdf=\"http://www.w3.org/1999/02/22-rdf-syntax-ns#\">\r\n   <cc:Work>\r\n    <dc:type rdf:resource=\"http://purl.org/dc/dcmitype/StillImage\"/>\r\n    <dc:date>2021-01-27T17:08:42.804127</dc:date>\r\n    <dc:format>image/svg+xml</dc:format>\r\n    <dc:creator>\r\n     <cc:Agent>\r\n      <dc:title>Matplotlib v3.3.3, https://matplotlib.org/</dc:title>\r\n     </cc:Agent>\r\n    </dc:creator>\r\n   </cc:Work>\r\n  </rdf:RDF>\r\n </metadata>\r\n <defs>\r\n  <style type=\"text/css\">*{stroke-linecap:butt;stroke-linejoin:round;}</style>\r\n </defs>\r\n <g id=\"figure_1\">\r\n  <g id=\"patch_1\">\r\n   <path d=\"M 0 248.518125 \r\nL 388.0125 248.518125 \r\nL 388.0125 0 \r\nL 0 0 \r\nz\r\n\" style=\"fill:none;\"/>\r\n  </g>\r\n  <g id=\"axes_1\">\r\n   <g id=\"patch_2\">\r\n    <path d=\"M 46.0125 224.64 \r\nL 380.8125 224.64 \r\nL 380.8125 7.2 \r\nL 46.0125 7.2 \r\nz\r\n\" style=\"fill:#ffffff;\"/>\r\n   </g>\r\n   <g id=\"patch_3\">\r\n    <path clip-path=\"url(#p401548b4d8)\" d=\"M 61.230682 224.64 \r\nL 91.667045 224.64 \r\nL 91.667045 192.964267 \r\nL 61.230682 192.964267 \r\nz\r\n\" style=\"fill:#1f77b4;\"/>\r\n   </g>\r\n   <g id=\"patch_4\">\r\n    <path clip-path=\"url(#p401548b4d8)\" d=\"M 91.667045 224.64 \r\nL 122.103409 224.64 \r\nL 122.103409 87.797243 \r\nL 91.667045 87.797243 \r\nz\r\n\" style=\"fill:#1f77b4;\"/>\r\n   </g>\r\n   <g id=\"patch_5\">\r\n    <path clip-path=\"url(#p401548b4d8)\" d=\"M 122.103409 224.64 \r\nL 152.539773 224.64 \r\nL 152.539773 17.554286 \r\nL 122.103409 17.554286 \r\nz\r\n\" style=\"fill:#1f77b4;\"/>\r\n   </g>\r\n   <g id=\"patch_6\">\r\n    <path clip-path=\"url(#p401548b4d8)\" d=\"M 152.539773 224.64 \r\nL 182.976136 224.64 \r\nL 182.976136 58.616086 \r\nL 152.539773 58.616086 \r\nz\r\n\" style=\"fill:#1f77b4;\"/>\r\n   </g>\r\n   <g id=\"patch_7\">\r\n    <path clip-path=\"url(#p401548b4d8)\" d=\"M 182.976136 224.64 \r\nL 213.4125 224.64 \r\nL 213.4125 145.56732 \r\nL 182.976136 145.56732 \r\nz\r\n\" style=\"fill:#1f77b4;\"/>\r\n   </g>\r\n   <g id=\"patch_8\">\r\n    <path clip-path=\"url(#p401548b4d8)\" d=\"M 213.4125 224.64 \r\nL 243.848864 224.64 \r\nL 243.848864 193.628291 \r\nL 213.4125 193.628291 \r\nz\r\n\" style=\"fill:#1f77b4;\"/>\r\n   </g>\r\n   <g id=\"patch_9\">\r\n    <path clip-path=\"url(#p401548b4d8)\" d=\"M 243.848864 224.64 \r\nL 274.285227 224.64 \r\nL 274.285227 215.298799 \r\nL 243.848864 215.298799 \r\nz\r\n\" style=\"fill:#1f77b4;\"/>\r\n   </g>\r\n   <g id=\"patch_10\">\r\n    <path clip-path=\"url(#p401548b4d8)\" d=\"M 274.285227 224.64 \r\nL 304.721591 224.64 \r\nL 304.721591 222.585115 \r\nL 274.285227 222.585115 \r\nz\r\n\" style=\"fill:#1f77b4;\"/>\r\n   </g>\r\n   <g id=\"patch_11\">\r\n    <path clip-path=\"url(#p401548b4d8)\" d=\"M 304.721591 224.64 \r\nL 335.157955 224.64 \r\nL 335.157955 223.697804 \r\nL 304.721591 223.697804 \r\nz\r\n\" style=\"fill:#1f77b4;\"/>\r\n   </g>\r\n   <g id=\"patch_12\">\r\n    <path clip-path=\"url(#p401548b4d8)\" d=\"M 335.157955 224.64 \r\nL 365.594318 224.64 \r\nL 365.594318 224.065709 \r\nL 335.157955 224.065709 \r\nz\r\n\" style=\"fill:#1f77b4;\"/>\r\n   </g>\r\n   <g id=\"matplotlib.axis_1\">\r\n    <g id=\"xtick_1\">\r\n     <g id=\"line2d_1\">\r\n      <path clip-path=\"url(#p401548b4d8)\" d=\"M 50.91327 224.64 \r\nL 50.91327 7.2 \r\n\" style=\"fill:none;stroke:#b0b0b0;stroke-linecap:square;stroke-width:0.8;\"/>\r\n     </g>\r\n     <g id=\"line2d_2\">\r\n      <defs>\r\n       <path d=\"M 0 0 \r\nL 0 3.5 \r\n\" id=\"m79060e6b99\" style=\"stroke:#000000;stroke-width:0.8;\"/>\r\n      </defs>\r\n      <g>\r\n       <use style=\"stroke:#000000;stroke-width:0.8;\" x=\"50.91327\" xlink:href=\"#m79060e6b99\" y=\"224.64\"/>\r\n      </g>\r\n     </g>\r\n     <g id=\"text_1\">\r\n      <!-- 0 -->\r\n      <g transform=\"translate(47.73202 239.238437)scale(0.1 -0.1)\">\r\n       <defs>\r\n        <path d=\"M 31.78125 66.40625 \r\nQ 24.171875 66.40625 20.328125 58.90625 \r\nQ 16.5 51.421875 16.5 36.375 \r\nQ 16.5 21.390625 20.328125 13.890625 \r\nQ 24.171875 6.390625 31.78125 6.390625 \r\nQ 39.453125 6.390625 43.28125 13.890625 \r\nQ 47.125 21.390625 47.125 36.375 \r\nQ 47.125 51.421875 43.28125 58.90625 \r\nQ 39.453125 66.40625 31.78125 66.40625 \r\nz\r\nM 31.78125 74.21875 \r\nQ 44.046875 74.21875 50.515625 64.515625 \r\nQ 56.984375 54.828125 56.984375 36.375 \r\nQ 56.984375 17.96875 50.515625 8.265625 \r\nQ 44.046875 -1.421875 31.78125 -1.421875 \r\nQ 19.53125 -1.421875 13.0625 8.265625 \r\nQ 6.59375 17.96875 6.59375 36.375 \r\nQ 6.59375 54.828125 13.0625 64.515625 \r\nQ 19.53125 74.21875 31.78125 74.21875 \r\nz\r\n\" id=\"DejaVuSans-48\"/>\r\n       </defs>\r\n       <use xlink:href=\"#DejaVuSans-48\"/>\r\n      </g>\r\n     </g>\r\n    </g>\r\n    <g id=\"xtick_2\">\r\n     <g id=\"line2d_3\">\r\n      <path clip-path=\"url(#p401548b4d8)\" d=\"M 102.500327 224.64 \r\nL 102.500327 7.2 \r\n\" style=\"fill:none;stroke:#b0b0b0;stroke-linecap:square;stroke-width:0.8;\"/>\r\n     </g>\r\n     <g id=\"line2d_4\">\r\n      <g>\r\n       <use style=\"stroke:#000000;stroke-width:0.8;\" x=\"102.500327\" xlink:href=\"#m79060e6b99\" y=\"224.64\"/>\r\n      </g>\r\n     </g>\r\n     <g id=\"text_2\">\r\n      <!-- 10 -->\r\n      <g transform=\"translate(96.137827 239.238437)scale(0.1 -0.1)\">\r\n       <defs>\r\n        <path d=\"M 12.40625 8.296875 \r\nL 28.515625 8.296875 \r\nL 28.515625 63.921875 \r\nL 10.984375 60.40625 \r\nL 10.984375 69.390625 \r\nL 28.421875 72.90625 \r\nL 38.28125 72.90625 \r\nL 38.28125 8.296875 \r\nL 54.390625 8.296875 \r\nL 54.390625 0 \r\nL 12.40625 0 \r\nz\r\n\" id=\"DejaVuSans-49\"/>\r\n       </defs>\r\n       <use xlink:href=\"#DejaVuSans-49\"/>\r\n       <use x=\"63.623047\" xlink:href=\"#DejaVuSans-48\"/>\r\n      </g>\r\n     </g>\r\n    </g>\r\n    <g id=\"xtick_3\">\r\n     <g id=\"line2d_5\">\r\n      <path clip-path=\"url(#p401548b4d8)\" d=\"M 154.087384 224.64 \r\nL 154.087384 7.2 \r\n\" style=\"fill:none;stroke:#b0b0b0;stroke-linecap:square;stroke-width:0.8;\"/>\r\n     </g>\r\n     <g id=\"line2d_6\">\r\n      <g>\r\n       <use style=\"stroke:#000000;stroke-width:0.8;\" x=\"154.087384\" xlink:href=\"#m79060e6b99\" y=\"224.64\"/>\r\n      </g>\r\n     </g>\r\n     <g id=\"text_3\">\r\n      <!-- 20 -->\r\n      <g transform=\"translate(147.724884 239.238437)scale(0.1 -0.1)\">\r\n       <defs>\r\n        <path d=\"M 19.1875 8.296875 \r\nL 53.609375 8.296875 \r\nL 53.609375 0 \r\nL 7.328125 0 \r\nL 7.328125 8.296875 \r\nQ 12.9375 14.109375 22.625 23.890625 \r\nQ 32.328125 33.6875 34.8125 36.53125 \r\nQ 39.546875 41.84375 41.421875 45.53125 \r\nQ 43.3125 49.21875 43.3125 52.78125 \r\nQ 43.3125 58.59375 39.234375 62.25 \r\nQ 35.15625 65.921875 28.609375 65.921875 \r\nQ 23.96875 65.921875 18.8125 64.3125 \r\nQ 13.671875 62.703125 7.8125 59.421875 \r\nL 7.8125 69.390625 \r\nQ 13.765625 71.78125 18.9375 73 \r\nQ 24.125 74.21875 28.421875 74.21875 \r\nQ 39.75 74.21875 46.484375 68.546875 \r\nQ 53.21875 62.890625 53.21875 53.421875 \r\nQ 53.21875 48.921875 51.53125 44.890625 \r\nQ 49.859375 40.875 45.40625 35.40625 \r\nQ 44.1875 33.984375 37.640625 27.21875 \r\nQ 31.109375 20.453125 19.1875 8.296875 \r\nz\r\n\" id=\"DejaVuSans-50\"/>\r\n       </defs>\r\n       <use xlink:href=\"#DejaVuSans-50\"/>\r\n       <use x=\"63.623047\" xlink:href=\"#DejaVuSans-48\"/>\r\n      </g>\r\n     </g>\r\n    </g>\r\n    <g id=\"xtick_4\">\r\n     <g id=\"line2d_7\">\r\n      <path clip-path=\"url(#p401548b4d8)\" d=\"M 205.674441 224.64 \r\nL 205.674441 7.2 \r\n\" style=\"fill:none;stroke:#b0b0b0;stroke-linecap:square;stroke-width:0.8;\"/>\r\n     </g>\r\n     <g id=\"line2d_8\">\r\n      <g>\r\n       <use style=\"stroke:#000000;stroke-width:0.8;\" x=\"205.674441\" xlink:href=\"#m79060e6b99\" y=\"224.64\"/>\r\n      </g>\r\n     </g>\r\n     <g id=\"text_4\">\r\n      <!-- 30 -->\r\n      <g transform=\"translate(199.311941 239.238437)scale(0.1 -0.1)\">\r\n       <defs>\r\n        <path d=\"M 40.578125 39.3125 \r\nQ 47.65625 37.796875 51.625 33 \r\nQ 55.609375 28.21875 55.609375 21.1875 \r\nQ 55.609375 10.40625 48.1875 4.484375 \r\nQ 40.765625 -1.421875 27.09375 -1.421875 \r\nQ 22.515625 -1.421875 17.65625 -0.515625 \r\nQ 12.796875 0.390625 7.625 2.203125 \r\nL 7.625 11.71875 \r\nQ 11.71875 9.328125 16.59375 8.109375 \r\nQ 21.484375 6.890625 26.8125 6.890625 \r\nQ 36.078125 6.890625 40.9375 10.546875 \r\nQ 45.796875 14.203125 45.796875 21.1875 \r\nQ 45.796875 27.640625 41.28125 31.265625 \r\nQ 36.765625 34.90625 28.71875 34.90625 \r\nL 20.21875 34.90625 \r\nL 20.21875 43.015625 \r\nL 29.109375 43.015625 \r\nQ 36.375 43.015625 40.234375 45.921875 \r\nQ 44.09375 48.828125 44.09375 54.296875 \r\nQ 44.09375 59.90625 40.109375 62.90625 \r\nQ 36.140625 65.921875 28.71875 65.921875 \r\nQ 24.65625 65.921875 20.015625 65.03125 \r\nQ 15.375 64.15625 9.8125 62.3125 \r\nL 9.8125 71.09375 \r\nQ 15.4375 72.65625 20.34375 73.4375 \r\nQ 25.25 74.21875 29.59375 74.21875 \r\nQ 40.828125 74.21875 47.359375 69.109375 \r\nQ 53.90625 64.015625 53.90625 55.328125 \r\nQ 53.90625 49.265625 50.4375 45.09375 \r\nQ 46.96875 40.921875 40.578125 39.3125 \r\nz\r\n\" id=\"DejaVuSans-51\"/>\r\n       </defs>\r\n       <use xlink:href=\"#DejaVuSans-51\"/>\r\n       <use x=\"63.623047\" xlink:href=\"#DejaVuSans-48\"/>\r\n      </g>\r\n     </g>\r\n    </g>\r\n    <g id=\"xtick_5\">\r\n     <g id=\"line2d_9\">\r\n      <path clip-path=\"url(#p401548b4d8)\" d=\"M 257.261498 224.64 \r\nL 257.261498 7.2 \r\n\" style=\"fill:none;stroke:#b0b0b0;stroke-linecap:square;stroke-width:0.8;\"/>\r\n     </g>\r\n     <g id=\"line2d_10\">\r\n      <g>\r\n       <use style=\"stroke:#000000;stroke-width:0.8;\" x=\"257.261498\" xlink:href=\"#m79060e6b99\" y=\"224.64\"/>\r\n      </g>\r\n     </g>\r\n     <g id=\"text_5\">\r\n      <!-- 40 -->\r\n      <g transform=\"translate(250.898998 239.238437)scale(0.1 -0.1)\">\r\n       <defs>\r\n        <path d=\"M 37.796875 64.3125 \r\nL 12.890625 25.390625 \r\nL 37.796875 25.390625 \r\nz\r\nM 35.203125 72.90625 \r\nL 47.609375 72.90625 \r\nL 47.609375 25.390625 \r\nL 58.015625 25.390625 \r\nL 58.015625 17.1875 \r\nL 47.609375 17.1875 \r\nL 47.609375 0 \r\nL 37.796875 0 \r\nL 37.796875 17.1875 \r\nL 4.890625 17.1875 \r\nL 4.890625 26.703125 \r\nz\r\n\" id=\"DejaVuSans-52\"/>\r\n       </defs>\r\n       <use xlink:href=\"#DejaVuSans-52\"/>\r\n       <use x=\"63.623047\" xlink:href=\"#DejaVuSans-48\"/>\r\n      </g>\r\n     </g>\r\n    </g>\r\n    <g id=\"xtick_6\">\r\n     <g id=\"line2d_11\">\r\n      <path clip-path=\"url(#p401548b4d8)\" d=\"M 308.848555 224.64 \r\nL 308.848555 7.2 \r\n\" style=\"fill:none;stroke:#b0b0b0;stroke-linecap:square;stroke-width:0.8;\"/>\r\n     </g>\r\n     <g id=\"line2d_12\">\r\n      <g>\r\n       <use style=\"stroke:#000000;stroke-width:0.8;\" x=\"308.848555\" xlink:href=\"#m79060e6b99\" y=\"224.64\"/>\r\n      </g>\r\n     </g>\r\n     <g id=\"text_6\">\r\n      <!-- 50 -->\r\n      <g transform=\"translate(302.486055 239.238437)scale(0.1 -0.1)\">\r\n       <defs>\r\n        <path d=\"M 10.796875 72.90625 \r\nL 49.515625 72.90625 \r\nL 49.515625 64.59375 \r\nL 19.828125 64.59375 \r\nL 19.828125 46.734375 \r\nQ 21.96875 47.46875 24.109375 47.828125 \r\nQ 26.265625 48.1875 28.421875 48.1875 \r\nQ 40.625 48.1875 47.75 41.5 \r\nQ 54.890625 34.8125 54.890625 23.390625 \r\nQ 54.890625 11.625 47.5625 5.09375 \r\nQ 40.234375 -1.421875 26.90625 -1.421875 \r\nQ 22.3125 -1.421875 17.546875 -0.640625 \r\nQ 12.796875 0.140625 7.71875 1.703125 \r\nL 7.71875 11.625 \r\nQ 12.109375 9.234375 16.796875 8.0625 \r\nQ 21.484375 6.890625 26.703125 6.890625 \r\nQ 35.15625 6.890625 40.078125 11.328125 \r\nQ 45.015625 15.765625 45.015625 23.390625 \r\nQ 45.015625 31 40.078125 35.4375 \r\nQ 35.15625 39.890625 26.703125 39.890625 \r\nQ 22.75 39.890625 18.8125 39.015625 \r\nQ 14.890625 38.140625 10.796875 36.28125 \r\nz\r\n\" id=\"DejaVuSans-53\"/>\r\n       </defs>\r\n       <use xlink:href=\"#DejaVuSans-53\"/>\r\n       <use x=\"63.623047\" xlink:href=\"#DejaVuSans-48\"/>\r\n      </g>\r\n     </g>\r\n    </g>\r\n    <g id=\"xtick_7\">\r\n     <g id=\"line2d_13\">\r\n      <path clip-path=\"url(#p401548b4d8)\" d=\"M 360.435612 224.64 \r\nL 360.435612 7.2 \r\n\" style=\"fill:none;stroke:#b0b0b0;stroke-linecap:square;stroke-width:0.8;\"/>\r\n     </g>\r\n     <g id=\"line2d_14\">\r\n      <g>\r\n       <use style=\"stroke:#000000;stroke-width:0.8;\" x=\"360.435612\" xlink:href=\"#m79060e6b99\" y=\"224.64\"/>\r\n      </g>\r\n     </g>\r\n     <g id=\"text_7\">\r\n      <!-- 60 -->\r\n      <g transform=\"translate(354.073112 239.238437)scale(0.1 -0.1)\">\r\n       <defs>\r\n        <path d=\"M 33.015625 40.375 \r\nQ 26.375 40.375 22.484375 35.828125 \r\nQ 18.609375 31.296875 18.609375 23.390625 \r\nQ 18.609375 15.53125 22.484375 10.953125 \r\nQ 26.375 6.390625 33.015625 6.390625 \r\nQ 39.65625 6.390625 43.53125 10.953125 \r\nQ 47.40625 15.53125 47.40625 23.390625 \r\nQ 47.40625 31.296875 43.53125 35.828125 \r\nQ 39.65625 40.375 33.015625 40.375 \r\nz\r\nM 52.59375 71.296875 \r\nL 52.59375 62.3125 \r\nQ 48.875 64.0625 45.09375 64.984375 \r\nQ 41.3125 65.921875 37.59375 65.921875 \r\nQ 27.828125 65.921875 22.671875 59.328125 \r\nQ 17.53125 52.734375 16.796875 39.40625 \r\nQ 19.671875 43.65625 24.015625 45.921875 \r\nQ 28.375 48.1875 33.59375 48.1875 \r\nQ 44.578125 48.1875 50.953125 41.515625 \r\nQ 57.328125 34.859375 57.328125 23.390625 \r\nQ 57.328125 12.15625 50.6875 5.359375 \r\nQ 44.046875 -1.421875 33.015625 -1.421875 \r\nQ 20.359375 -1.421875 13.671875 8.265625 \r\nQ 6.984375 17.96875 6.984375 36.375 \r\nQ 6.984375 53.65625 15.1875 63.9375 \r\nQ 23.390625 74.21875 37.203125 74.21875 \r\nQ 40.921875 74.21875 44.703125 73.484375 \r\nQ 48.484375 72.75 52.59375 71.296875 \r\nz\r\n\" id=\"DejaVuSans-54\"/>\r\n       </defs>\r\n       <use xlink:href=\"#DejaVuSans-54\"/>\r\n       <use x=\"63.623047\" xlink:href=\"#DejaVuSans-48\"/>\r\n      </g>\r\n     </g>\r\n    </g>\r\n   </g>\r\n   <g id=\"matplotlib.axis_2\">\r\n    <g id=\"ytick_1\">\r\n     <g id=\"line2d_15\">\r\n      <path clip-path=\"url(#p401548b4d8)\" d=\"M 46.0125 224.64 \r\nL 380.8125 224.64 \r\n\" style=\"fill:none;stroke:#b0b0b0;stroke-linecap:square;stroke-width:0.8;\"/>\r\n     </g>\r\n     <g id=\"line2d_16\">\r\n      <defs>\r\n       <path d=\"M 0 0 \r\nL -3.5 0 \r\n\" id=\"m8fb4b06b0d\" style=\"stroke:#000000;stroke-width:0.8;\"/>\r\n      </defs>\r\n      <g>\r\n       <use style=\"stroke:#000000;stroke-width:0.8;\" x=\"46.0125\" xlink:href=\"#m8fb4b06b0d\" y=\"224.64\"/>\r\n      </g>\r\n     </g>\r\n     <g id=\"text_8\">\r\n      <!-- 0 -->\r\n      <g transform=\"translate(32.65 228.439219)scale(0.1 -0.1)\">\r\n       <use xlink:href=\"#DejaVuSans-48\"/>\r\n      </g>\r\n     </g>\r\n    </g>\r\n    <g id=\"ytick_2\">\r\n     <g id=\"line2d_17\">\r\n      <path clip-path=\"url(#p401548b4d8)\" d=\"M 46.0125 179.773522 \r\nL 380.8125 179.773522 \r\n\" style=\"fill:none;stroke:#b0b0b0;stroke-linecap:square;stroke-width:0.8;\"/>\r\n     </g>\r\n     <g id=\"line2d_18\">\r\n      <g>\r\n       <use style=\"stroke:#000000;stroke-width:0.8;\" x=\"46.0125\" xlink:href=\"#m8fb4b06b0d\" y=\"179.773522\"/>\r\n      </g>\r\n     </g>\r\n     <g id=\"text_9\">\r\n      <!-- 5000 -->\r\n      <g transform=\"translate(13.5625 183.572741)scale(0.1 -0.1)\">\r\n       <use xlink:href=\"#DejaVuSans-53\"/>\r\n       <use x=\"63.623047\" xlink:href=\"#DejaVuSans-48\"/>\r\n       <use x=\"127.246094\" xlink:href=\"#DejaVuSans-48\"/>\r\n       <use x=\"190.869141\" xlink:href=\"#DejaVuSans-48\"/>\r\n      </g>\r\n     </g>\r\n    </g>\r\n    <g id=\"ytick_3\">\r\n     <g id=\"line2d_19\">\r\n      <path clip-path=\"url(#p401548b4d8)\" d=\"M 46.0125 134.907045 \r\nL 380.8125 134.907045 \r\n\" style=\"fill:none;stroke:#b0b0b0;stroke-linecap:square;stroke-width:0.8;\"/>\r\n     </g>\r\n     <g id=\"line2d_20\">\r\n      <g>\r\n       <use style=\"stroke:#000000;stroke-width:0.8;\" x=\"46.0125\" xlink:href=\"#m8fb4b06b0d\" y=\"134.907045\"/>\r\n      </g>\r\n     </g>\r\n     <g id=\"text_10\">\r\n      <!-- 10000 -->\r\n      <g transform=\"translate(7.2 138.706263)scale(0.1 -0.1)\">\r\n       <use xlink:href=\"#DejaVuSans-49\"/>\r\n       <use x=\"63.623047\" xlink:href=\"#DejaVuSans-48\"/>\r\n       <use x=\"127.246094\" xlink:href=\"#DejaVuSans-48\"/>\r\n       <use x=\"190.869141\" xlink:href=\"#DejaVuSans-48\"/>\r\n       <use x=\"254.492188\" xlink:href=\"#DejaVuSans-48\"/>\r\n      </g>\r\n     </g>\r\n    </g>\r\n    <g id=\"ytick_4\">\r\n     <g id=\"line2d_21\">\r\n      <path clip-path=\"url(#p401548b4d8)\" d=\"M 46.0125 90.040567 \r\nL 380.8125 90.040567 \r\n\" style=\"fill:none;stroke:#b0b0b0;stroke-linecap:square;stroke-width:0.8;\"/>\r\n     </g>\r\n     <g id=\"line2d_22\">\r\n      <g>\r\n       <use style=\"stroke:#000000;stroke-width:0.8;\" x=\"46.0125\" xlink:href=\"#m8fb4b06b0d\" y=\"90.040567\"/>\r\n      </g>\r\n     </g>\r\n     <g id=\"text_11\">\r\n      <!-- 15000 -->\r\n      <g transform=\"translate(7.2 93.839786)scale(0.1 -0.1)\">\r\n       <use xlink:href=\"#DejaVuSans-49\"/>\r\n       <use x=\"63.623047\" xlink:href=\"#DejaVuSans-53\"/>\r\n       <use x=\"127.246094\" xlink:href=\"#DejaVuSans-48\"/>\r\n       <use x=\"190.869141\" xlink:href=\"#DejaVuSans-48\"/>\r\n       <use x=\"254.492188\" xlink:href=\"#DejaVuSans-48\"/>\r\n      </g>\r\n     </g>\r\n    </g>\r\n    <g id=\"ytick_5\">\r\n     <g id=\"line2d_23\">\r\n      <path clip-path=\"url(#p401548b4d8)\" d=\"M 46.0125 45.174089 \r\nL 380.8125 45.174089 \r\n\" style=\"fill:none;stroke:#b0b0b0;stroke-linecap:square;stroke-width:0.8;\"/>\r\n     </g>\r\n     <g id=\"line2d_24\">\r\n      <g>\r\n       <use style=\"stroke:#000000;stroke-width:0.8;\" x=\"46.0125\" xlink:href=\"#m8fb4b06b0d\" y=\"45.174089\"/>\r\n      </g>\r\n     </g>\r\n     <g id=\"text_12\">\r\n      <!-- 20000 -->\r\n      <g transform=\"translate(7.2 48.973308)scale(0.1 -0.1)\">\r\n       <use xlink:href=\"#DejaVuSans-50\"/>\r\n       <use x=\"63.623047\" xlink:href=\"#DejaVuSans-48\"/>\r\n       <use x=\"127.246094\" xlink:href=\"#DejaVuSans-48\"/>\r\n       <use x=\"190.869141\" xlink:href=\"#DejaVuSans-48\"/>\r\n       <use x=\"254.492188\" xlink:href=\"#DejaVuSans-48\"/>\r\n      </g>\r\n     </g>\r\n    </g>\r\n   </g>\r\n   <g id=\"patch_13\">\r\n    <path d=\"M 46.0125 224.64 \r\nL 46.0125 7.2 \r\n\" style=\"fill:none;stroke:#000000;stroke-linecap:square;stroke-linejoin:miter;stroke-width:0.8;\"/>\r\n   </g>\r\n   <g id=\"patch_14\">\r\n    <path d=\"M 380.8125 224.64 \r\nL 380.8125 7.2 \r\n\" style=\"fill:none;stroke:#000000;stroke-linecap:square;stroke-linejoin:miter;stroke-width:0.8;\"/>\r\n   </g>\r\n   <g id=\"patch_15\">\r\n    <path d=\"M 46.0125 224.64 \r\nL 380.8125 224.64 \r\n\" style=\"fill:none;stroke:#000000;stroke-linecap:square;stroke-linejoin:miter;stroke-width:0.8;\"/>\r\n   </g>\r\n   <g id=\"patch_16\">\r\n    <path d=\"M 46.0125 7.2 \r\nL 380.8125 7.2 \r\n\" style=\"fill:none;stroke:#000000;stroke-linecap:square;stroke-linejoin:miter;stroke-width:0.8;\"/>\r\n   </g>\r\n  </g>\r\n </g>\r\n <defs>\r\n  <clipPath id=\"p401548b4d8\">\r\n   <rect height=\"217.44\" width=\"334.8\" x=\"46.0125\" y=\"7.2\"/>\r\n  </clipPath>\r\n </defs>\r\n</svg>\r\n",
      "image/png": "[encoded data removed]"
     },
     "metadata": {
      "needs_background": "light"
     }
    }
   ],
   "source": [
    "import matplotlib.pyplot as plt\n",
    "from matplotlib.pyplot import hist\n",
    "\n",
    "train['search_term'].str.len().hist(bins=10)\n",
    "plt.show()\n"
   ]
  },
  {
   "cell_type": "code",
   "execution_count": 18,
   "metadata": {},
   "outputs": [
    {
     "output_type": "display_data",
     "data": {
      "text/plain": "<Figure size 432x288 with 1 Axes>",
      "image/svg+xml": "<?xml version=\"1.0\" encoding=\"utf-8\" standalone=\"no\"?>\r\n<!DOCTYPE svg PUBLIC \"-//W3C//DTD SVG 1.1//EN\"\r\n  \"http://www.w3.org/Graphics/SVG/1.1/DTD/svg11.dtd\">\r\n<!-- Created with matplotlib (https://matplotlib.org/) -->\r\n<svg height=\"262.19625pt\" version=\"1.1\" viewBox=\"0 0 376.240625 262.19625\" width=\"376.240625pt\" xmlns=\"http://www.w3.org/2000/svg\" xmlns:xlink=\"http://www.w3.org/1999/xlink\">\r\n <metadata>\r\n  <rdf:RDF xmlns:cc=\"http://creativecommons.org/ns#\" xmlns:dc=\"http://purl.org/dc/elements/1.1/\" xmlns:rdf=\"http://www.w3.org/1999/02/22-rdf-syntax-ns#\">\r\n   <cc:Work>\r\n    <dc:type rdf:resource=\"http://purl.org/dc/dcmitype/StillImage\"/>\r\n    <dc:date>2021-01-27T17:08:45.854765</dc:date>\r\n    <dc:format>image/svg+xml</dc:format>\r\n    <dc:creator>\r\n     <cc:Agent>\r\n      <dc:title>Matplotlib v3.3.3, https://matplotlib.org/</dc:title>\r\n     </cc:Agent>\r\n    </dc:creator>\r\n   </cc:Work>\r\n  </rdf:RDF>\r\n </metadata>\r\n <defs>\r\n  <style type=\"text/css\">*{stroke-linecap:butt;stroke-linejoin:round;}</style>\r\n </defs>\r\n <g id=\"figure_1\">\r\n  <g id=\"patch_1\">\r\n   <path d=\"M 0 262.19625 \r\nL 376.240625 262.19625 \r\nL 376.240625 0 \r\nL 0 0 \r\nz\r\n\" style=\"fill:none;\"/>\r\n  </g>\r\n  <g id=\"axes_1\">\r\n   <g id=\"patch_2\">\r\n    <path d=\"M 34.240625 224.64 \r\nL 369.040625 224.64 \r\nL 369.040625 7.2 \r\nL 34.240625 7.2 \r\nz\r\n\" style=\"fill:#ffffff;\"/>\r\n   </g>\r\n   <g id=\"patch_3\">\r\n    <path clip-path=\"url(#p1f0a4b4595)\" d=\"M 71.58269 224.64 \r\nL 77.775925 224.64 \r\nL 77.775925 201.847036 \r\nL 71.58269 201.847036 \r\nz\r\n\" style=\"fill:#1f77b4;opacity:0.4;\"/>\r\n   </g>\r\n   <g id=\"patch_4\">\r\n    <path clip-path=\"url(#p1f0a4b4595)\" d=\"M 77.775925 224.64 \r\nL 83.96916 224.64 \r\nL 83.96916 224.64 \r\nL 77.775925 224.64 \r\nz\r\n\" style=\"fill:#1f77b4;opacity:0.4;\"/>\r\n   </g>\r\n   <g id=\"patch_5\">\r\n    <path clip-path=\"url(#p1f0a4b4595)\" d=\"M 83.96916 224.64 \r\nL 90.162395 224.64 \r\nL 90.162395 224.64 \r\nL 83.96916 224.64 \r\nz\r\n\" style=\"fill:#1f77b4;opacity:0.4;\"/>\r\n   </g>\r\n   <g id=\"patch_6\">\r\n    <path clip-path=\"url(#p1f0a4b4595)\" d=\"M 90.162395 224.64 \r\nL 96.35563 224.64 \r\nL 96.35563 224.64 \r\nL 90.162395 224.64 \r\nz\r\n\" style=\"fill:#1f77b4;opacity:0.4;\"/>\r\n   </g>\r\n   <g id=\"patch_7\">\r\n    <path clip-path=\"url(#p1f0a4b4595)\" d=\"M 96.35563 224.64 \r\nL 102.548865 224.64 \r\nL 102.548865 224.64 \r\nL 96.35563 224.64 \r\nz\r\n\" style=\"fill:#1f77b4;opacity:0.4;\"/>\r\n   </g>\r\n   <g id=\"patch_8\">\r\n    <path clip-path=\"url(#p1f0a4b4595)\" d=\"M 102.548865 224.64 \r\nL 108.7421 224.64 \r\nL 108.7421 224.596688 \r\nL 102.548865 224.596688 \r\nz\r\n\" style=\"fill:#1f77b4;opacity:0.4;\"/>\r\n   </g>\r\n   <g id=\"patch_9\">\r\n    <path clip-path=\"url(#p1f0a4b4595)\" d=\"M 108.7421 224.64 \r\nL 114.935335 224.64 \r\nL 114.935335 192.090998 \r\nL 108.7421 192.090998 \r\nz\r\n\" style=\"fill:#1f77b4;opacity:0.4;\"/>\r\n   </g>\r\n   <g id=\"patch_10\">\r\n    <path clip-path=\"url(#p1f0a4b4595)\" d=\"M 114.935335 224.64 \r\nL 121.12857 224.64 \r\nL 121.12857 224.64 \r\nL 114.935335 224.64 \r\nz\r\n\" style=\"fill:#1f77b4;opacity:0.4;\"/>\r\n   </g>\r\n   <g id=\"patch_11\">\r\n    <path clip-path=\"url(#p1f0a4b4595)\" d=\"M 121.12857 224.64 \r\nL 127.321805 224.64 \r\nL 127.321805 224.64 \r\nL 121.12857 224.64 \r\nz\r\n\" style=\"fill:#1f77b4;opacity:0.4;\"/>\r\n   </g>\r\n   <g id=\"patch_12\">\r\n    <path clip-path=\"url(#p1f0a4b4595)\" d=\"M 127.321805 224.64 \r\nL 133.51504 224.64 \r\nL 133.51504 224.64 \r\nL 127.321805 224.64 \r\nz\r\n\" style=\"fill:#1f77b4;opacity:0.4;\"/>\r\n   </g>\r\n   <g id=\"patch_13\">\r\n    <path clip-path=\"url(#p1f0a4b4595)\" d=\"M 133.51504 224.64 \r\nL 139.708275 224.64 \r\nL 139.708275 224.58586 \r\nL 133.51504 224.58586 \r\nz\r\n\" style=\"fill:#1f77b4;opacity:0.4;\"/>\r\n   </g>\r\n   <g id=\"patch_14\">\r\n    <path clip-path=\"url(#p1f0a4b4595)\" d=\"M 139.708275 224.64 \r\nL 145.90151 224.64 \r\nL 145.90151 224.64 \r\nL 139.708275 224.64 \r\nz\r\n\" style=\"fill:#1f77b4;opacity:0.4;\"/>\r\n   </g>\r\n   <g id=\"patch_15\">\r\n    <path clip-path=\"url(#p1f0a4b4595)\" d=\"M 145.90151 224.64 \r\nL 152.094745 224.64 \r\nL 152.094745 224.64 \r\nL 145.90151 224.64 \r\nz\r\n\" style=\"fill:#1f77b4;opacity:0.4;\"/>\r\n   </g>\r\n   <g id=\"patch_16\">\r\n    <path clip-path=\"url(#p1f0a4b4595)\" d=\"M 152.094745 224.64 \r\nL 158.28798 224.64 \r\nL 158.28798 224.64 \r\nL 152.094745 224.64 \r\nz\r\n\" style=\"fill:#1f77b4;opacity:0.4;\"/>\r\n   </g>\r\n   <g id=\"patch_17\">\r\n    <path clip-path=\"url(#p1f0a4b4595)\" d=\"M 158.28798 224.64 \r\nL 164.481215 224.64 \r\nL 164.481215 151.226084 \r\nL 158.28798 151.226084 \r\nz\r\n\" style=\"fill:#1f77b4;opacity:0.4;\"/>\r\n   </g>\r\n   <g id=\"patch_18\">\r\n    <path clip-path=\"url(#p1f0a4b4595)\" d=\"M 164.481215 224.64 \r\nL 170.67445 224.64 \r\nL 170.67445 224.542548 \r\nL 164.481215 224.542548 \r\nz\r\n\" style=\"fill:#1f77b4;opacity:0.4;\"/>\r\n   </g>\r\n   <g id=\"patch_19\">\r\n    <path clip-path=\"url(#p1f0a4b4595)\" d=\"M 170.67445 224.64 \r\nL 176.867685 224.64 \r\nL 176.867685 224.64 \r\nL 170.67445 224.64 \r\nz\r\n\" style=\"fill:#1f77b4;opacity:0.4;\"/>\r\n   </g>\r\n   <g id=\"patch_20\">\r\n    <path clip-path=\"url(#p1f0a4b4595)\" d=\"M 176.867685 224.64 \r\nL 183.06092 224.64 \r\nL 183.06092 224.64 \r\nL 176.867685 224.64 \r\nz\r\n\" style=\"fill:#1f77b4;opacity:0.4;\"/>\r\n   </g>\r\n   <g id=\"patch_21\">\r\n    <path clip-path=\"url(#p1f0a4b4595)\" d=\"M 183.06092 224.64 \r\nL 189.254155 224.64 \r\nL 189.254155 224.64 \r\nL 183.06092 224.64 \r\nz\r\n\" style=\"fill:#1f77b4;opacity:0.4;\"/>\r\n   </g>\r\n   <g id=\"patch_22\">\r\n    <path clip-path=\"url(#p1f0a4b4595)\" d=\"M 189.254155 224.64 \r\nL 195.44739 224.64 \r\nL 195.44739 224.64 \r\nL 189.254155 224.64 \r\nz\r\n\" style=\"fill:#1f77b4;opacity:0.4;\"/>\r\n   </g>\r\n   <g id=\"patch_23\">\r\n    <path clip-path=\"url(#p1f0a4b4595)\" d=\"M 195.44739 224.64 \r\nL 201.640625 224.64 \r\nL 201.640625 224.64 \r\nL 195.44739 224.64 \r\nz\r\n\" style=\"fill:#1f77b4;opacity:0.4;\"/>\r\n   </g>\r\n   <g id=\"patch_24\">\r\n    <path clip-path=\"url(#p1f0a4b4595)\" d=\"M 201.640625 224.64 \r\nL 207.83386 224.64 \r\nL 207.83386 97.627429 \r\nL 201.640625 97.627429 \r\nz\r\n\" style=\"fill:#1f77b4;opacity:0.4;\"/>\r\n   </g>\r\n   <g id=\"patch_25\">\r\n    <path clip-path=\"url(#p1f0a4b4595)\" d=\"M 207.83386 224.64 \r\nL 214.027095 224.64 \r\nL 214.027095 224.64 \r\nL 207.83386 224.64 \r\nz\r\n\" style=\"fill:#1f77b4;opacity:0.4;\"/>\r\n   </g>\r\n   <g id=\"patch_26\">\r\n    <path clip-path=\"url(#p1f0a4b4595)\" d=\"M 214.027095 224.64 \r\nL 220.22033 224.64 \r\nL 220.22033 224.64 \r\nL 214.027095 224.64 \r\nz\r\n\" style=\"fill:#1f77b4;opacity:0.4;\"/>\r\n   </g>\r\n   <g id=\"patch_27\">\r\n    <path clip-path=\"url(#p1f0a4b4595)\" d=\"M 220.22033 224.64 \r\nL 226.413565 224.64 \r\nL 226.413565 224.64 \r\nL 220.22033 224.64 \r\nz\r\n\" style=\"fill:#1f77b4;opacity:0.4;\"/>\r\n   </g>\r\n   <g id=\"patch_28\">\r\n    <path clip-path=\"url(#p1f0a4b4595)\" d=\"M 226.413565 224.64 \r\nL 232.6068 224.64 \r\nL 232.6068 224.64 \r\nL 226.413565 224.64 \r\nz\r\n\" style=\"fill:#1f77b4;opacity:0.4;\"/>\r\n   </g>\r\n   <g id=\"patch_29\">\r\n    <path clip-path=\"url(#p1f0a4b4595)\" d=\"M 232.6068 224.64 \r\nL 238.800035 224.64 \r\nL 238.800035 224.520892 \r\nL 232.6068 224.520892 \r\nz\r\n\" style=\"fill:#1f77b4;opacity:0.4;\"/>\r\n   </g>\r\n   <g id=\"patch_30\">\r\n    <path clip-path=\"url(#p1f0a4b4595)\" d=\"M 238.800035 224.64 \r\nL 244.99327 224.64 \r\nL 244.99327 50.74214 \r\nL 238.800035 50.74214 \r\nz\r\n\" style=\"fill:#1f77b4;opacity:0.4;\"/>\r\n   </g>\r\n   <g id=\"patch_31\">\r\n    <path clip-path=\"url(#p1f0a4b4595)\" d=\"M 244.99327 224.64 \r\nL 251.186505 224.64 \r\nL 251.186505 224.64 \r\nL 244.99327 224.64 \r\nz\r\n\" style=\"fill:#1f77b4;opacity:0.4;\"/>\r\n   </g>\r\n   <g id=\"patch_32\">\r\n    <path clip-path=\"url(#p1f0a4b4595)\" d=\"M 251.186505 224.64 \r\nL 257.37974 224.64 \r\nL 257.37974 224.64 \r\nL 251.186505 224.64 \r\nz\r\n\" style=\"fill:#1f77b4;opacity:0.4;\"/>\r\n   </g>\r\n   <g id=\"patch_33\">\r\n    <path clip-path=\"url(#p1f0a4b4595)\" d=\"M 257.37974 224.64 \r\nL 263.572975 224.64 \r\nL 263.572975 224.64 \r\nL 257.37974 224.64 \r\nz\r\n\" style=\"fill:#1f77b4;opacity:0.4;\"/>\r\n   </g>\r\n   <g id=\"patch_34\">\r\n    <path clip-path=\"url(#p1f0a4b4595)\" d=\"M 263.572975 224.64 \r\nL 269.76621 224.64 \r\nL 269.76621 224.434268 \r\nL 263.572975 224.434268 \r\nz\r\n\" style=\"fill:#1f77b4;opacity:0.4;\"/>\r\n   </g>\r\n   <g id=\"patch_35\">\r\n    <path clip-path=\"url(#p1f0a4b4595)\" d=\"M 269.76621 224.64 \r\nL 275.959445 224.64 \r\nL 275.959445 224.64 \r\nL 269.76621 224.64 \r\nz\r\n\" style=\"fill:#1f77b4;opacity:0.4;\"/>\r\n   </g>\r\n   <g id=\"patch_36\">\r\n    <path clip-path=\"url(#p1f0a4b4595)\" d=\"M 275.959445 224.64 \r\nL 282.15268 224.64 \r\nL 282.15268 224.64 \r\nL 275.959445 224.64 \r\nz\r\n\" style=\"fill:#1f77b4;opacity:0.4;\"/>\r\n   </g>\r\n   <g id=\"patch_37\">\r\n    <path clip-path=\"url(#p1f0a4b4595)\" d=\"M 282.15268 224.64 \r\nL 288.345915 224.64 \r\nL 288.345915 224.64 \r\nL 282.15268 224.64 \r\nz\r\n\" style=\"fill:#1f77b4;opacity:0.4;\"/>\r\n   </g>\r\n   <g id=\"patch_38\">\r\n    <path clip-path=\"url(#p1f0a4b4595)\" d=\"M 288.345915 224.64 \r\nL 294.53915 224.64 \r\nL 294.53915 60.032574 \r\nL 288.345915 60.032574 \r\nz\r\n\" style=\"fill:#1f77b4;opacity:0.4;\"/>\r\n   </g>\r\n   <g id=\"patch_39\">\r\n    <path clip-path=\"url(#p1f0a4b4595)\" d=\"M 294.53915 224.64 \r\nL 300.732385 224.64 \r\nL 300.732385 224.520892 \r\nL 294.53915 224.520892 \r\nz\r\n\" style=\"fill:#1f77b4;opacity:0.4;\"/>\r\n   </g>\r\n   <g id=\"patch_40\">\r\n    <path clip-path=\"url(#p1f0a4b4595)\" d=\"M 300.732385 224.64 \r\nL 306.92562 224.64 \r\nL 306.92562 224.64 \r\nL 300.732385 224.64 \r\nz\r\n\" style=\"fill:#1f77b4;opacity:0.4;\"/>\r\n   </g>\r\n   <g id=\"patch_41\">\r\n    <path clip-path=\"url(#p1f0a4b4595)\" d=\"M 306.92562 224.64 \r\nL 313.118855 224.64 \r\nL 313.118855 224.64 \r\nL 306.92562 224.64 \r\nz\r\n\" style=\"fill:#1f77b4;opacity:0.4;\"/>\r\n   </g>\r\n   <g id=\"patch_42\">\r\n    <path clip-path=\"url(#p1f0a4b4595)\" d=\"M 313.118855 224.64 \r\nL 319.31209 224.64 \r\nL 319.31209 224.64 \r\nL 313.118855 224.64 \r\nz\r\n\" style=\"fill:#1f77b4;opacity:0.4;\"/>\r\n   </g>\r\n   <g id=\"patch_43\">\r\n    <path clip-path=\"url(#p1f0a4b4595)\" d=\"M 319.31209 224.64 \r\nL 325.505325 224.64 \r\nL 325.505325 224.64 \r\nL 319.31209 224.64 \r\nz\r\n\" style=\"fill:#1f77b4;opacity:0.4;\"/>\r\n   </g>\r\n   <g id=\"patch_44\">\r\n    <path clip-path=\"url(#p1f0a4b4595)\" d=\"M 325.505325 224.64 \r\nL 331.69856 224.64 \r\nL 331.69856 17.554286 \r\nL 325.505325 17.554286 \r\nz\r\n\" style=\"fill:#1f77b4;opacity:0.4;\"/>\r\n   </g>\r\n   <g id=\"matplotlib.axis_1\">\r\n    <g id=\"xtick_1\">\r\n     <g id=\"line2d_1\">\r\n      <defs>\r\n       <path d=\"M 0 0 \r\nL 0 3.5 \r\n\" id=\"mc9589004db\" style=\"stroke:#000000;stroke-width:0.8;\"/>\r\n      </defs>\r\n      <g>\r\n       <use style=\"stroke:#000000;stroke-width:0.8;\" x=\"71.58269\" xlink:href=\"#mc9589004db\" y=\"224.64\"/>\r\n      </g>\r\n     </g>\r\n     <g id=\"text_1\">\r\n      <!-- 1.0 -->\r\n      <g transform=\"translate(63.631128 239.238437)scale(0.1 -0.1)\">\r\n       <defs>\r\n        <path d=\"M 12.40625 8.296875 \r\nL 28.515625 8.296875 \r\nL 28.515625 63.921875 \r\nL 10.984375 60.40625 \r\nL 10.984375 69.390625 \r\nL 28.421875 72.90625 \r\nL 38.28125 72.90625 \r\nL 38.28125 8.296875 \r\nL 54.390625 8.296875 \r\nL 54.390625 0 \r\nL 12.40625 0 \r\nz\r\n\" id=\"DejaVuSans-49\"/>\r\n        <path d=\"M 10.6875 12.40625 \r\nL 21 12.40625 \r\nL 21 0 \r\nL 10.6875 0 \r\nz\r\n\" id=\"DejaVuSans-46\"/>\r\n        <path d=\"M 31.78125 66.40625 \r\nQ 24.171875 66.40625 20.328125 58.90625 \r\nQ 16.5 51.421875 16.5 36.375 \r\nQ 16.5 21.390625 20.328125 13.890625 \r\nQ 24.171875 6.390625 31.78125 6.390625 \r\nQ 39.453125 6.390625 43.28125 13.890625 \r\nQ 47.125 21.390625 47.125 36.375 \r\nQ 47.125 51.421875 43.28125 58.90625 \r\nQ 39.453125 66.40625 31.78125 66.40625 \r\nz\r\nM 31.78125 74.21875 \r\nQ 44.046875 74.21875 50.515625 64.515625 \r\nQ 56.984375 54.828125 56.984375 36.375 \r\nQ 56.984375 17.96875 50.515625 8.265625 \r\nQ 44.046875 -1.421875 31.78125 -1.421875 \r\nQ 19.53125 -1.421875 13.0625 8.265625 \r\nQ 6.59375 17.96875 6.59375 36.375 \r\nQ 6.59375 54.828125 13.0625 64.515625 \r\nQ 19.53125 74.21875 31.78125 74.21875 \r\nz\r\n\" id=\"DejaVuSans-48\"/>\r\n       </defs>\r\n       <use xlink:href=\"#DejaVuSans-49\"/>\r\n       <use x=\"63.623047\" xlink:href=\"#DejaVuSans-46\"/>\r\n       <use x=\"95.410156\" xlink:href=\"#DejaVuSans-48\"/>\r\n      </g>\r\n     </g>\r\n    </g>\r\n    <g id=\"xtick_2\">\r\n     <g id=\"line2d_2\">\r\n      <g>\r\n       <use style=\"stroke:#000000;stroke-width:0.8;\" x=\"136.611658\" xlink:href=\"#mc9589004db\" y=\"224.64\"/>\r\n      </g>\r\n     </g>\r\n     <g id=\"text_2\">\r\n      <!-- 1.5 -->\r\n      <g transform=\"translate(128.660095 239.238437)scale(0.1 -0.1)\">\r\n       <defs>\r\n        <path d=\"M 10.796875 72.90625 \r\nL 49.515625 72.90625 \r\nL 49.515625 64.59375 \r\nL 19.828125 64.59375 \r\nL 19.828125 46.734375 \r\nQ 21.96875 47.46875 24.109375 47.828125 \r\nQ 26.265625 48.1875 28.421875 48.1875 \r\nQ 40.625 48.1875 47.75 41.5 \r\nQ 54.890625 34.8125 54.890625 23.390625 \r\nQ 54.890625 11.625 47.5625 5.09375 \r\nQ 40.234375 -1.421875 26.90625 -1.421875 \r\nQ 22.3125 -1.421875 17.546875 -0.640625 \r\nQ 12.796875 0.140625 7.71875 1.703125 \r\nL 7.71875 11.625 \r\nQ 12.109375 9.234375 16.796875 8.0625 \r\nQ 21.484375 6.890625 26.703125 6.890625 \r\nQ 35.15625 6.890625 40.078125 11.328125 \r\nQ 45.015625 15.765625 45.015625 23.390625 \r\nQ 45.015625 31 40.078125 35.4375 \r\nQ 35.15625 39.890625 26.703125 39.890625 \r\nQ 22.75 39.890625 18.8125 39.015625 \r\nQ 14.890625 38.140625 10.796875 36.28125 \r\nz\r\n\" id=\"DejaVuSans-53\"/>\r\n       </defs>\r\n       <use xlink:href=\"#DejaVuSans-49\"/>\r\n       <use x=\"63.623047\" xlink:href=\"#DejaVuSans-46\"/>\r\n       <use x=\"95.410156\" xlink:href=\"#DejaVuSans-53\"/>\r\n      </g>\r\n     </g>\r\n    </g>\r\n    <g id=\"xtick_3\">\r\n     <g id=\"line2d_3\">\r\n      <g>\r\n       <use style=\"stroke:#000000;stroke-width:0.8;\" x=\"201.640625\" xlink:href=\"#mc9589004db\" y=\"224.64\"/>\r\n      </g>\r\n     </g>\r\n     <g id=\"text_3\">\r\n      <!-- 2.0 -->\r\n      <g transform=\"translate(193.689063 239.238437)scale(0.1 -0.1)\">\r\n       <defs>\r\n        <path d=\"M 19.1875 8.296875 \r\nL 53.609375 8.296875 \r\nL 53.609375 0 \r\nL 7.328125 0 \r\nL 7.328125 8.296875 \r\nQ 12.9375 14.109375 22.625 23.890625 \r\nQ 32.328125 33.6875 34.8125 36.53125 \r\nQ 39.546875 41.84375 41.421875 45.53125 \r\nQ 43.3125 49.21875 43.3125 52.78125 \r\nQ 43.3125 58.59375 39.234375 62.25 \r\nQ 35.15625 65.921875 28.609375 65.921875 \r\nQ 23.96875 65.921875 18.8125 64.3125 \r\nQ 13.671875 62.703125 7.8125 59.421875 \r\nL 7.8125 69.390625 \r\nQ 13.765625 71.78125 18.9375 73 \r\nQ 24.125 74.21875 28.421875 74.21875 \r\nQ 39.75 74.21875 46.484375 68.546875 \r\nQ 53.21875 62.890625 53.21875 53.421875 \r\nQ 53.21875 48.921875 51.53125 44.890625 \r\nQ 49.859375 40.875 45.40625 35.40625 \r\nQ 44.1875 33.984375 37.640625 27.21875 \r\nQ 31.109375 20.453125 19.1875 8.296875 \r\nz\r\n\" id=\"DejaVuSans-50\"/>\r\n       </defs>\r\n       <use xlink:href=\"#DejaVuSans-50\"/>\r\n       <use x=\"63.623047\" xlink:href=\"#DejaVuSans-46\"/>\r\n       <use x=\"95.410156\" xlink:href=\"#DejaVuSans-48\"/>\r\n      </g>\r\n     </g>\r\n    </g>\r\n    <g id=\"xtick_4\">\r\n     <g id=\"line2d_4\">\r\n      <g>\r\n       <use style=\"stroke:#000000;stroke-width:0.8;\" x=\"266.669592\" xlink:href=\"#mc9589004db\" y=\"224.64\"/>\r\n      </g>\r\n     </g>\r\n     <g id=\"text_4\">\r\n      <!-- 2.5 -->\r\n      <g transform=\"translate(258.71803 239.238437)scale(0.1 -0.1)\">\r\n       <use xlink:href=\"#DejaVuSans-50\"/>\r\n       <use x=\"63.623047\" xlink:href=\"#DejaVuSans-46\"/>\r\n       <use x=\"95.410156\" xlink:href=\"#DejaVuSans-53\"/>\r\n      </g>\r\n     </g>\r\n    </g>\r\n    <g id=\"xtick_5\">\r\n     <g id=\"line2d_5\">\r\n      <g>\r\n       <use style=\"stroke:#000000;stroke-width:0.8;\" x=\"331.69856\" xlink:href=\"#mc9589004db\" y=\"224.64\"/>\r\n      </g>\r\n     </g>\r\n     <g id=\"text_5\">\r\n      <!-- 3.0 -->\r\n      <g transform=\"translate(323.746997 239.238437)scale(0.1 -0.1)\">\r\n       <defs>\r\n        <path d=\"M 40.578125 39.3125 \r\nQ 47.65625 37.796875 51.625 33 \r\nQ 55.609375 28.21875 55.609375 21.1875 \r\nQ 55.609375 10.40625 48.1875 4.484375 \r\nQ 40.765625 -1.421875 27.09375 -1.421875 \r\nQ 22.515625 -1.421875 17.65625 -0.515625 \r\nQ 12.796875 0.390625 7.625 2.203125 \r\nL 7.625 11.71875 \r\nQ 11.71875 9.328125 16.59375 8.109375 \r\nQ 21.484375 6.890625 26.8125 6.890625 \r\nQ 36.078125 6.890625 40.9375 10.546875 \r\nQ 45.796875 14.203125 45.796875 21.1875 \r\nQ 45.796875 27.640625 41.28125 31.265625 \r\nQ 36.765625 34.90625 28.71875 34.90625 \r\nL 20.21875 34.90625 \r\nL 20.21875 43.015625 \r\nL 29.109375 43.015625 \r\nQ 36.375 43.015625 40.234375 45.921875 \r\nQ 44.09375 48.828125 44.09375 54.296875 \r\nQ 44.09375 59.90625 40.109375 62.90625 \r\nQ 36.140625 65.921875 28.71875 65.921875 \r\nQ 24.65625 65.921875 20.015625 65.03125 \r\nQ 15.375 64.15625 9.8125 62.3125 \r\nL 9.8125 71.09375 \r\nQ 15.4375 72.65625 20.34375 73.4375 \r\nQ 25.25 74.21875 29.59375 74.21875 \r\nQ 40.828125 74.21875 47.359375 69.109375 \r\nQ 53.90625 64.015625 53.90625 55.328125 \r\nQ 53.90625 49.265625 50.4375 45.09375 \r\nQ 46.96875 40.921875 40.578125 39.3125 \r\nz\r\n\" id=\"DejaVuSans-51\"/>\r\n       </defs>\r\n       <use xlink:href=\"#DejaVuSans-51\"/>\r\n       <use x=\"63.623047\" xlink:href=\"#DejaVuSans-46\"/>\r\n       <use x=\"95.410156\" xlink:href=\"#DejaVuSans-48\"/>\r\n      </g>\r\n     </g>\r\n    </g>\r\n    <g id=\"text_6\">\r\n     <!-- relevance -->\r\n     <g transform=\"translate(177.1375 252.916562)scale(0.1 -0.1)\">\r\n      <defs>\r\n       <path d=\"M 41.109375 46.296875 \r\nQ 39.59375 47.171875 37.8125 47.578125 \r\nQ 36.03125 48 33.890625 48 \r\nQ 26.265625 48 22.1875 43.046875 \r\nQ 18.109375 38.09375 18.109375 28.8125 \r\nL 18.109375 0 \r\nL 9.078125 0 \r\nL 9.078125 54.6875 \r\nL 18.109375 54.6875 \r\nL 18.109375 46.1875 \r\nQ 20.953125 51.171875 25.484375 53.578125 \r\nQ 30.03125 56 36.53125 56 \r\nQ 37.453125 56 38.578125 55.875 \r\nQ 39.703125 55.765625 41.0625 55.515625 \r\nz\r\n\" id=\"DejaVuSans-114\"/>\r\n       <path d=\"M 56.203125 29.59375 \r\nL 56.203125 25.203125 \r\nL 14.890625 25.203125 \r\nQ 15.484375 15.921875 20.484375 11.0625 \r\nQ 25.484375 6.203125 34.421875 6.203125 \r\nQ 39.59375 6.203125 44.453125 7.46875 \r\nQ 49.3125 8.734375 54.109375 11.28125 \r\nL 54.109375 2.78125 \r\nQ 49.265625 0.734375 44.1875 -0.34375 \r\nQ 39.109375 -1.421875 33.890625 -1.421875 \r\nQ 20.796875 -1.421875 13.15625 6.1875 \r\nQ 5.515625 13.8125 5.515625 26.8125 \r\nQ 5.515625 40.234375 12.765625 48.109375 \r\nQ 20.015625 56 32.328125 56 \r\nQ 43.359375 56 49.78125 48.890625 \r\nQ 56.203125 41.796875 56.203125 29.59375 \r\nz\r\nM 47.21875 32.234375 \r\nQ 47.125 39.59375 43.09375 43.984375 \r\nQ 39.0625 48.390625 32.421875 48.390625 \r\nQ 24.90625 48.390625 20.390625 44.140625 \r\nQ 15.875 39.890625 15.1875 32.171875 \r\nz\r\n\" id=\"DejaVuSans-101\"/>\r\n       <path d=\"M 9.421875 75.984375 \r\nL 18.40625 75.984375 \r\nL 18.40625 0 \r\nL 9.421875 0 \r\nz\r\n\" id=\"DejaVuSans-108\"/>\r\n       <path d=\"M 2.984375 54.6875 \r\nL 12.5 54.6875 \r\nL 29.59375 8.796875 \r\nL 46.6875 54.6875 \r\nL 56.203125 54.6875 \r\nL 35.6875 0 \r\nL 23.484375 0 \r\nz\r\n\" id=\"DejaVuSans-118\"/>\r\n       <path d=\"M 34.28125 27.484375 \r\nQ 23.390625 27.484375 19.1875 25 \r\nQ 14.984375 22.515625 14.984375 16.5 \r\nQ 14.984375 11.71875 18.140625 8.90625 \r\nQ 21.296875 6.109375 26.703125 6.109375 \r\nQ 34.1875 6.109375 38.703125 11.40625 \r\nQ 43.21875 16.703125 43.21875 25.484375 \r\nL 43.21875 27.484375 \r\nz\r\nM 52.203125 31.203125 \r\nL 52.203125 0 \r\nL 43.21875 0 \r\nL 43.21875 8.296875 \r\nQ 40.140625 3.328125 35.546875 0.953125 \r\nQ 30.953125 -1.421875 24.3125 -1.421875 \r\nQ 15.921875 -1.421875 10.953125 3.296875 \r\nQ 6 8.015625 6 15.921875 \r\nQ 6 25.140625 12.171875 29.828125 \r\nQ 18.359375 34.515625 30.609375 34.515625 \r\nL 43.21875 34.515625 \r\nL 43.21875 35.40625 \r\nQ 43.21875 41.609375 39.140625 45 \r\nQ 35.0625 48.390625 27.6875 48.390625 \r\nQ 23 48.390625 18.546875 47.265625 \r\nQ 14.109375 46.140625 10.015625 43.890625 \r\nL 10.015625 52.203125 \r\nQ 14.9375 54.109375 19.578125 55.046875 \r\nQ 24.21875 56 28.609375 56 \r\nQ 40.484375 56 46.34375 49.84375 \r\nQ 52.203125 43.703125 52.203125 31.203125 \r\nz\r\n\" id=\"DejaVuSans-97\"/>\r\n       <path d=\"M 54.890625 33.015625 \r\nL 54.890625 0 \r\nL 45.90625 0 \r\nL 45.90625 32.71875 \r\nQ 45.90625 40.484375 42.875 44.328125 \r\nQ 39.84375 48.1875 33.796875 48.1875 \r\nQ 26.515625 48.1875 22.3125 43.546875 \r\nQ 18.109375 38.921875 18.109375 30.90625 \r\nL 18.109375 0 \r\nL 9.078125 0 \r\nL 9.078125 54.6875 \r\nL 18.109375 54.6875 \r\nL 18.109375 46.1875 \r\nQ 21.34375 51.125 25.703125 53.5625 \r\nQ 30.078125 56 35.796875 56 \r\nQ 45.21875 56 50.046875 50.171875 \r\nQ 54.890625 44.34375 54.890625 33.015625 \r\nz\r\n\" id=\"DejaVuSans-110\"/>\r\n       <path d=\"M 48.78125 52.59375 \r\nL 48.78125 44.1875 \r\nQ 44.96875 46.296875 41.140625 47.34375 \r\nQ 37.3125 48.390625 33.40625 48.390625 \r\nQ 24.65625 48.390625 19.8125 42.84375 \r\nQ 14.984375 37.3125 14.984375 27.296875 \r\nQ 14.984375 17.28125 19.8125 11.734375 \r\nQ 24.65625 6.203125 33.40625 6.203125 \r\nQ 37.3125 6.203125 41.140625 7.25 \r\nQ 44.96875 8.296875 48.78125 10.40625 \r\nL 48.78125 2.09375 \r\nQ 45.015625 0.34375 40.984375 -0.53125 \r\nQ 36.96875 -1.421875 32.421875 -1.421875 \r\nQ 20.0625 -1.421875 12.78125 6.34375 \r\nQ 5.515625 14.109375 5.515625 27.296875 \r\nQ 5.515625 40.671875 12.859375 48.328125 \r\nQ 20.21875 56 33.015625 56 \r\nQ 37.15625 56 41.109375 55.140625 \r\nQ 45.0625 54.296875 48.78125 52.59375 \r\nz\r\n\" id=\"DejaVuSans-99\"/>\r\n      </defs>\r\n      <use xlink:href=\"#DejaVuSans-114\"/>\r\n      <use x=\"38.863281\" xlink:href=\"#DejaVuSans-101\"/>\r\n      <use x=\"100.386719\" xlink:href=\"#DejaVuSans-108\"/>\r\n      <use x=\"128.169922\" xlink:href=\"#DejaVuSans-101\"/>\r\n      <use x=\"189.693359\" xlink:href=\"#DejaVuSans-118\"/>\r\n      <use x=\"248.873047\" xlink:href=\"#DejaVuSans-97\"/>\r\n      <use x=\"310.152344\" xlink:href=\"#DejaVuSans-110\"/>\r\n      <use x=\"373.53125\" xlink:href=\"#DejaVuSans-99\"/>\r\n      <use x=\"428.511719\" xlink:href=\"#DejaVuSans-101\"/>\r\n     </g>\r\n    </g>\r\n   </g>\r\n   <g id=\"matplotlib.axis_2\">\r\n    <g id=\"ytick_1\">\r\n     <g id=\"line2d_6\">\r\n      <defs>\r\n       <path d=\"M 0 0 \r\nL -3.5 0 \r\n\" id=\"m6e47a56b08\" style=\"stroke:#000000;stroke-width:0.8;\"/>\r\n      </defs>\r\n      <g>\r\n       <use style=\"stroke:#000000;stroke-width:0.8;\" x=\"34.240625\" xlink:href=\"#m6e47a56b08\" y=\"224.64\"/>\r\n      </g>\r\n     </g>\r\n     <g id=\"text_7\">\r\n      <!-- 0 -->\r\n      <g transform=\"translate(20.878125 228.439219)scale(0.1 -0.1)\">\r\n       <use xlink:href=\"#DejaVuSans-48\"/>\r\n      </g>\r\n     </g>\r\n    </g>\r\n    <g id=\"ytick_2\">\r\n     <g id=\"line2d_7\">\r\n      <g>\r\n       <use style=\"stroke:#000000;stroke-width:0.8;\" x=\"34.240625\" xlink:href=\"#m6e47a56b08\" y=\"186.449604\"/>\r\n      </g>\r\n     </g>\r\n     <g id=\"text_8\">\r\n      <!-- 1 -->\r\n      <g transform=\"translate(20.878125 190.248823)scale(0.1 -0.1)\">\r\n       <use xlink:href=\"#DejaVuSans-49\"/>\r\n      </g>\r\n     </g>\r\n    </g>\r\n    <g id=\"ytick_3\">\r\n     <g id=\"line2d_8\">\r\n      <g>\r\n       <use style=\"stroke:#000000;stroke-width:0.8;\" x=\"34.240625\" xlink:href=\"#m6e47a56b08\" y=\"148.259209\"/>\r\n      </g>\r\n     </g>\r\n     <g id=\"text_9\">\r\n      <!-- 2 -->\r\n      <g transform=\"translate(20.878125 152.058428)scale(0.1 -0.1)\">\r\n       <use xlink:href=\"#DejaVuSans-50\"/>\r\n      </g>\r\n     </g>\r\n    </g>\r\n    <g id=\"ytick_4\">\r\n     <g id=\"line2d_9\">\r\n      <g>\r\n       <use style=\"stroke:#000000;stroke-width:0.8;\" x=\"34.240625\" xlink:href=\"#m6e47a56b08\" y=\"110.068813\"/>\r\n      </g>\r\n     </g>\r\n     <g id=\"text_10\">\r\n      <!-- 3 -->\r\n      <g transform=\"translate(20.878125 113.868032)scale(0.1 -0.1)\">\r\n       <use xlink:href=\"#DejaVuSans-51\"/>\r\n      </g>\r\n     </g>\r\n    </g>\r\n    <g id=\"ytick_5\">\r\n     <g id=\"line2d_10\">\r\n      <g>\r\n       <use style=\"stroke:#000000;stroke-width:0.8;\" x=\"34.240625\" xlink:href=\"#m6e47a56b08\" y=\"71.878418\"/>\r\n      </g>\r\n     </g>\r\n     <g id=\"text_11\">\r\n      <!-- 4 -->\r\n      <g transform=\"translate(20.878125 75.677637)scale(0.1 -0.1)\">\r\n       <defs>\r\n        <path d=\"M 37.796875 64.3125 \r\nL 12.890625 25.390625 \r\nL 37.796875 25.390625 \r\nz\r\nM 35.203125 72.90625 \r\nL 47.609375 72.90625 \r\nL 47.609375 25.390625 \r\nL 58.015625 25.390625 \r\nL 58.015625 17.1875 \r\nL 47.609375 17.1875 \r\nL 47.609375 0 \r\nL 37.796875 0 \r\nL 37.796875 17.1875 \r\nL 4.890625 17.1875 \r\nL 4.890625 26.703125 \r\nz\r\n\" id=\"DejaVuSans-52\"/>\r\n       </defs>\r\n       <use xlink:href=\"#DejaVuSans-52\"/>\r\n      </g>\r\n     </g>\r\n    </g>\r\n    <g id=\"ytick_6\">\r\n     <g id=\"line2d_11\">\r\n      <g>\r\n       <use style=\"stroke:#000000;stroke-width:0.8;\" x=\"34.240625\" xlink:href=\"#m6e47a56b08\" y=\"33.688022\"/>\r\n      </g>\r\n     </g>\r\n     <g id=\"text_12\">\r\n      <!-- 5 -->\r\n      <g transform=\"translate(20.878125 37.487241)scale(0.1 -0.1)\">\r\n       <use xlink:href=\"#DejaVuSans-53\"/>\r\n      </g>\r\n     </g>\r\n    </g>\r\n    <g id=\"text_13\">\r\n     <!-- Density -->\r\n     <g transform=\"translate(14.798437 134.928594)rotate(-90)scale(0.1 -0.1)\">\r\n      <defs>\r\n       <path d=\"M 19.671875 64.796875 \r\nL 19.671875 8.109375 \r\nL 31.59375 8.109375 \r\nQ 46.6875 8.109375 53.6875 14.9375 \r\nQ 60.6875 21.78125 60.6875 36.53125 \r\nQ 60.6875 51.171875 53.6875 57.984375 \r\nQ 46.6875 64.796875 31.59375 64.796875 \r\nz\r\nM 9.8125 72.90625 \r\nL 30.078125 72.90625 \r\nQ 51.265625 72.90625 61.171875 64.09375 \r\nQ 71.09375 55.28125 71.09375 36.53125 \r\nQ 71.09375 17.671875 61.125 8.828125 \r\nQ 51.171875 0 30.078125 0 \r\nL 9.8125 0 \r\nz\r\n\" id=\"DejaVuSans-68\"/>\r\n       <path d=\"M 44.28125 53.078125 \r\nL 44.28125 44.578125 \r\nQ 40.484375 46.53125 36.375 47.5 \r\nQ 32.28125 48.484375 27.875 48.484375 \r\nQ 21.1875 48.484375 17.84375 46.4375 \r\nQ 14.5 44.390625 14.5 40.28125 \r\nQ 14.5 37.15625 16.890625 35.375 \r\nQ 19.28125 33.59375 26.515625 31.984375 \r\nL 29.59375 31.296875 \r\nQ 39.15625 29.25 43.1875 25.515625 \r\nQ 47.21875 21.78125 47.21875 15.09375 \r\nQ 47.21875 7.46875 41.1875 3.015625 \r\nQ 35.15625 -1.421875 24.609375 -1.421875 \r\nQ 20.21875 -1.421875 15.453125 -0.5625 \r\nQ 10.6875 0.296875 5.421875 2 \r\nL 5.421875 11.28125 \r\nQ 10.40625 8.6875 15.234375 7.390625 \r\nQ 20.0625 6.109375 24.8125 6.109375 \r\nQ 31.15625 6.109375 34.5625 8.28125 \r\nQ 37.984375 10.453125 37.984375 14.40625 \r\nQ 37.984375 18.0625 35.515625 20.015625 \r\nQ 33.0625 21.96875 24.703125 23.78125 \r\nL 21.578125 24.515625 \r\nQ 13.234375 26.265625 9.515625 29.90625 \r\nQ 5.8125 33.546875 5.8125 39.890625 \r\nQ 5.8125 47.609375 11.28125 51.796875 \r\nQ 16.75 56 26.8125 56 \r\nQ 31.78125 56 36.171875 55.265625 \r\nQ 40.578125 54.546875 44.28125 53.078125 \r\nz\r\n\" id=\"DejaVuSans-115\"/>\r\n       <path d=\"M 9.421875 54.6875 \r\nL 18.40625 54.6875 \r\nL 18.40625 0 \r\nL 9.421875 0 \r\nz\r\nM 9.421875 75.984375 \r\nL 18.40625 75.984375 \r\nL 18.40625 64.59375 \r\nL 9.421875 64.59375 \r\nz\r\n\" id=\"DejaVuSans-105\"/>\r\n       <path d=\"M 18.3125 70.21875 \r\nL 18.3125 54.6875 \r\nL 36.8125 54.6875 \r\nL 36.8125 47.703125 \r\nL 18.3125 47.703125 \r\nL 18.3125 18.015625 \r\nQ 18.3125 11.328125 20.140625 9.421875 \r\nQ 21.96875 7.515625 27.59375 7.515625 \r\nL 36.8125 7.515625 \r\nL 36.8125 0 \r\nL 27.59375 0 \r\nQ 17.1875 0 13.234375 3.875 \r\nQ 9.28125 7.765625 9.28125 18.015625 \r\nL 9.28125 47.703125 \r\nL 2.6875 47.703125 \r\nL 2.6875 54.6875 \r\nL 9.28125 54.6875 \r\nL 9.28125 70.21875 \r\nz\r\n\" id=\"DejaVuSans-116\"/>\r\n       <path d=\"M 32.171875 -5.078125 \r\nQ 28.375 -14.84375 24.75 -17.8125 \r\nQ 21.140625 -20.796875 15.09375 -20.796875 \r\nL 7.90625 -20.796875 \r\nL 7.90625 -13.28125 \r\nL 13.1875 -13.28125 \r\nQ 16.890625 -13.28125 18.9375 -11.515625 \r\nQ 21 -9.765625 23.484375 -3.21875 \r\nL 25.09375 0.875 \r\nL 2.984375 54.6875 \r\nL 12.5 54.6875 \r\nL 29.59375 11.921875 \r\nL 46.6875 54.6875 \r\nL 56.203125 54.6875 \r\nz\r\n\" id=\"DejaVuSans-121\"/>\r\n      </defs>\r\n      <use xlink:href=\"#DejaVuSans-68\"/>\r\n      <use x=\"77.001953\" xlink:href=\"#DejaVuSans-101\"/>\r\n      <use x=\"138.525391\" xlink:href=\"#DejaVuSans-110\"/>\r\n      <use x=\"201.904297\" xlink:href=\"#DejaVuSans-115\"/>\r\n      <use x=\"254.003906\" xlink:href=\"#DejaVuSans-105\"/>\r\n      <use x=\"281.787109\" xlink:href=\"#DejaVuSans-116\"/>\r\n      <use x=\"320.996094\" xlink:href=\"#DejaVuSans-121\"/>\r\n     </g>\r\n    </g>\r\n   </g>\r\n   <g id=\"line2d_12\">\r\n    <path clip-path=\"url(#p1f0a4b4595)\" d=\"M 49.458807 224.555167 \r\nL 52.517738 224.369836 \r\nL 55.576669 223.915614 \r\nL 57.106134 223.527958 \r\nL 58.6356 223.004721 \r\nL 60.165065 222.336531 \r\nL 63.223996 220.622808 \r\nL 66.282927 218.741501 \r\nL 67.812393 217.93914 \r\nL 69.341858 217.348123 \r\nL 70.871324 217.03905 \r\nL 72.400789 217.050448 \r\nL 73.930255 217.380874 \r\nL 75.45972 217.989219 \r\nL 78.518651 219.733005 \r\nL 81.577583 221.591321 \r\nL 83.107048 222.38629 \r\nL 84.636514 223.042474 \r\nL 86.165979 223.551677 \r\nL 87.695445 223.922125 \r\nL 90.754376 224.315875 \r\nL 93.813307 224.340153 \r\nL 96.872238 223.983545 \r\nL 98.401703 223.612862 \r\nL 99.931169 223.074282 \r\nL 101.460634 222.340988 \r\nL 102.9901 221.399949 \r\nL 104.519565 220.262358 \r\nL 110.637427 215.124129 \r\nL 112.166893 214.260074 \r\nL 113.696358 213.793494 \r\nL 115.225824 213.782521 \r\nL 116.755289 214.228621 \r\nL 118.284755 215.076267 \r\nL 119.81422 216.224289 \r\nL 124.402617 220.206348 \r\nL 125.932082 221.351517 \r\nL 127.461548 222.300218 \r\nL 128.991013 223.039357 \r\nL 130.520479 223.580059 \r\nL 132.049944 223.946643 \r\nL 133.57941 224.165622 \r\nL 135.108875 224.256291 \r\nL 136.638341 224.22354 \r\nL 138.167806 224.053018 \r\nL 139.697272 223.708863 \r\nL 141.226737 223.134653 \r\nL 142.756203 222.258775 \r\nL 144.285668 221.005445 \r\nL 145.815134 219.311829 \r\nL 147.344599 217.149925 \r\nL 148.874065 214.54942 \r\nL 154.991927 202.990484 \r\nL 156.521392 201.106445 \r\nL 158.050858 200.134578 \r\nL 159.580323 200.195867 \r\nL 161.109789 201.282329 \r\nL 162.639255 203.258704 \r\nL 164.16872 205.890119 \r\nL 168.757117 214.861272 \r\nL 170.286582 217.411034 \r\nL 171.816048 219.513123 \r\nL 173.345513 221.141992 \r\nL 174.874979 222.323576 \r\nL 176.404444 223.11004 \r\nL 177.93391 223.555188 \r\nL 179.463375 223.694154 \r\nL 180.992841 223.529093 \r\nL 182.522306 223.021595 \r\nL 184.051772 222.09262 \r\nL 185.581237 220.631315 \r\nL 187.110703 218.514212 \r\nL 188.640168 215.635223 \r\nL 190.169634 211.944057 \r\nL 191.699099 207.486641 \r\nL 194.75803 197.110387 \r\nL 196.287496 191.942185 \r\nL 197.816961 187.438644 \r\nL 199.346427 184.096703 \r\nL 200.875892 182.314775 \r\nL 202.405358 182.314773 \r\nL 203.934823 184.096693 \r\nL 205.464289 187.438614 \r\nL 206.993754 191.942098 \r\nL 211.582151 207.485043 \r\nL 213.111616 211.940145 \r\nL 214.641082 215.626027 \r\nL 216.170547 218.49346 \r\nL 217.700013 220.586391 \r\nL 219.229478 221.999356 \r\nL 220.758944 222.835968 \r\nL 222.288409 223.17496 \r\nL 223.817875 223.046682 \r\nL 225.34734 222.420827 \r\nL 226.876806 221.205815 \r\nL 228.406271 219.26096 \r\nL 229.935737 216.422972 \r\nL 231.465202 212.547185 \r\nL 232.994668 207.560412 \r\nL 234.524133 201.517006 \r\nL 237.583064 187.361466 \r\nL 239.11253 180.256548 \r\nL 240.641995 174.018872 \r\nL 242.171461 169.332593 \r\nL 243.700927 166.75441 \r\nL 245.230392 166.604973 \r\nL 246.759858 168.903332 \r\nL 248.289323 173.362903 \r\nL 249.818789 179.45015 \r\nL 254.407185 200.73191 \r\nL 255.936651 206.888052 \r\nL 257.466116 212.003765 \r\nL 258.995582 216.007318 \r\nL 260.525047 218.962192 \r\nL 262.054513 221.011672 \r\nL 263.583978 222.325012 \r\nL 265.113444 223.05405 \r\nL 266.642909 223.303538 \r\nL 268.172375 223.114653 \r\nL 269.70184 222.459835 \r\nL 271.231306 221.247908 \r\nL 272.760771 219.340066 \r\nL 274.290237 216.578231 \r\nL 275.819702 212.826286 \r\nL 277.349168 208.021203 \r\nL 278.878633 202.225912 \r\nL 284.996495 176.280432 \r\nL 286.525961 171.995665 \r\nL 288.055426 169.742417 \r\nL 289.584892 169.801378 \r\nL 291.114357 172.164925 \r\nL 292.643823 176.538774 \r\nL 294.173288 182.402205 \r\nL 298.761685 202.533299 \r\nL 300.29115 208.283916 \r\nL 301.820616 213.036411 \r\nL 303.350081 216.731339 \r\nL 304.879547 219.429062 \r\nL 306.409012 221.254902 \r\nL 307.938478 222.346141 \r\nL 309.467943 222.809092 \r\nL 310.997409 222.689801 \r\nL 312.526874 221.959123 \r\nL 314.05634 220.512411 \r\nL 315.585805 218.184867 \r\nL 317.115271 214.784162 \r\nL 318.644736 210.140555 \r\nL 320.174202 204.170588 \r\nL 321.703667 196.944122 \r\nL 324.762599 180.057963 \r\nL 326.292064 171.609011 \r\nL 327.82153 164.214343 \r\nL 329.350995 158.687171 \r\nL 330.880461 155.685056 \r\nL 332.409926 155.581495 \r\nL 333.939392 158.389574 \r\nL 335.468857 163.759264 \r\nL 336.998323 171.049126 \r\nL 341.586719 196.401477 \r\nL 343.116185 203.711805 \r\nL 344.64565 209.782652 \r\nL 346.175116 214.53653 \r\nL 347.704581 218.058582 \r\nL 349.234047 220.533345 \r\nL 350.763512 222.185424 \r\nL 352.292978 223.234649 \r\nL 353.822443 223.869252 \r\nL 353.822443 223.869252 \r\n\" style=\"fill:none;stroke:#1f77b4;stroke-linecap:square;stroke-width:1.5;\"/>\r\n   </g>\r\n   <g id=\"patch_45\">\r\n    <path d=\"M 34.240625 224.64 \r\nL 34.240625 7.2 \r\n\" style=\"fill:none;stroke:#000000;stroke-linecap:square;stroke-linejoin:miter;stroke-width:0.8;\"/>\r\n   </g>\r\n   <g id=\"patch_46\">\r\n    <path d=\"M 369.040625 224.64 \r\nL 369.040625 7.2 \r\n\" style=\"fill:none;stroke:#000000;stroke-linecap:square;stroke-linejoin:miter;stroke-width:0.8;\"/>\r\n   </g>\r\n   <g id=\"patch_47\">\r\n    <path d=\"M 34.240625 224.64 \r\nL 369.040625 224.64 \r\n\" style=\"fill:none;stroke:#000000;stroke-linecap:square;stroke-linejoin:miter;stroke-width:0.8;\"/>\r\n   </g>\r\n   <g id=\"patch_48\">\r\n    <path d=\"M 34.240625 7.2 \r\nL 369.040625 7.2 \r\n\" style=\"fill:none;stroke:#000000;stroke-linecap:square;stroke-linejoin:miter;stroke-width:0.8;\"/>\r\n   </g>\r\n  </g>\r\n </g>\r\n <defs>\r\n  <clipPath id=\"p1f0a4b4595\">\r\n   <rect height=\"217.44\" width=\"334.8\" x=\"34.240625\" y=\"7.2\"/>\r\n  </clipPath>\r\n </defs>\r\n</svg>\r\n",
      "image/png": "[encoded data removed]"
     },
     "metadata": {
      "needs_background": "light"
     }
    }
   ],
   "source": [
    "import seaborn as sns\n",
    "\n",
    "sns.distplot(train['relevance'], kde=True)\n",
    "plt.show()"
   ]
  },
  {
   "cell_type": "code",
   "execution_count": 19,
   "metadata": {},
   "outputs": [
    {
     "output_type": "display_data",
     "data": {
      "text/plain": "<Figure size 432x288 with 1 Axes>",
      "image/svg+xml": "<?xml version=\"1.0\" encoding=\"utf-8\" standalone=\"no\"?>\r\n<!DOCTYPE svg PUBLIC \"-//W3C//DTD SVG 1.1//EN\"\r\n  \"http://www.w3.org/Graphics/SVG/1.1/DTD/svg11.dtd\">\r\n<!-- Created with matplotlib (https://matplotlib.org/) -->\r\n<svg height=\"251.437568pt\" version=\"1.1\" viewBox=\"0 0 401.690625 251.437568\" width=\"401.690625pt\" xmlns=\"http://www.w3.org/2000/svg\" xmlns:xlink=\"http://www.w3.org/1999/xlink\">\r\n <metadata>\r\n  <rdf:RDF xmlns:cc=\"http://creativecommons.org/ns#\" xmlns:dc=\"http://purl.org/dc/elements/1.1/\" xmlns:rdf=\"http://www.w3.org/1999/02/22-rdf-syntax-ns#\">\r\n   <cc:Work>\r\n    <dc:type rdf:resource=\"http://purl.org/dc/dcmitype/StillImage\"/>\r\n    <dc:date>2021-01-27T17:09:38.529785</dc:date>\r\n    <dc:format>image/svg+xml</dc:format>\r\n    <dc:creator>\r\n     <cc:Agent>\r\n      <dc:title>Matplotlib v3.3.3, https://matplotlib.org/</dc:title>\r\n     </cc:Agent>\r\n    </dc:creator>\r\n   </cc:Work>\r\n  </rdf:RDF>\r\n </metadata>\r\n <defs>\r\n  <style type=\"text/css\">*{stroke-linecap:butt;stroke-linejoin:round;}</style>\r\n </defs>\r\n <g id=\"figure_1\">\r\n  <g id=\"patch_1\">\r\n   <path d=\"M 0 251.437568 \r\nL 401.690625 251.437568 \r\nL 401.690625 0 \r\nL 0 0 \r\nz\r\n\" style=\"fill:none;\"/>\r\n  </g>\r\n  <g id=\"axes_1\">\r\n   <g id=\"patch_2\">\r\n    <path d=\"M 59.690625 227.559443 \r\nL 394.490625 227.559443 \r\nL 394.490625 10.119443 \r\nL 59.690625 10.119443 \r\nz\r\n\" style=\"fill:#ffffff;\"/>\r\n   </g>\r\n   <g id=\"patch_3\">\r\n    <path clip-path=\"url(#p471eebafe6)\" d=\"M 62.26601 227.559443 \r\nL 82.869087 227.559443 \r\nL 82.869087 204.766479 \r\nL 62.26601 204.766479 \r\nz\r\n\" style=\"fill:#ea96a3;\"/>\r\n   </g>\r\n   <g id=\"patch_4\">\r\n    <path clip-path=\"url(#p471eebafe6)\" d=\"M 88.019856 227.559443 \r\nL 108.622933 227.559443 \r\nL 108.622933 227.516131 \r\nL 88.019856 227.516131 \r\nz\r\n\" style=\"fill:#e39361;\"/>\r\n   </g>\r\n   <g id=\"patch_5\">\r\n    <path clip-path=\"url(#p471eebafe6)\" d=\"M 113.773702 227.559443 \r\nL 134.376779 227.559443 \r\nL 134.376779 195.010441 \r\nL 113.773702 195.010441 \r\nz\r\n\" style=\"fill:#be9b4a;\"/>\r\n   </g>\r\n   <g id=\"patch_6\">\r\n    <path clip-path=\"url(#p471eebafe6)\" d=\"M 139.527548 227.559443 \r\nL 160.130625 227.559443 \r\nL 160.130625 227.505303 \r\nL 139.527548 227.505303 \r\nz\r\n\" style=\"fill:#9fa045;\"/>\r\n   </g>\r\n   <g id=\"patch_7\">\r\n    <path clip-path=\"url(#p471eebafe6)\" d=\"M 165.281394 227.559443 \r\nL 185.884471 227.559443 \r\nL 185.884471 154.145527 \r\nL 165.281394 154.145527 \r\nz\r\n\" style=\"fill:#7aaa47;\"/>\r\n   </g>\r\n   <g id=\"patch_8\">\r\n    <path clip-path=\"url(#p471eebafe6)\" d=\"M 191.03524 227.559443 \r\nL 211.638317 227.559443 \r\nL 211.638317 227.461991 \r\nL 191.03524 227.461991 \r\nz\r\n\" style=\"fill:#49af79;\"/>\r\n   </g>\r\n   <g id=\"patch_9\">\r\n    <path clip-path=\"url(#p471eebafe6)\" d=\"M 216.789087 227.559443 \r\nL 237.392163 227.559443 \r\nL 237.392163 100.546871 \r\nL 216.789087 100.546871 \r\nz\r\n\" style=\"fill:#4aac9a;\"/>\r\n   </g>\r\n   <g id=\"patch_10\">\r\n    <path clip-path=\"url(#p471eebafe6)\" d=\"M 242.542933 227.559443 \r\nL 263.14601 227.559443 \r\nL 263.14601 227.440335 \r\nL 242.542933 227.440335 \r\nz\r\n\" style=\"fill:#4cabae;\"/>\r\n   </g>\r\n   <g id=\"patch_11\">\r\n    <path clip-path=\"url(#p471eebafe6)\" d=\"M 268.296779 227.559443 \r\nL 288.899856 227.559443 \r\nL 288.899856 53.661583 \r\nL 268.296779 53.661583 \r\nz\r\n\" style=\"fill:#52acc9;\"/>\r\n   </g>\r\n   <g id=\"patch_12\">\r\n    <path clip-path=\"url(#p471eebafe6)\" d=\"M 294.050625 227.559443 \r\nL 314.653702 227.559443 \r\nL 314.653702 227.353711 \r\nL 294.050625 227.353711 \r\nz\r\n\" style=\"fill:#8daee7;\"/>\r\n   </g>\r\n   <g id=\"patch_13\">\r\n    <path clip-path=\"url(#p471eebafe6)\" d=\"M 319.804471 227.559443 \r\nL 340.407548 227.559443 \r\nL 340.407548 62.952017 \r\nL 319.804471 62.952017 \r\nz\r\n\" style=\"fill:#bfa3ea;\"/>\r\n   </g>\r\n   <g id=\"patch_14\">\r\n    <path clip-path=\"url(#p471eebafe6)\" d=\"M 345.558317 227.559443 \r\nL 366.161394 227.559443 \r\nL 366.161394 227.440335 \r\nL 345.558317 227.440335 \r\nz\r\n\" style=\"fill:#e689e6;\"/>\r\n   </g>\r\n   <g id=\"patch_15\">\r\n    <path clip-path=\"url(#p471eebafe6)\" d=\"M 371.312163 227.559443 \r\nL 391.91524 227.559443 \r\nL 391.91524 20.473729 \r\nL 371.312163 20.473729 \r\nz\r\n\" style=\"fill:#e891c3;\"/>\r\n   </g>\r\n   <g id=\"matplotlib.axis_1\">\r\n    <g id=\"xtick_1\">\r\n     <g id=\"line2d_1\">\r\n      <defs>\r\n       <path d=\"M 0 0 \r\nL 0 3.5 \r\n\" id=\"m9a235d3972\" style=\"stroke:#000000;stroke-width:0.8;\"/>\r\n      </defs>\r\n      <g>\r\n       <use style=\"stroke:#000000;stroke-width:0.8;\" x=\"72.567548\" xlink:href=\"#m9a235d3972\" y=\"227.559443\"/>\r\n      </g>\r\n     </g>\r\n     <g id=\"text_1\">\r\n      <!-- 1.0 -->\r\n      <g transform=\"translate(64.615986 242.15788)scale(0.1 -0.1)\">\r\n       <defs>\r\n        <path d=\"M 12.40625 8.296875 \r\nL 28.515625 8.296875 \r\nL 28.515625 63.921875 \r\nL 10.984375 60.40625 \r\nL 10.984375 69.390625 \r\nL 28.421875 72.90625 \r\nL 38.28125 72.90625 \r\nL 38.28125 8.296875 \r\nL 54.390625 8.296875 \r\nL 54.390625 0 \r\nL 12.40625 0 \r\nz\r\n\" id=\"DejaVuSans-49\"/>\r\n        <path d=\"M 10.6875 12.40625 \r\nL 21 12.40625 \r\nL 21 0 \r\nL 10.6875 0 \r\nz\r\n\" id=\"DejaVuSans-46\"/>\r\n        <path d=\"M 31.78125 66.40625 \r\nQ 24.171875 66.40625 20.328125 58.90625 \r\nQ 16.5 51.421875 16.5 36.375 \r\nQ 16.5 21.390625 20.328125 13.890625 \r\nQ 24.171875 6.390625 31.78125 6.390625 \r\nQ 39.453125 6.390625 43.28125 13.890625 \r\nQ 47.125 21.390625 47.125 36.375 \r\nQ 47.125 51.421875 43.28125 58.90625 \r\nQ 39.453125 66.40625 31.78125 66.40625 \r\nz\r\nM 31.78125 74.21875 \r\nQ 44.046875 74.21875 50.515625 64.515625 \r\nQ 56.984375 54.828125 56.984375 36.375 \r\nQ 56.984375 17.96875 50.515625 8.265625 \r\nQ 44.046875 -1.421875 31.78125 -1.421875 \r\nQ 19.53125 -1.421875 13.0625 8.265625 \r\nQ 6.59375 17.96875 6.59375 36.375 \r\nQ 6.59375 54.828125 13.0625 64.515625 \r\nQ 19.53125 74.21875 31.78125 74.21875 \r\nz\r\n\" id=\"DejaVuSans-48\"/>\r\n       </defs>\r\n       <use xlink:href=\"#DejaVuSans-49\"/>\r\n       <use x=\"63.623047\" xlink:href=\"#DejaVuSans-46\"/>\r\n       <use x=\"95.410156\" xlink:href=\"#DejaVuSans-48\"/>\r\n      </g>\r\n     </g>\r\n    </g>\r\n    <g id=\"xtick_2\">\r\n     <g id=\"line2d_2\">\r\n      <g>\r\n       <use style=\"stroke:#000000;stroke-width:0.8;\" x=\"98.321394\" xlink:href=\"#m9a235d3972\" y=\"227.559443\"/>\r\n      </g>\r\n     </g>\r\n     <g id=\"text_2\">\r\n      <!-- 1.25 -->\r\n      <g transform=\"translate(87.188582 242.15788)scale(0.1 -0.1)\">\r\n       <defs>\r\n        <path d=\"M 19.1875 8.296875 \r\nL 53.609375 8.296875 \r\nL 53.609375 0 \r\nL 7.328125 0 \r\nL 7.328125 8.296875 \r\nQ 12.9375 14.109375 22.625 23.890625 \r\nQ 32.328125 33.6875 34.8125 36.53125 \r\nQ 39.546875 41.84375 41.421875 45.53125 \r\nQ 43.3125 49.21875 43.3125 52.78125 \r\nQ 43.3125 58.59375 39.234375 62.25 \r\nQ 35.15625 65.921875 28.609375 65.921875 \r\nQ 23.96875 65.921875 18.8125 64.3125 \r\nQ 13.671875 62.703125 7.8125 59.421875 \r\nL 7.8125 69.390625 \r\nQ 13.765625 71.78125 18.9375 73 \r\nQ 24.125 74.21875 28.421875 74.21875 \r\nQ 39.75 74.21875 46.484375 68.546875 \r\nQ 53.21875 62.890625 53.21875 53.421875 \r\nQ 53.21875 48.921875 51.53125 44.890625 \r\nQ 49.859375 40.875 45.40625 35.40625 \r\nQ 44.1875 33.984375 37.640625 27.21875 \r\nQ 31.109375 20.453125 19.1875 8.296875 \r\nz\r\n\" id=\"DejaVuSans-50\"/>\r\n        <path d=\"M 10.796875 72.90625 \r\nL 49.515625 72.90625 \r\nL 49.515625 64.59375 \r\nL 19.828125 64.59375 \r\nL 19.828125 46.734375 \r\nQ 21.96875 47.46875 24.109375 47.828125 \r\nQ 26.265625 48.1875 28.421875 48.1875 \r\nQ 40.625 48.1875 47.75 41.5 \r\nQ 54.890625 34.8125 54.890625 23.390625 \r\nQ 54.890625 11.625 47.5625 5.09375 \r\nQ 40.234375 -1.421875 26.90625 -1.421875 \r\nQ 22.3125 -1.421875 17.546875 -0.640625 \r\nQ 12.796875 0.140625 7.71875 1.703125 \r\nL 7.71875 11.625 \r\nQ 12.109375 9.234375 16.796875 8.0625 \r\nQ 21.484375 6.890625 26.703125 6.890625 \r\nQ 35.15625 6.890625 40.078125 11.328125 \r\nQ 45.015625 15.765625 45.015625 23.390625 \r\nQ 45.015625 31 40.078125 35.4375 \r\nQ 35.15625 39.890625 26.703125 39.890625 \r\nQ 22.75 39.890625 18.8125 39.015625 \r\nQ 14.890625 38.140625 10.796875 36.28125 \r\nz\r\n\" id=\"DejaVuSans-53\"/>\r\n       </defs>\r\n       <use xlink:href=\"#DejaVuSans-49\"/>\r\n       <use x=\"63.623047\" xlink:href=\"#DejaVuSans-46\"/>\r\n       <use x=\"95.410156\" xlink:href=\"#DejaVuSans-50\"/>\r\n       <use x=\"159.033203\" xlink:href=\"#DejaVuSans-53\"/>\r\n      </g>\r\n     </g>\r\n    </g>\r\n    <g id=\"xtick_3\">\r\n     <g id=\"line2d_3\">\r\n      <g>\r\n       <use style=\"stroke:#000000;stroke-width:0.8;\" x=\"124.07524\" xlink:href=\"#m9a235d3972\" y=\"227.559443\"/>\r\n      </g>\r\n     </g>\r\n     <g id=\"text_3\">\r\n      <!-- 1.33 -->\r\n      <g transform=\"translate(112.942428 242.15788)scale(0.1 -0.1)\">\r\n       <defs>\r\n        <path d=\"M 40.578125 39.3125 \r\nQ 47.65625 37.796875 51.625 33 \r\nQ 55.609375 28.21875 55.609375 21.1875 \r\nQ 55.609375 10.40625 48.1875 4.484375 \r\nQ 40.765625 -1.421875 27.09375 -1.421875 \r\nQ 22.515625 -1.421875 17.65625 -0.515625 \r\nQ 12.796875 0.390625 7.625 2.203125 \r\nL 7.625 11.71875 \r\nQ 11.71875 9.328125 16.59375 8.109375 \r\nQ 21.484375 6.890625 26.8125 6.890625 \r\nQ 36.078125 6.890625 40.9375 10.546875 \r\nQ 45.796875 14.203125 45.796875 21.1875 \r\nQ 45.796875 27.640625 41.28125 31.265625 \r\nQ 36.765625 34.90625 28.71875 34.90625 \r\nL 20.21875 34.90625 \r\nL 20.21875 43.015625 \r\nL 29.109375 43.015625 \r\nQ 36.375 43.015625 40.234375 45.921875 \r\nQ 44.09375 48.828125 44.09375 54.296875 \r\nQ 44.09375 59.90625 40.109375 62.90625 \r\nQ 36.140625 65.921875 28.71875 65.921875 \r\nQ 24.65625 65.921875 20.015625 65.03125 \r\nQ 15.375 64.15625 9.8125 62.3125 \r\nL 9.8125 71.09375 \r\nQ 15.4375 72.65625 20.34375 73.4375 \r\nQ 25.25 74.21875 29.59375 74.21875 \r\nQ 40.828125 74.21875 47.359375 69.109375 \r\nQ 53.90625 64.015625 53.90625 55.328125 \r\nQ 53.90625 49.265625 50.4375 45.09375 \r\nQ 46.96875 40.921875 40.578125 39.3125 \r\nz\r\n\" id=\"DejaVuSans-51\"/>\r\n       </defs>\r\n       <use xlink:href=\"#DejaVuSans-49\"/>\r\n       <use x=\"63.623047\" xlink:href=\"#DejaVuSans-46\"/>\r\n       <use x=\"95.410156\" xlink:href=\"#DejaVuSans-51\"/>\r\n       <use x=\"159.033203\" xlink:href=\"#DejaVuSans-51\"/>\r\n      </g>\r\n     </g>\r\n    </g>\r\n    <g id=\"xtick_4\">\r\n     <g id=\"line2d_4\">\r\n      <g>\r\n       <use style=\"stroke:#000000;stroke-width:0.8;\" x=\"149.829087\" xlink:href=\"#m9a235d3972\" y=\"227.559443\"/>\r\n      </g>\r\n     </g>\r\n     <g id=\"text_4\">\r\n      <!-- 1.5 -->\r\n      <g transform=\"translate(141.877524 242.15788)scale(0.1 -0.1)\">\r\n       <use xlink:href=\"#DejaVuSans-49\"/>\r\n       <use x=\"63.623047\" xlink:href=\"#DejaVuSans-46\"/>\r\n       <use x=\"95.410156\" xlink:href=\"#DejaVuSans-53\"/>\r\n      </g>\r\n     </g>\r\n    </g>\r\n    <g id=\"xtick_5\">\r\n     <g id=\"line2d_5\">\r\n      <g>\r\n       <use style=\"stroke:#000000;stroke-width:0.8;\" x=\"175.582933\" xlink:href=\"#m9a235d3972\" y=\"227.559443\"/>\r\n      </g>\r\n     </g>\r\n     <g id=\"text_5\">\r\n      <!-- 1.67 -->\r\n      <g transform=\"translate(164.45012 242.15788)scale(0.1 -0.1)\">\r\n       <defs>\r\n        <path d=\"M 33.015625 40.375 \r\nQ 26.375 40.375 22.484375 35.828125 \r\nQ 18.609375 31.296875 18.609375 23.390625 \r\nQ 18.609375 15.53125 22.484375 10.953125 \r\nQ 26.375 6.390625 33.015625 6.390625 \r\nQ 39.65625 6.390625 43.53125 10.953125 \r\nQ 47.40625 15.53125 47.40625 23.390625 \r\nQ 47.40625 31.296875 43.53125 35.828125 \r\nQ 39.65625 40.375 33.015625 40.375 \r\nz\r\nM 52.59375 71.296875 \r\nL 52.59375 62.3125 \r\nQ 48.875 64.0625 45.09375 64.984375 \r\nQ 41.3125 65.921875 37.59375 65.921875 \r\nQ 27.828125 65.921875 22.671875 59.328125 \r\nQ 17.53125 52.734375 16.796875 39.40625 \r\nQ 19.671875 43.65625 24.015625 45.921875 \r\nQ 28.375 48.1875 33.59375 48.1875 \r\nQ 44.578125 48.1875 50.953125 41.515625 \r\nQ 57.328125 34.859375 57.328125 23.390625 \r\nQ 57.328125 12.15625 50.6875 5.359375 \r\nQ 44.046875 -1.421875 33.015625 -1.421875 \r\nQ 20.359375 -1.421875 13.671875 8.265625 \r\nQ 6.984375 17.96875 6.984375 36.375 \r\nQ 6.984375 53.65625 15.1875 63.9375 \r\nQ 23.390625 74.21875 37.203125 74.21875 \r\nQ 40.921875 74.21875 44.703125 73.484375 \r\nQ 48.484375 72.75 52.59375 71.296875 \r\nz\r\n\" id=\"DejaVuSans-54\"/>\r\n        <path d=\"M 8.203125 72.90625 \r\nL 55.078125 72.90625 \r\nL 55.078125 68.703125 \r\nL 28.609375 0 \r\nL 18.3125 0 \r\nL 43.21875 64.59375 \r\nL 8.203125 64.59375 \r\nz\r\n\" id=\"DejaVuSans-55\"/>\r\n       </defs>\r\n       <use xlink:href=\"#DejaVuSans-49\"/>\r\n       <use x=\"63.623047\" xlink:href=\"#DejaVuSans-46\"/>\r\n       <use x=\"95.410156\" xlink:href=\"#DejaVuSans-54\"/>\r\n       <use x=\"159.033203\" xlink:href=\"#DejaVuSans-55\"/>\r\n      </g>\r\n     </g>\r\n    </g>\r\n    <g id=\"xtick_6\">\r\n     <g id=\"line2d_6\">\r\n      <g>\r\n       <use style=\"stroke:#000000;stroke-width:0.8;\" x=\"201.336779\" xlink:href=\"#m9a235d3972\" y=\"227.559443\"/>\r\n      </g>\r\n     </g>\r\n     <g id=\"text_6\">\r\n      <!-- 1.75 -->\r\n      <g transform=\"translate(190.203966 242.15788)scale(0.1 -0.1)\">\r\n       <use xlink:href=\"#DejaVuSans-49\"/>\r\n       <use x=\"63.623047\" xlink:href=\"#DejaVuSans-46\"/>\r\n       <use x=\"95.410156\" xlink:href=\"#DejaVuSans-55\"/>\r\n       <use x=\"159.033203\" xlink:href=\"#DejaVuSans-53\"/>\r\n      </g>\r\n     </g>\r\n    </g>\r\n    <g id=\"xtick_7\">\r\n     <g id=\"line2d_7\">\r\n      <g>\r\n       <use style=\"stroke:#000000;stroke-width:0.8;\" x=\"227.090625\" xlink:href=\"#m9a235d3972\" y=\"227.559443\"/>\r\n      </g>\r\n     </g>\r\n     <g id=\"text_7\">\r\n      <!-- 2.0 -->\r\n      <g transform=\"translate(219.139063 242.15788)scale(0.1 -0.1)\">\r\n       <use xlink:href=\"#DejaVuSans-50\"/>\r\n       <use x=\"63.623047\" xlink:href=\"#DejaVuSans-46\"/>\r\n       <use x=\"95.410156\" xlink:href=\"#DejaVuSans-48\"/>\r\n      </g>\r\n     </g>\r\n    </g>\r\n    <g id=\"xtick_8\">\r\n     <g id=\"line2d_8\">\r\n      <g>\r\n       <use style=\"stroke:#000000;stroke-width:0.8;\" x=\"252.844471\" xlink:href=\"#m9a235d3972\" y=\"227.559443\"/>\r\n      </g>\r\n     </g>\r\n     <g id=\"text_8\">\r\n      <!-- 2.25 -->\r\n      <g transform=\"translate(241.711659 242.15788)scale(0.1 -0.1)\">\r\n       <use xlink:href=\"#DejaVuSans-50\"/>\r\n       <use x=\"63.623047\" xlink:href=\"#DejaVuSans-46\"/>\r\n       <use x=\"95.410156\" xlink:href=\"#DejaVuSans-50\"/>\r\n       <use x=\"159.033203\" xlink:href=\"#DejaVuSans-53\"/>\r\n      </g>\r\n     </g>\r\n    </g>\r\n    <g id=\"xtick_9\">\r\n     <g id=\"line2d_9\">\r\n      <g>\r\n       <use style=\"stroke:#000000;stroke-width:0.8;\" x=\"278.598317\" xlink:href=\"#m9a235d3972\" y=\"227.559443\"/>\r\n      </g>\r\n     </g>\r\n     <g id=\"text_9\">\r\n      <!-- 2.33 -->\r\n      <g transform=\"translate(267.465505 242.15788)scale(0.1 -0.1)\">\r\n       <use xlink:href=\"#DejaVuSans-50\"/>\r\n       <use x=\"63.623047\" xlink:href=\"#DejaVuSans-46\"/>\r\n       <use x=\"95.410156\" xlink:href=\"#DejaVuSans-51\"/>\r\n       <use x=\"159.033203\" xlink:href=\"#DejaVuSans-51\"/>\r\n      </g>\r\n     </g>\r\n    </g>\r\n    <g id=\"xtick_10\">\r\n     <g id=\"line2d_10\">\r\n      <g>\r\n       <use style=\"stroke:#000000;stroke-width:0.8;\" x=\"304.352163\" xlink:href=\"#m9a235d3972\" y=\"227.559443\"/>\r\n      </g>\r\n     </g>\r\n     <g id=\"text_10\">\r\n      <!-- 2.5 -->\r\n      <g transform=\"translate(296.400601 242.15788)scale(0.1 -0.1)\">\r\n       <use xlink:href=\"#DejaVuSans-50\"/>\r\n       <use x=\"63.623047\" xlink:href=\"#DejaVuSans-46\"/>\r\n       <use x=\"95.410156\" xlink:href=\"#DejaVuSans-53\"/>\r\n      </g>\r\n     </g>\r\n    </g>\r\n    <g id=\"xtick_11\">\r\n     <g id=\"line2d_11\">\r\n      <g>\r\n       <use style=\"stroke:#000000;stroke-width:0.8;\" x=\"330.10601\" xlink:href=\"#m9a235d3972\" y=\"227.559443\"/>\r\n      </g>\r\n     </g>\r\n     <g id=\"text_11\">\r\n      <!-- 2.67 -->\r\n      <g transform=\"translate(318.973197 242.15788)scale(0.1 -0.1)\">\r\n       <use xlink:href=\"#DejaVuSans-50\"/>\r\n       <use x=\"63.623047\" xlink:href=\"#DejaVuSans-46\"/>\r\n       <use x=\"95.410156\" xlink:href=\"#DejaVuSans-54\"/>\r\n       <use x=\"159.033203\" xlink:href=\"#DejaVuSans-55\"/>\r\n      </g>\r\n     </g>\r\n    </g>\r\n    <g id=\"xtick_12\">\r\n     <g id=\"line2d_12\">\r\n      <g>\r\n       <use style=\"stroke:#000000;stroke-width:0.8;\" x=\"355.859856\" xlink:href=\"#m9a235d3972\" y=\"227.559443\"/>\r\n      </g>\r\n     </g>\r\n     <g id=\"text_12\">\r\n      <!-- 2.75 -->\r\n      <g transform=\"translate(344.727043 242.15788)scale(0.1 -0.1)\">\r\n       <use xlink:href=\"#DejaVuSans-50\"/>\r\n       <use x=\"63.623047\" xlink:href=\"#DejaVuSans-46\"/>\r\n       <use x=\"95.410156\" xlink:href=\"#DejaVuSans-55\"/>\r\n       <use x=\"159.033203\" xlink:href=\"#DejaVuSans-53\"/>\r\n      </g>\r\n     </g>\r\n    </g>\r\n    <g id=\"xtick_13\">\r\n     <g id=\"line2d_13\">\r\n      <g>\r\n       <use style=\"stroke:#000000;stroke-width:0.8;\" x=\"381.613702\" xlink:href=\"#m9a235d3972\" y=\"227.559443\"/>\r\n      </g>\r\n     </g>\r\n     <g id=\"text_13\">\r\n      <!-- 3.0 -->\r\n      <g transform=\"translate(373.662139 242.15788)scale(0.1 -0.1)\">\r\n       <use xlink:href=\"#DejaVuSans-51\"/>\r\n       <use x=\"63.623047\" xlink:href=\"#DejaVuSans-46\"/>\r\n       <use x=\"95.410156\" xlink:href=\"#DejaVuSans-48\"/>\r\n      </g>\r\n     </g>\r\n    </g>\r\n   </g>\r\n   <g id=\"matplotlib.axis_2\">\r\n    <g id=\"ytick_1\">\r\n     <g id=\"line2d_14\">\r\n      <defs>\r\n       <path d=\"M 0 0 \r\nL -3.5 0 \r\n\" id=\"m018082f866\" style=\"stroke:#000000;stroke-width:0.8;\"/>\r\n      </defs>\r\n      <g>\r\n       <use style=\"stroke:#000000;stroke-width:0.8;\" x=\"59.690625\" xlink:href=\"#m018082f866\" y=\"227.559443\"/>\r\n      </g>\r\n     </g>\r\n     <g id=\"text_14\">\r\n      <!-- 0 -->\r\n      <g transform=\"translate(46.328125 231.358662)scale(0.1 -0.1)\">\r\n       <use xlink:href=\"#DejaVuSans-48\"/>\r\n      </g>\r\n     </g>\r\n    </g>\r\n    <g id=\"ytick_2\">\r\n     <g id=\"line2d_15\">\r\n      <g>\r\n       <use style=\"stroke:#000000;stroke-width:0.8;\" x=\"59.690625\" xlink:href=\"#m018082f866\" y=\"200.489415\"/>\r\n      </g>\r\n     </g>\r\n     <g id=\"text_15\">\r\n      <!-- 2500 -->\r\n      <g transform=\"translate(27.240625 204.288634)scale(0.1 -0.1)\">\r\n       <use xlink:href=\"#DejaVuSans-50\"/>\r\n       <use x=\"63.623047\" xlink:href=\"#DejaVuSans-53\"/>\r\n       <use x=\"127.246094\" xlink:href=\"#DejaVuSans-48\"/>\r\n       <use x=\"190.869141\" xlink:href=\"#DejaVuSans-48\"/>\r\n      </g>\r\n     </g>\r\n    </g>\r\n    <g id=\"ytick_3\">\r\n     <g id=\"line2d_16\">\r\n      <g>\r\n       <use style=\"stroke:#000000;stroke-width:0.8;\" x=\"59.690625\" xlink:href=\"#m018082f866\" y=\"173.419387\"/>\r\n      </g>\r\n     </g>\r\n     <g id=\"text_16\">\r\n      <!-- 5000 -->\r\n      <g transform=\"translate(27.240625 177.218606)scale(0.1 -0.1)\">\r\n       <use xlink:href=\"#DejaVuSans-53\"/>\r\n       <use x=\"63.623047\" xlink:href=\"#DejaVuSans-48\"/>\r\n       <use x=\"127.246094\" xlink:href=\"#DejaVuSans-48\"/>\r\n       <use x=\"190.869141\" xlink:href=\"#DejaVuSans-48\"/>\r\n      </g>\r\n     </g>\r\n    </g>\r\n    <g id=\"ytick_4\">\r\n     <g id=\"line2d_17\">\r\n      <g>\r\n       <use style=\"stroke:#000000;stroke-width:0.8;\" x=\"59.690625\" xlink:href=\"#m018082f866\" y=\"146.349359\"/>\r\n      </g>\r\n     </g>\r\n     <g id=\"text_17\">\r\n      <!-- 7500 -->\r\n      <g transform=\"translate(27.240625 150.148578)scale(0.1 -0.1)\">\r\n       <use xlink:href=\"#DejaVuSans-55\"/>\r\n       <use x=\"63.623047\" xlink:href=\"#DejaVuSans-53\"/>\r\n       <use x=\"127.246094\" xlink:href=\"#DejaVuSans-48\"/>\r\n       <use x=\"190.869141\" xlink:href=\"#DejaVuSans-48\"/>\r\n      </g>\r\n     </g>\r\n    </g>\r\n    <g id=\"ytick_5\">\r\n     <g id=\"line2d_18\">\r\n      <g>\r\n       <use style=\"stroke:#000000;stroke-width:0.8;\" x=\"59.690625\" xlink:href=\"#m018082f866\" y=\"119.279331\"/>\r\n      </g>\r\n     </g>\r\n     <g id=\"text_18\">\r\n      <!-- 10000 -->\r\n      <g transform=\"translate(20.878125 123.07855)scale(0.1 -0.1)\">\r\n       <use xlink:href=\"#DejaVuSans-49\"/>\r\n       <use x=\"63.623047\" xlink:href=\"#DejaVuSans-48\"/>\r\n       <use x=\"127.246094\" xlink:href=\"#DejaVuSans-48\"/>\r\n       <use x=\"190.869141\" xlink:href=\"#DejaVuSans-48\"/>\r\n       <use x=\"254.492188\" xlink:href=\"#DejaVuSans-48\"/>\r\n      </g>\r\n     </g>\r\n    </g>\r\n    <g id=\"ytick_6\">\r\n     <g id=\"line2d_19\">\r\n      <g>\r\n       <use style=\"stroke:#000000;stroke-width:0.8;\" x=\"59.690625\" xlink:href=\"#m018082f866\" y=\"92.209303\"/>\r\n      </g>\r\n     </g>\r\n     <g id=\"text_19\">\r\n      <!-- 12500 -->\r\n      <g transform=\"translate(20.878125 96.008522)scale(0.1 -0.1)\">\r\n       <use xlink:href=\"#DejaVuSans-49\"/>\r\n       <use x=\"63.623047\" xlink:href=\"#DejaVuSans-50\"/>\r\n       <use x=\"127.246094\" xlink:href=\"#DejaVuSans-53\"/>\r\n       <use x=\"190.869141\" xlink:href=\"#DejaVuSans-48\"/>\r\n       <use x=\"254.492188\" xlink:href=\"#DejaVuSans-48\"/>\r\n      </g>\r\n     </g>\r\n    </g>\r\n    <g id=\"ytick_7\">\r\n     <g id=\"line2d_20\">\r\n      <g>\r\n       <use style=\"stroke:#000000;stroke-width:0.8;\" x=\"59.690625\" xlink:href=\"#m018082f866\" y=\"65.139275\"/>\r\n      </g>\r\n     </g>\r\n     <g id=\"text_20\">\r\n      <!-- 15000 -->\r\n      <g transform=\"translate(20.878125 68.938494)scale(0.1 -0.1)\">\r\n       <use xlink:href=\"#DejaVuSans-49\"/>\r\n       <use x=\"63.623047\" xlink:href=\"#DejaVuSans-53\"/>\r\n       <use x=\"127.246094\" xlink:href=\"#DejaVuSans-48\"/>\r\n       <use x=\"190.869141\" xlink:href=\"#DejaVuSans-48\"/>\r\n       <use x=\"254.492188\" xlink:href=\"#DejaVuSans-48\"/>\r\n      </g>\r\n     </g>\r\n    </g>\r\n    <g id=\"ytick_8\">\r\n     <g id=\"line2d_21\">\r\n      <g>\r\n       <use style=\"stroke:#000000;stroke-width:0.8;\" x=\"59.690625\" xlink:href=\"#m018082f866\" y=\"38.069247\"/>\r\n      </g>\r\n     </g>\r\n     <g id=\"text_21\">\r\n      <!-- 17500 -->\r\n      <g transform=\"translate(20.878125 41.868466)scale(0.1 -0.1)\">\r\n       <use xlink:href=\"#DejaVuSans-49\"/>\r\n       <use x=\"63.623047\" xlink:href=\"#DejaVuSans-55\"/>\r\n       <use x=\"127.246094\" xlink:href=\"#DejaVuSans-53\"/>\r\n       <use x=\"190.869141\" xlink:href=\"#DejaVuSans-48\"/>\r\n       <use x=\"254.492188\" xlink:href=\"#DejaVuSans-48\"/>\r\n      </g>\r\n     </g>\r\n    </g>\r\n    <g id=\"ytick_9\">\r\n     <g id=\"line2d_22\">\r\n      <g>\r\n       <use style=\"stroke:#000000;stroke-width:0.8;\" x=\"59.690625\" xlink:href=\"#m018082f866\" y=\"10.999219\"/>\r\n      </g>\r\n     </g>\r\n     <g id=\"text_22\">\r\n      <!-- 20000 -->\r\n      <g transform=\"translate(20.878125 14.798437)scale(0.1 -0.1)\">\r\n       <use xlink:href=\"#DejaVuSans-50\"/>\r\n       <use x=\"63.623047\" xlink:href=\"#DejaVuSans-48\"/>\r\n       <use x=\"127.246094\" xlink:href=\"#DejaVuSans-48\"/>\r\n       <use x=\"190.869141\" xlink:href=\"#DejaVuSans-48\"/>\r\n       <use x=\"254.492188\" xlink:href=\"#DejaVuSans-48\"/>\r\n      </g>\r\n     </g>\r\n    </g>\r\n    <g id=\"text_23\">\r\n     <!-- relevance -->\r\n     <g transform=\"translate(14.798438 143.342568)rotate(-90)scale(0.1 -0.1)\">\r\n      <defs>\r\n       <path d=\"M 41.109375 46.296875 \r\nQ 39.59375 47.171875 37.8125 47.578125 \r\nQ 36.03125 48 33.890625 48 \r\nQ 26.265625 48 22.1875 43.046875 \r\nQ 18.109375 38.09375 18.109375 28.8125 \r\nL 18.109375 0 \r\nL 9.078125 0 \r\nL 9.078125 54.6875 \r\nL 18.109375 54.6875 \r\nL 18.109375 46.1875 \r\nQ 20.953125 51.171875 25.484375 53.578125 \r\nQ 30.03125 56 36.53125 56 \r\nQ 37.453125 56 38.578125 55.875 \r\nQ 39.703125 55.765625 41.0625 55.515625 \r\nz\r\n\" id=\"DejaVuSans-114\"/>\r\n       <path d=\"M 56.203125 29.59375 \r\nL 56.203125 25.203125 \r\nL 14.890625 25.203125 \r\nQ 15.484375 15.921875 20.484375 11.0625 \r\nQ 25.484375 6.203125 34.421875 6.203125 \r\nQ 39.59375 6.203125 44.453125 7.46875 \r\nQ 49.3125 8.734375 54.109375 11.28125 \r\nL 54.109375 2.78125 \r\nQ 49.265625 0.734375 44.1875 -0.34375 \r\nQ 39.109375 -1.421875 33.890625 -1.421875 \r\nQ 20.796875 -1.421875 13.15625 6.1875 \r\nQ 5.515625 13.8125 5.515625 26.8125 \r\nQ 5.515625 40.234375 12.765625 48.109375 \r\nQ 20.015625 56 32.328125 56 \r\nQ 43.359375 56 49.78125 48.890625 \r\nQ 56.203125 41.796875 56.203125 29.59375 \r\nz\r\nM 47.21875 32.234375 \r\nQ 47.125 39.59375 43.09375 43.984375 \r\nQ 39.0625 48.390625 32.421875 48.390625 \r\nQ 24.90625 48.390625 20.390625 44.140625 \r\nQ 15.875 39.890625 15.1875 32.171875 \r\nz\r\n\" id=\"DejaVuSans-101\"/>\r\n       <path d=\"M 9.421875 75.984375 \r\nL 18.40625 75.984375 \r\nL 18.40625 0 \r\nL 9.421875 0 \r\nz\r\n\" id=\"DejaVuSans-108\"/>\r\n       <path d=\"M 2.984375 54.6875 \r\nL 12.5 54.6875 \r\nL 29.59375 8.796875 \r\nL 46.6875 54.6875 \r\nL 56.203125 54.6875 \r\nL 35.6875 0 \r\nL 23.484375 0 \r\nz\r\n\" id=\"DejaVuSans-118\"/>\r\n       <path d=\"M 34.28125 27.484375 \r\nQ 23.390625 27.484375 19.1875 25 \r\nQ 14.984375 22.515625 14.984375 16.5 \r\nQ 14.984375 11.71875 18.140625 8.90625 \r\nQ 21.296875 6.109375 26.703125 6.109375 \r\nQ 34.1875 6.109375 38.703125 11.40625 \r\nQ 43.21875 16.703125 43.21875 25.484375 \r\nL 43.21875 27.484375 \r\nz\r\nM 52.203125 31.203125 \r\nL 52.203125 0 \r\nL 43.21875 0 \r\nL 43.21875 8.296875 \r\nQ 40.140625 3.328125 35.546875 0.953125 \r\nQ 30.953125 -1.421875 24.3125 -1.421875 \r\nQ 15.921875 -1.421875 10.953125 3.296875 \r\nQ 6 8.015625 6 15.921875 \r\nQ 6 25.140625 12.171875 29.828125 \r\nQ 18.359375 34.515625 30.609375 34.515625 \r\nL 43.21875 34.515625 \r\nL 43.21875 35.40625 \r\nQ 43.21875 41.609375 39.140625 45 \r\nQ 35.0625 48.390625 27.6875 48.390625 \r\nQ 23 48.390625 18.546875 47.265625 \r\nQ 14.109375 46.140625 10.015625 43.890625 \r\nL 10.015625 52.203125 \r\nQ 14.9375 54.109375 19.578125 55.046875 \r\nQ 24.21875 56 28.609375 56 \r\nQ 40.484375 56 46.34375 49.84375 \r\nQ 52.203125 43.703125 52.203125 31.203125 \r\nz\r\n\" id=\"DejaVuSans-97\"/>\r\n       <path d=\"M 54.890625 33.015625 \r\nL 54.890625 0 \r\nL 45.90625 0 \r\nL 45.90625 32.71875 \r\nQ 45.90625 40.484375 42.875 44.328125 \r\nQ 39.84375 48.1875 33.796875 48.1875 \r\nQ 26.515625 48.1875 22.3125 43.546875 \r\nQ 18.109375 38.921875 18.109375 30.90625 \r\nL 18.109375 0 \r\nL 9.078125 0 \r\nL 9.078125 54.6875 \r\nL 18.109375 54.6875 \r\nL 18.109375 46.1875 \r\nQ 21.34375 51.125 25.703125 53.5625 \r\nQ 30.078125 56 35.796875 56 \r\nQ 45.21875 56 50.046875 50.171875 \r\nQ 54.890625 44.34375 54.890625 33.015625 \r\nz\r\n\" id=\"DejaVuSans-110\"/>\r\n       <path d=\"M 48.78125 52.59375 \r\nL 48.78125 44.1875 \r\nQ 44.96875 46.296875 41.140625 47.34375 \r\nQ 37.3125 48.390625 33.40625 48.390625 \r\nQ 24.65625 48.390625 19.8125 42.84375 \r\nQ 14.984375 37.3125 14.984375 27.296875 \r\nQ 14.984375 17.28125 19.8125 11.734375 \r\nQ 24.65625 6.203125 33.40625 6.203125 \r\nQ 37.3125 6.203125 41.140625 7.25 \r\nQ 44.96875 8.296875 48.78125 10.40625 \r\nL 48.78125 2.09375 \r\nQ 45.015625 0.34375 40.984375 -0.53125 \r\nQ 36.96875 -1.421875 32.421875 -1.421875 \r\nQ 20.0625 -1.421875 12.78125 6.34375 \r\nQ 5.515625 14.109375 5.515625 27.296875 \r\nQ 5.515625 40.671875 12.859375 48.328125 \r\nQ 20.21875 56 33.015625 56 \r\nQ 37.15625 56 41.109375 55.140625 \r\nQ 45.0625 54.296875 48.78125 52.59375 \r\nz\r\n\" id=\"DejaVuSans-99\"/>\r\n      </defs>\r\n      <use xlink:href=\"#DejaVuSans-114\"/>\r\n      <use x=\"38.863281\" xlink:href=\"#DejaVuSans-101\"/>\r\n      <use x=\"100.386719\" xlink:href=\"#DejaVuSans-108\"/>\r\n      <use x=\"128.169922\" xlink:href=\"#DejaVuSans-101\"/>\r\n      <use x=\"189.693359\" xlink:href=\"#DejaVuSans-118\"/>\r\n      <use x=\"248.873047\" xlink:href=\"#DejaVuSans-97\"/>\r\n      <use x=\"310.152344\" xlink:href=\"#DejaVuSans-110\"/>\r\n      <use x=\"373.53125\" xlink:href=\"#DejaVuSans-99\"/>\r\n      <use x=\"428.511719\" xlink:href=\"#DejaVuSans-101\"/>\r\n     </g>\r\n    </g>\r\n   </g>\r\n   <g id=\"line2d_23\">\r\n    <path clip-path=\"url(#p471eebafe6)\" d=\"M 0 0 \r\n\" style=\"fill:none;stroke:#424242;stroke-linecap:square;stroke-width:2.7;\"/>\r\n   </g>\r\n   <g id=\"line2d_24\">\r\n    <path clip-path=\"url(#p471eebafe6)\" d=\"M 0 0 \r\n\" style=\"fill:none;stroke:#424242;stroke-linecap:square;stroke-width:2.7;\"/>\r\n   </g>\r\n   <g id=\"line2d_25\">\r\n    <path clip-path=\"url(#p471eebafe6)\" d=\"M 0 0 \r\n\" style=\"fill:none;stroke:#424242;stroke-linecap:square;stroke-width:2.7;\"/>\r\n   </g>\r\n   <g id=\"line2d_26\">\r\n    <path clip-path=\"url(#p471eebafe6)\" d=\"M 0 0 \r\n\" style=\"fill:none;stroke:#424242;stroke-linecap:square;stroke-width:2.7;\"/>\r\n   </g>\r\n   <g id=\"line2d_27\">\r\n    <path clip-path=\"url(#p471eebafe6)\" d=\"M 0 0 \r\n\" style=\"fill:none;stroke:#424242;stroke-linecap:square;stroke-width:2.7;\"/>\r\n   </g>\r\n   <g id=\"line2d_28\">\r\n    <path clip-path=\"url(#p471eebafe6)\" d=\"M 0 0 \r\n\" style=\"fill:none;stroke:#424242;stroke-linecap:square;stroke-width:2.7;\"/>\r\n   </g>\r\n   <g id=\"line2d_29\">\r\n    <path clip-path=\"url(#p471eebafe6)\" d=\"M 0 0 \r\n\" style=\"fill:none;stroke:#424242;stroke-linecap:square;stroke-width:2.7;\"/>\r\n   </g>\r\n   <g id=\"line2d_30\">\r\n    <path clip-path=\"url(#p471eebafe6)\" d=\"M 0 0 \r\n\" style=\"fill:none;stroke:#424242;stroke-linecap:square;stroke-width:2.7;\"/>\r\n   </g>\r\n   <g id=\"line2d_31\">\r\n    <path clip-path=\"url(#p471eebafe6)\" d=\"M 0 0 \r\n\" style=\"fill:none;stroke:#424242;stroke-linecap:square;stroke-width:2.7;\"/>\r\n   </g>\r\n   <g id=\"line2d_32\">\r\n    <path clip-path=\"url(#p471eebafe6)\" d=\"M 0 0 \r\n\" style=\"fill:none;stroke:#424242;stroke-linecap:square;stroke-width:2.7;\"/>\r\n   </g>\r\n   <g id=\"line2d_33\">\r\n    <path clip-path=\"url(#p471eebafe6)\" d=\"M 0 0 \r\n\" style=\"fill:none;stroke:#424242;stroke-linecap:square;stroke-width:2.7;\"/>\r\n   </g>\r\n   <g id=\"line2d_34\">\r\n    <path clip-path=\"url(#p471eebafe6)\" d=\"M 0 0 \r\n\" style=\"fill:none;stroke:#424242;stroke-linecap:square;stroke-width:2.7;\"/>\r\n   </g>\r\n   <g id=\"line2d_35\">\r\n    <path clip-path=\"url(#p471eebafe6)\" d=\"M 0 0 \r\n\" style=\"fill:none;stroke:#424242;stroke-linecap:square;stroke-width:2.7;\"/>\r\n   </g>\r\n   <g id=\"patch_16\">\r\n    <path d=\"M 59.690625 227.559443 \r\nL 59.690625 10.119443 \r\n\" style=\"fill:none;stroke:#000000;stroke-linecap:square;stroke-linejoin:miter;stroke-width:0.8;\"/>\r\n   </g>\r\n   <g id=\"patch_17\">\r\n    <path d=\"M 394.490625 227.559443 \r\nL 394.490625 10.119443 \r\n\" style=\"fill:none;stroke:#000000;stroke-linecap:square;stroke-linejoin:miter;stroke-width:0.8;\"/>\r\n   </g>\r\n   <g id=\"patch_18\">\r\n    <path d=\"M 59.690625 227.559443 \r\nL 394.490625 227.559443 \r\n\" style=\"fill:none;stroke:#000000;stroke-linecap:square;stroke-linejoin:miter;stroke-width:0.8;\"/>\r\n   </g>\r\n   <g id=\"patch_19\">\r\n    <path d=\"M 59.690625 10.119443 \r\nL 394.490625 10.119443 \r\n\" style=\"fill:none;stroke:#000000;stroke-linecap:square;stroke-linejoin:miter;stroke-width:0.8;\"/>\r\n   </g>\r\n  </g>\r\n </g>\r\n <defs>\r\n  <clipPath id=\"p471eebafe6\">\r\n   <rect height=\"217.44\" width=\"334.8\" x=\"59.690625\" y=\"10.119443\"/>\r\n  </clipPath>\r\n </defs>\r\n</svg>\r\n",
      "image/png": "[encoded data removed]"
     },
     "metadata": {
      "needs_background": "light"
     }
    }
   ],
   "source": [
    "sns.barplot(x=train['relevance'].value_counts().index, y=train['relevance'].value_counts())\n",
    "plt.show()"
   ]
  },
  {
   "source": [
    "## Spellchecker (3 different methods)"
   ],
   "cell_type": "markdown",
   "metadata": {}
  },
  {
   "source": [
    "import requests\n",
    "import re\n",
    "import time\n",
    "from random import randint\n",
    "\n",
    "START_SPELL_CHECK=\"<span class=\\\"spell\\\">Showing results for</span>\"\n",
    "END_SPELL_CHECK=\"<br><span class=\\\"spell_orig\\\">Search instead for\"\n",
    "\n",
    "HTML_Codes = (\n",
    "\t\t(\"'\", '&#39;'),\n",
    "\t\t('\"', '&quot;'),\n",
    "\t\t('>', '&gt;'),\n",
    "\t\t('<', '&lt;'),\n",
    "\t\t('&', '&amp;'),\n",
    ")\n",
    "\n",
    "def spell_check(s):\n",
    "\tq = '+'.join(s.split())\n",
    "\ttime.sleep(  randint(0,2) ) #relax and don't let google be angry\n",
    "\tr = requests.get(\"https://www.google.co.uk/search?q=\"+q)\n",
    "\tcontent = r.text\n",
    "\tstart=content.find(START_SPELL_CHECK) \n",
    "\tif ( start > -1 ):\n",
    "\t\tstart = start + len(START_SPELL_CHECK)\n",
    "\t\tend=content.find(END_SPELL_CHECK)\n",
    "\t\tsearch= content[start:end]\n",
    "\t\tsearch = re.sub(r'<[^>]+>', '', search)\n",
    "\t\tfor code in HTML_Codes:\n",
    "\t\t\tsearch = search.replace(code[1], code[0])\n",
    "\t\tsearch = search[1:]\n",
    "\telse:\n",
    "\t\tsearch = s\n",
    "\treturn search"
   ],
   "cell_type": "markdown",
   "metadata": {}
  },
  {
   "source": [
    "from spellchecker import SpellChecker\n",
    "spell = SpellChecker()\n",
    "\n",
    "def spellchecker(sentence):\n",
    "    return \" \".join([spell.correction(word) for word in sentence.lower().split()])"
   ],
   "cell_type": "markdown",
   "metadata": {}
  },
  {
   "cell_type": "code",
   "execution_count": 27,
   "metadata": {},
   "outputs": [
    {
     "output_type": "stream",
     "name": "stderr",
     "text": [
      "100%|██████████| 74067/74067 [01:32<00:00, 804.92it/s]\n"
     ]
    }
   ],
   "source": [
    "from tqdm import tqdm\n",
    "import pkg_resources\n",
    "from symspellpy import SymSpell, Verbosity\n",
    "\n",
    "sym_spell = SymSpell(max_dictionary_edit_distance=2, prefix_length=7)\n",
    "dictionary_path = pkg_resources.resource_filename(\n",
    "    \"symspellpy\", \"frequency_dictionary_en_82_765.txt\")\n",
    "bigram_path = pkg_resources.resource_filename(\n",
    "    \"symspellpy\", \"frequency_bigramdictionary_en_243_342.txt\")\n",
    "# term_index is the column of the term and count_index is the\n",
    "# column of the term frequency\n",
    "sym_spell.load_dictionary(dictionary_path, term_index=0, count_index=1)\n",
    "sym_spell.load_bigram_dictionary(bigram_path, term_index=0, count_index=2)\n",
    "\n",
    "def check_spell(input_term):\n",
    "    # lookup suggestions for multi-word input strings (supports compound\n",
    "    # splitting & merging)\n",
    "    # max edit distance per lookup (per single word, not per whole input string)\n",
    "    suggestions = sym_spell.lookup_compound(input_term, max_edit_distance=2)\n",
    "    # display suggestion term, edit distance, and term frequency\n",
    "    pbar.update()\n",
    "    return suggestions[0]._term\n",
    "\n",
    "pbar = tqdm(total=len(train['search_term']))\n",
    "train['search_term'] = train['search_term'].map(check_spell)\n",
    "pbar.close()"
   ]
  },
  {
   "source": [
    "## Stemming - Tokenizing - Removing special characters - Unify units"
   ],
   "cell_type": "markdown",
   "metadata": {}
  },
  {
   "cell_type": "code",
   "execution_count": 31,
   "metadata": {},
   "outputs": [],
   "source": [
    "from nltk.stem.porter import *\n",
    "stemmer = PorterStemmer()\n",
    "def str_stem(s): \n",
    "    if isinstance(s, str):\n",
    "        s = re.sub(r\"([0-9])( *)\\.( *)([0-9])\", r\"\\1.\\4\", s)\n",
    "        s = re.sub(r\"([0-9]+)( *)(inches|inch|in|')\\.?\", r\"\\1in. \", s)\n",
    "        s = re.sub(r\"([0-9]+)( *)(foot|feet|ft|'')\\.?\", r\"\\1ft. \", s)\n",
    "        s = re.sub(r\"([0-9]+)( *)(pounds|pound|lbs|lb)\\.?\", r\"\\1lb. \", s)\n",
    "        s = re.sub(r\"([0-9]+)( *)(square|sq) ?\\.?(feet|foot|ft)\\.?\", r\"\\1sq.ft. \", s)\n",
    "        s = re.sub(r\"([0-9]+)( *)(cubic|cu) ?\\.?(feet|foot|ft)\\.?\", r\"\\1cu.ft. \", s)\n",
    "        s = re.sub(r\"([0-9]+)( *)(gallons|gallon|gal)\\.?\", r\"\\1gal. \", s)\n",
    "        s = re.sub(r\"([0-9]+)( *)(ounces|ounce|oz)\\.?\", r\"\\1oz. \", s)\n",
    "        s = re.sub(r\"([0-9]+)( *)(centimeters|cm)\\.?\", r\"\\1cm. \", s)\n",
    "        s = re.sub(r\"([0-9]+)( *)(milimeters|mm)\\.?\", r\"\\1mm. \", s)\n",
    "        s = re.sub(r\"([0-9]+)( *)(°|degrees|degree)\\.?\", r\"\\1 deg. \", s)\n",
    "        s = re.sub(r\"([0-9]+)( *)(v|volts|volt)\\.?\", r\"\\1 volt. \", s)\n",
    "        s = re.sub(r\"([0-9]+)( *)(wattage|watts|watt)\\.?\", r\"\\1 watt. \", s)\n",
    "        s = re.sub(r\"([0-9]+)( *)(amperes|ampere|amps|amp)\\.?\", r\"\\1 amp. \", s)\n",
    "        s = re.sub(r\"([0-9]+)( *)(qquart|quart)\\.?\", r\"\\1 qt. \", s)\n",
    "        s = re.sub(r\"([0-9]+)( *)(hours|hour|hrs.)\\.?\", r\"\\1 hr \", s)\n",
    "        s = re.sub(r\"([0-9]+)( *)(gallons per minute|gallon per minute|gal per minute|gallons/min.|gallons/min)\\.?\", r\"\\1 gal. per min. \", s)\n",
    "        s = re.sub(r\"([0-9]+)( *)(gallons per hour|gallon per hour|gal per hour|gallons/hour|gallons/hr)\\.?\", r\"\\1 gal. per hr \", s)\n",
    "        # Deal with special characters\n",
    "        s = s.replace(\"$\",\" \")\n",
    "        s = s.replace(\"?\",\" \")\n",
    "        s = s.replace(\"&nbsp;\",\" \")\n",
    "        s = s.replace(\"&amp;\",\"&\")\n",
    "        s = s.replace(\"&#39;\",\"'\")\n",
    "        s = s.replace(\"/>/Agt/>\",\"\")\n",
    "        s = s.replace(\"</a<gt/\",\"\")\n",
    "        s = s.replace(\"gt/>\",\"\")\n",
    "        s = s.replace(\"/>\",\"\")\n",
    "        s = s.replace(\"<br\",\"\")\n",
    "        s = s.replace(\"<.+?>\",\"\")\n",
    "        s = s.replace(\"[ &<>)(_,;:!?\\+^~@#\\$]+\",\" \")\n",
    "        s = s.replace(\"'s\\\\b\",\"\")\n",
    "        s = s.replace(\"[']+\",\"\")\n",
    "        s = s.replace(\"[\\\"]+\",\"\")\n",
    "        s = s.replace(\"-\",\" \")\n",
    "        s = s.replace(\"+\",\" \")\n",
    "        # Remove text between paranthesis/brackets)\n",
    "        s = s.replace(\"[ ]?[[(].+?[])]\",\"\")\n",
    "        # remove sizes\n",
    "        s = s.replace(\"size: .+$\",\"\")\n",
    "        s = s.replace(\"size [0-9]+[.]?[0-9]+\\\\b\",\"\")\n",
    "        \n",
    "        \n",
    "        return \" \".join([stemmer.stem(re.sub('[^A-Za-z0-9-./]', ' ', word)) for word in s.lower().split()])\n",
    "    else:\n",
    "        return \"null\""
   ]
  },
  {
   "cell_type": "code",
   "execution_count": 32,
   "metadata": {},
   "outputs": [],
   "source": [
    "train['product_title'] = train['product_title'].apply(str_stem)\n",
    "train['search_term'] = train['search_term'].apply(str_stem)"
   ]
  },
  {
   "source": [
    "## Remove stopwords and punctuation (already done in previous step)"
   ],
   "cell_type": "markdown",
   "metadata": {}
  },
  {
   "cell_type": "code",
   "execution_count": 33,
   "metadata": {},
   "outputs": [
    {
     "output_type": "stream",
     "name": "stderr",
     "text": [
      "[nltk_data] Downloading package stopwords to ./...\n[nltk_data]   Package stopwords is already up-to-date!\n"
     ]
    },
    {
     "output_type": "execute_result",
     "data": {
      "text/plain": [
       "True"
      ]
     },
     "metadata": {},
     "execution_count": 33
    }
   ],
   "source": [
    "import nltk\n",
    "nltk.download('stopwords', download_dir='./')"
   ]
  },
  {
   "cell_type": "code",
   "execution_count": 34,
   "metadata": {},
   "outputs": [],
   "source": [
    "from nltk.corpus import stopwords\n",
    "import nltk\n",
    "\n",
    "nltk.data.path.append(\"./\")\n",
    "stopwords = stopwords.words('english')\n",
    "import string\n",
    "\n",
    "def clean_puntuation_stopwords(text):\n",
    "  text = ''.join([word for word in text if word not in string.punctuation])\n",
    "  text = text.lower()\n",
    "  text = ' '.join([word for word in text.split() if word not in stopwords])\n",
    "  return text\n",
    "\n",
    "train['product_title'] = train['product_title'].apply(clean_puntuation_stopwords)\n",
    "train['search_term'] = train['search_term'].apply(clean_puntuation_stopwords)"
   ]
  },
  {
   "cell_type": "code",
   "execution_count": 35,
   "metadata": {},
   "outputs": [
    {
     "output_type": "execute_result",
     "data": {
      "text/plain": [
       "   id product_uid                                      product_title  \\\n",
       "0   2      100001                    simpson strong tie 12 gaug angl   \n",
       "1   3      100001                    simpson strong tie 12 gaug angl   \n",
       "2   9      100002  behr premium textur deckov 1gal sc 141 tugboat...   \n",
       "3  16      100005  delta vero 1 handl shower onli faucet trim kit...   \n",
       "4  17      100005  delta vero 1 handl shower onli faucet trim kit...   \n",
       "5  18      100006  whirlpool 19 cu ft rang convect microwav stain...   \n",
       "6  20      100006  whirlpool 19 cu ft rang convect microwav stain...   \n",
       "7  21      100006  whirlpool 19 cu ft rang convect microwav stain...   \n",
       "8  23      100007  lithonia light quantum 2 light black led emerg...   \n",
       "9  27      100009          hous fara 34in x 3in x 8ft mdf flute case   \n",
       "\n",
       "          search_term  relevance  \\\n",
       "0        angl bracket       3.00   \n",
       "1             bracket       2.50   \n",
       "2                deck       3.00   \n",
       "3    rain shower head       2.33   \n",
       "4  shower onli faucet       2.67   \n",
       "5             convect       3.00   \n",
       "6      microwav stove       2.67   \n",
       "7            microwav       3.00   \n",
       "8         emerg light       2.67   \n",
       "9                 mfd       3.00   \n",
       "\n",
       "                                 product_description  \\\n",
       "0  not only do angles make joints stronger , they...   \n",
       "1  not only do angles make joints stronger , they...   \n",
       "2  behr premium textured deckover is an innovativ...   \n",
       "3  update your bathroom with the delta vero singl...   \n",
       "4  update your bathroom with the delta vero singl...   \n",
       "5  achieving delicious results is almost effortle...   \n",
       "6  achieving delicious results is almost effortle...   \n",
       "7  achieving delicious results is almost effortle...   \n",
       "8  the quantum adjustable 2 light led black emerg...   \n",
       "9  get the house of fara 3/4 in. x 3 in. x 8 ft. ...   \n",
       "\n",
       "                   MFG Brand Name  \\\n",
       "0              simpson strong tie   \n",
       "1              simpson strong tie   \n",
       "2  behr premium textured deckover   \n",
       "3                           delta   \n",
       "4                           delta   \n",
       "5                       whirlpool   \n",
       "6                       whirlpool   \n",
       "7                       whirlpool   \n",
       "8               lithonia lighting   \n",
       "9                   house of fara   \n",
       "\n",
       "                                            Bullet02  \\\n",
       "0  stronger than angled nailing or screw fastenin...   \n",
       "1  stronger than angled nailing or screw fastenin...   \n",
       "2                    100 acrylic solid color coating   \n",
       "3                                includes the handle   \n",
       "4                                includes the handle   \n",
       "5  1100 watts of cooking power and 10 cooking lev...   \n",
       "6  1100 watts of cooking power and 10 cooking lev...   \n",
       "7  1100 watts of cooking power and 10 cooking lev...   \n",
       "8  2 adjustable heads allow you to direct light w...   \n",
       "9                 can be painted to match your decor   \n",
       "\n",
       "                                            Bullet03  \\\n",
       "0  help ensure joints are consistently straight a...   \n",
       "1  help ensure joints are consistently straight a...   \n",
       "2  resists cracking and peeling and conceals spli...   \n",
       "3  maintains a balanced pressure of hot and cold ...   \n",
       "4  maintains a balanced pressure of hot and cold ...   \n",
       "5  400 cfm venting system whisks smoke , steam an...   \n",
       "6  400 cfm venting system whisks smoke , steam an...   \n",
       "7  400 cfm venting system whisks smoke , steam an...   \n",
       "8  engineering grade thermoplastic housing is imp...   \n",
       "9                              resistant to moisture   \n",
       "\n",
       "                                            Bullet04  \\\n",
       "0               dimensions 3 in. x 3 in. x 1 1/2 in.   \n",
       "1               dimensions 3 in. x 3 in. x 1 1/2 in.   \n",
       "2       provides a durable , mildew resistant finish   \n",
       "3  due to watersense regulations in the state of ...   \n",
       "4  due to watersense regulations in the state of ...   \n",
       "5  single piece door with built in touch activate...   \n",
       "6  single piece door with built in touch activate...   \n",
       "7  single piece door with built in touch activate...   \n",
       "8        integrated leds means no bulbs are required   \n",
       "9                                   for interior use   \n",
       "\n",
       "                                            Bullet01 Product Width (in.)  \\\n",
       "0  versatile connector for various 90 connections...                   3   \n",
       "1  versatile connector for various 90 connections...                   3   \n",
       "2  revives wood and composite decks , railings , ...                       \n",
       "3  includes the trim kit only , the rough in kit ...                7.09   \n",
       "4  includes the trim kit only , the rough in kit ...                7.09   \n",
       "5  spacious 1.9 cu. ft. capacity accommodates din...               29.94   \n",
       "6  spacious 1.9 cu. ft. capacity accommodates din...               29.94   \n",
       "7  spacious 1.9 cu. ft. capacity accommodates din...               29.94   \n",
       "8  advanced led technology is dependable and ener...               10.25   \n",
       "9                                 made of primed mdf                   3   \n",
       "\n",
       "                                            Bullet05 Product Height (in.)  \\\n",
       "0                           made from 12 gauge steel                    3   \n",
       "1                           made from 12 gauge steel                    3   \n",
       "2      covers up to 75 sq. ft. in 2 coats per gallon                        \n",
       "3                                                                      24   \n",
       "4                                                                      24   \n",
       "5  cook with confidence with the sensor and progr...                17.13   \n",
       "6  cook with confidence with the sensor and progr...                17.13   \n",
       "7  cook with confidence with the sensor and progr...                17.13   \n",
       "8  typical life of the leds is 10 years of mainte...                 4.25   \n",
       "9                                      96 in. length                   96   \n",
       "\n",
       "  Product Depth (in.) Product Weight (lb.)  \\\n",
       "0                 1.5                 0.26   \n",
       "1                 1.5                 0.26   \n",
       "2                                            \n",
       "3               15.28                        \n",
       "4               15.28                        \n",
       "5                18.5                 67.1   \n",
       "6                18.5                 67.1   \n",
       "7                18.5                 67.1   \n",
       "8                2.75                  1.5   \n",
       "9                0.75                        \n",
       "\n",
       "                                            Bullet06   Color Family  \\\n",
       "0          galvanized for extra corrosion resistance                  \n",
       "1          galvanized for extra corrosion resistance                  \n",
       "2         creates a textured , slip resistant finish  browns / tans   \n",
       "3                                                            chrome   \n",
       "4                                                            chrome   \n",
       "5  kids' menu it 's simple , it 's fast. the kids...                  \n",
       "6  kids' menu it 's simple , it 's fast. the kids...                  \n",
       "7  kids' menu it 's simple , it 's fast. the kids...                  \n",
       "8     black housing has a compact low profile design                  \n",
       "9                                                             white   \n",
       "\n",
       "                                            Bullet07  \\\n",
       "0  install with 10d common nails or 9 x 1 1/2 in....   \n",
       "1  install with 10d common nails or 9 x 1 1/2 in....   \n",
       "2  for best results , prepare with the appropriat...   \n",
       "3                                                      \n",
       "4                                                      \n",
       "5  timesavor plus true convection cooking uses a ...   \n",
       "6  timesavor plus true convection cooking uses a ...   \n",
       "7  timesavor plus true convection cooking uses a ...   \n",
       "8  sealed , maintenance free ni cad battery deliv...   \n",
       "9                                                      \n",
       "\n",
       "                              Material     Color/Finish  \\\n",
       "0                     galvanized steel                    \n",
       "1                     galvanized steel                    \n",
       "2                                               tugboat   \n",
       "3                                                chrome   \n",
       "4                                                chrome   \n",
       "5                                       stainless steel   \n",
       "6                                       stainless steel   \n",
       "7                                       stainless steel   \n",
       "8                              plastic                    \n",
       "9  medium density fiberboard \\( mdf \\)                    \n",
       "\n",
       "                                            Bullet08  \\\n",
       "0                                                      \n",
       "1                                                      \n",
       "2  actual paint colors may vary from on screen an...   \n",
       "3                                                      \n",
       "4                                                      \n",
       "5  industry leading cleanrelease non stick interi...   \n",
       "6  industry leading cleanrelease non stick interi...   \n",
       "7  industry leading cleanrelease non stick interi...   \n",
       "8  dual voltage input capability \\( 120 to 277 vo...   \n",
       "9                                                      \n",
       "\n",
       "                       Certifications and Listings  \\\n",
       "0                                                    \n",
       "1                                                    \n",
       "2                                                    \n",
       "3  ada compliant , csa certified , iapmo certified   \n",
       "4  ada compliant , csa certified , iapmo certified   \n",
       "5                                      1 ul listed   \n",
       "6                                      1 ul listed   \n",
       "7                                      1 ul listed   \n",
       "8                     1 ul listed , osha compliant   \n",
       "9                                                    \n",
       "\n",
       "                                            Bullet09 Assembled Height (in.)  \\\n",
       "0                                                                             \n",
       "1                                                                             \n",
       "2                                                                   7.76 in   \n",
       "3                                                                             \n",
       "4                                                                             \n",
       "5  recessed turntable 's on/off feature is especi...               17.13 in   \n",
       "6  recessed turntable 's on/off feature is especi...               17.13 in   \n",
       "7  recessed turntable 's on/off feature is especi...               17.13 in   \n",
       "8                 easily installs to wall or ceiling                          \n",
       "9                                                                             \n",
       "\n",
       "  Assembled Width (in.) Assembled Depth (in.) Product Length (in.)  \\\n",
       "0                                                                    \n",
       "1                                                                    \n",
       "2               6.63 in               6.63 in                        \n",
       "3                                                                    \n",
       "4                                                                    \n",
       "5              29.94 in               18.5 in                        \n",
       "6              29.94 in               18.5 in                        \n",
       "7              29.94 in               18.5 in                        \n",
       "8                                                                    \n",
       "9                                                               96   \n",
       "\n",
       "                                            Bullet10 Indoor/Outdoor  \\\n",
       "0                                                                     \n",
       "1                                                                     \n",
       "2       colors available to be tinted in most stores                  \n",
       "3                                                                     \n",
       "4                                                                     \n",
       "5  automatic interior incandescent light and larg...                  \n",
       "6  automatic interior incandescent light and larg...                  \n",
       "7  automatic interior incandescent light and larg...                  \n",
       "8                            ul damp location listed                  \n",
       "9                                                                     \n",
       "\n",
       "                                            Bullet11  \n",
       "0                                                     \n",
       "1                                                     \n",
       "2                                                     \n",
       "3                                                     \n",
       "4                                                     \n",
       "5  4 speed fan with auto vent fan function. to ke...  \n",
       "6  4 speed fan with auto vent fan function. to ke...  \n",
       "7  4 speed fan with auto vent fan function. to ke...  \n",
       "8                                                     \n",
       "9                                                     "
      ],
      "text/html": "<div>\n<style scoped>\n    .dataframe tbody tr th:only-of-type {\n        vertical-align: middle;\n    }\n\n    .dataframe tbody tr th {\n        vertical-align: top;\n    }\n\n    .dataframe thead th {\n        text-align: right;\n    }\n</style>\n<table border=\"1\" class=\"dataframe\">\n  <thead>\n    <tr style=\"text-align: right;\">\n      <th></th>\n      <th>id</th>\n      <th>product_uid</th>\n      <th>product_title</th>\n      <th>search_term</th>\n      <th>relevance</th>\n      <th>product_description</th>\n      <th>MFG Brand Name</th>\n      <th>Bullet02</th>\n      <th>Bullet03</th>\n      <th>Bullet04</th>\n      <th>Bullet01</th>\n      <th>Product Width (in.)</th>\n      <th>Bullet05</th>\n      <th>Product Height (in.)</th>\n      <th>Product Depth (in.)</th>\n      <th>Product Weight (lb.)</th>\n      <th>Bullet06</th>\n      <th>Color Family</th>\n      <th>Bullet07</th>\n      <th>Material</th>\n      <th>Color/Finish</th>\n      <th>Bullet08</th>\n      <th>Certifications and Listings</th>\n      <th>Bullet09</th>\n      <th>Assembled Height (in.)</th>\n      <th>Assembled Width (in.)</th>\n      <th>Assembled Depth (in.)</th>\n      <th>Product Length (in.)</th>\n      <th>Bullet10</th>\n      <th>Indoor/Outdoor</th>\n      <th>Bullet11</th>\n    </tr>\n  </thead>\n  <tbody>\n    <tr>\n      <th>0</th>\n      <td>2</td>\n      <td>100001</td>\n      <td>simpson strong tie 12 gaug angl</td>\n      <td>angl bracket</td>\n      <td>3.00</td>\n      <td>not only do angles make joints stronger , they...</td>\n      <td>simpson strong tie</td>\n      <td>stronger than angled nailing or screw fastenin...</td>\n      <td>help ensure joints are consistently straight a...</td>\n      <td>dimensions 3 in. x 3 in. x 1 1/2 in.</td>\n      <td>versatile connector for various 90 connections...</td>\n      <td>3</td>\n      <td>made from 12 gauge steel</td>\n      <td>3</td>\n      <td>1.5</td>\n      <td>0.26</td>\n      <td>galvanized for extra corrosion resistance</td>\n      <td></td>\n      <td>install with 10d common nails or 9 x 1 1/2 in....</td>\n      <td>galvanized steel</td>\n      <td></td>\n      <td></td>\n      <td></td>\n      <td></td>\n      <td></td>\n      <td></td>\n      <td></td>\n      <td></td>\n      <td></td>\n      <td></td>\n      <td></td>\n    </tr>\n    <tr>\n      <th>1</th>\n      <td>3</td>\n      <td>100001</td>\n      <td>simpson strong tie 12 gaug angl</td>\n      <td>bracket</td>\n      <td>2.50</td>\n      <td>not only do angles make joints stronger , they...</td>\n      <td>simpson strong tie</td>\n      <td>stronger than angled nailing or screw fastenin...</td>\n      <td>help ensure joints are consistently straight a...</td>\n      <td>dimensions 3 in. x 3 in. x 1 1/2 in.</td>\n      <td>versatile connector for various 90 connections...</td>\n      <td>3</td>\n      <td>made from 12 gauge steel</td>\n      <td>3</td>\n      <td>1.5</td>\n      <td>0.26</td>\n      <td>galvanized for extra corrosion resistance</td>\n      <td></td>\n      <td>install with 10d common nails or 9 x 1 1/2 in....</td>\n      <td>galvanized steel</td>\n      <td></td>\n      <td></td>\n      <td></td>\n      <td></td>\n      <td></td>\n      <td></td>\n      <td></td>\n      <td></td>\n      <td></td>\n      <td></td>\n      <td></td>\n    </tr>\n    <tr>\n      <th>2</th>\n      <td>9</td>\n      <td>100002</td>\n      <td>behr premium textur deckov 1gal sc 141 tugboat...</td>\n      <td>deck</td>\n      <td>3.00</td>\n      <td>behr premium textured deckover is an innovativ...</td>\n      <td>behr premium textured deckover</td>\n      <td>100 acrylic solid color coating</td>\n      <td>resists cracking and peeling and conceals spli...</td>\n      <td>provides a durable , mildew resistant finish</td>\n      <td>revives wood and composite decks , railings , ...</td>\n      <td></td>\n      <td>covers up to 75 sq. ft. in 2 coats per gallon</td>\n      <td></td>\n      <td></td>\n      <td></td>\n      <td>creates a textured , slip resistant finish</td>\n      <td>browns / tans</td>\n      <td>for best results , prepare with the appropriat...</td>\n      <td></td>\n      <td>tugboat</td>\n      <td>actual paint colors may vary from on screen an...</td>\n      <td></td>\n      <td></td>\n      <td>7.76 in</td>\n      <td>6.63 in</td>\n      <td>6.63 in</td>\n      <td></td>\n      <td>colors available to be tinted in most stores</td>\n      <td></td>\n      <td></td>\n    </tr>\n    <tr>\n      <th>3</th>\n      <td>16</td>\n      <td>100005</td>\n      <td>delta vero 1 handl shower onli faucet trim kit...</td>\n      <td>rain shower head</td>\n      <td>2.33</td>\n      <td>update your bathroom with the delta vero singl...</td>\n      <td>delta</td>\n      <td>includes the handle</td>\n      <td>maintains a balanced pressure of hot and cold ...</td>\n      <td>due to watersense regulations in the state of ...</td>\n      <td>includes the trim kit only , the rough in kit ...</td>\n      <td>7.09</td>\n      <td></td>\n      <td>24</td>\n      <td>15.28</td>\n      <td></td>\n      <td></td>\n      <td>chrome</td>\n      <td></td>\n      <td></td>\n      <td>chrome</td>\n      <td></td>\n      <td>ada compliant , csa certified , iapmo certified</td>\n      <td></td>\n      <td></td>\n      <td></td>\n      <td></td>\n      <td></td>\n      <td></td>\n      <td></td>\n      <td></td>\n    </tr>\n    <tr>\n      <th>4</th>\n      <td>17</td>\n      <td>100005</td>\n      <td>delta vero 1 handl shower onli faucet trim kit...</td>\n      <td>shower onli faucet</td>\n      <td>2.67</td>\n      <td>update your bathroom with the delta vero singl...</td>\n      <td>delta</td>\n      <td>includes the handle</td>\n      <td>maintains a balanced pressure of hot and cold ...</td>\n      <td>due to watersense regulations in the state of ...</td>\n      <td>includes the trim kit only , the rough in kit ...</td>\n      <td>7.09</td>\n      <td></td>\n      <td>24</td>\n      <td>15.28</td>\n      <td></td>\n      <td></td>\n      <td>chrome</td>\n      <td></td>\n      <td></td>\n      <td>chrome</td>\n      <td></td>\n      <td>ada compliant , csa certified , iapmo certified</td>\n      <td></td>\n      <td></td>\n      <td></td>\n      <td></td>\n      <td></td>\n      <td></td>\n      <td></td>\n      <td></td>\n    </tr>\n    <tr>\n      <th>5</th>\n      <td>18</td>\n      <td>100006</td>\n      <td>whirlpool 19 cu ft rang convect microwav stain...</td>\n      <td>convect</td>\n      <td>3.00</td>\n      <td>achieving delicious results is almost effortle...</td>\n      <td>whirlpool</td>\n      <td>1100 watts of cooking power and 10 cooking lev...</td>\n      <td>400 cfm venting system whisks smoke , steam an...</td>\n      <td>single piece door with built in touch activate...</td>\n      <td>spacious 1.9 cu. ft. capacity accommodates din...</td>\n      <td>29.94</td>\n      <td>cook with confidence with the sensor and progr...</td>\n      <td>17.13</td>\n      <td>18.5</td>\n      <td>67.1</td>\n      <td>kids' menu it 's simple , it 's fast. the kids...</td>\n      <td></td>\n      <td>timesavor plus true convection cooking uses a ...</td>\n      <td></td>\n      <td>stainless steel</td>\n      <td>industry leading cleanrelease non stick interi...</td>\n      <td>1 ul listed</td>\n      <td>recessed turntable 's on/off feature is especi...</td>\n      <td>17.13 in</td>\n      <td>29.94 in</td>\n      <td>18.5 in</td>\n      <td></td>\n      <td>automatic interior incandescent light and larg...</td>\n      <td></td>\n      <td>4 speed fan with auto vent fan function. to ke...</td>\n    </tr>\n    <tr>\n      <th>6</th>\n      <td>20</td>\n      <td>100006</td>\n      <td>whirlpool 19 cu ft rang convect microwav stain...</td>\n      <td>microwav stove</td>\n      <td>2.67</td>\n      <td>achieving delicious results is almost effortle...</td>\n      <td>whirlpool</td>\n      <td>1100 watts of cooking power and 10 cooking lev...</td>\n      <td>400 cfm venting system whisks smoke , steam an...</td>\n      <td>single piece door with built in touch activate...</td>\n      <td>spacious 1.9 cu. ft. capacity accommodates din...</td>\n      <td>29.94</td>\n      <td>cook with confidence with the sensor and progr...</td>\n      <td>17.13</td>\n      <td>18.5</td>\n      <td>67.1</td>\n      <td>kids' menu it 's simple , it 's fast. the kids...</td>\n      <td></td>\n      <td>timesavor plus true convection cooking uses a ...</td>\n      <td></td>\n      <td>stainless steel</td>\n      <td>industry leading cleanrelease non stick interi...</td>\n      <td>1 ul listed</td>\n      <td>recessed turntable 's on/off feature is especi...</td>\n      <td>17.13 in</td>\n      <td>29.94 in</td>\n      <td>18.5 in</td>\n      <td></td>\n      <td>automatic interior incandescent light and larg...</td>\n      <td></td>\n      <td>4 speed fan with auto vent fan function. to ke...</td>\n    </tr>\n    <tr>\n      <th>7</th>\n      <td>21</td>\n      <td>100006</td>\n      <td>whirlpool 19 cu ft rang convect microwav stain...</td>\n      <td>microwav</td>\n      <td>3.00</td>\n      <td>achieving delicious results is almost effortle...</td>\n      <td>whirlpool</td>\n      <td>1100 watts of cooking power and 10 cooking lev...</td>\n      <td>400 cfm venting system whisks smoke , steam an...</td>\n      <td>single piece door with built in touch activate...</td>\n      <td>spacious 1.9 cu. ft. capacity accommodates din...</td>\n      <td>29.94</td>\n      <td>cook with confidence with the sensor and progr...</td>\n      <td>17.13</td>\n      <td>18.5</td>\n      <td>67.1</td>\n      <td>kids' menu it 's simple , it 's fast. the kids...</td>\n      <td></td>\n      <td>timesavor plus true convection cooking uses a ...</td>\n      <td></td>\n      <td>stainless steel</td>\n      <td>industry leading cleanrelease non stick interi...</td>\n      <td>1 ul listed</td>\n      <td>recessed turntable 's on/off feature is especi...</td>\n      <td>17.13 in</td>\n      <td>29.94 in</td>\n      <td>18.5 in</td>\n      <td></td>\n      <td>automatic interior incandescent light and larg...</td>\n      <td></td>\n      <td>4 speed fan with auto vent fan function. to ke...</td>\n    </tr>\n    <tr>\n      <th>8</th>\n      <td>23</td>\n      <td>100007</td>\n      <td>lithonia light quantum 2 light black led emerg...</td>\n      <td>emerg light</td>\n      <td>2.67</td>\n      <td>the quantum adjustable 2 light led black emerg...</td>\n      <td>lithonia lighting</td>\n      <td>2 adjustable heads allow you to direct light w...</td>\n      <td>engineering grade thermoplastic housing is imp...</td>\n      <td>integrated leds means no bulbs are required</td>\n      <td>advanced led technology is dependable and ener...</td>\n      <td>10.25</td>\n      <td>typical life of the leds is 10 years of mainte...</td>\n      <td>4.25</td>\n      <td>2.75</td>\n      <td>1.5</td>\n      <td>black housing has a compact low profile design</td>\n      <td></td>\n      <td>sealed , maintenance free ni cad battery deliv...</td>\n      <td>plastic</td>\n      <td></td>\n      <td>dual voltage input capability \\( 120 to 277 vo...</td>\n      <td>1 ul listed , osha compliant</td>\n      <td>easily installs to wall or ceiling</td>\n      <td></td>\n      <td></td>\n      <td></td>\n      <td></td>\n      <td>ul damp location listed</td>\n      <td></td>\n      <td></td>\n    </tr>\n    <tr>\n      <th>9</th>\n      <td>27</td>\n      <td>100009</td>\n      <td>hous fara 34in x 3in x 8ft mdf flute case</td>\n      <td>mfd</td>\n      <td>3.00</td>\n      <td>get the house of fara 3/4 in. x 3 in. x 8 ft. ...</td>\n      <td>house of fara</td>\n      <td>can be painted to match your decor</td>\n      <td>resistant to moisture</td>\n      <td>for interior use</td>\n      <td>made of primed mdf</td>\n      <td>3</td>\n      <td>96 in. length</td>\n      <td>96</td>\n      <td>0.75</td>\n      <td></td>\n      <td></td>\n      <td>white</td>\n      <td></td>\n      <td>medium density fiberboard \\( mdf \\)</td>\n      <td></td>\n      <td></td>\n      <td></td>\n      <td></td>\n      <td></td>\n      <td></td>\n      <td></td>\n      <td>96</td>\n      <td></td>\n      <td></td>\n      <td></td>\n    </tr>\n  </tbody>\n</table>\n</div>"
     },
     "metadata": {},
     "execution_count": 35
    }
   ],
   "source": [
    "train.to_csv('train.csv',index=False)\n",
    "train.head(10)"
   ]
  },
  {
   "source": [
    "## Adding new features"
   ],
   "cell_type": "markdown",
   "metadata": {}
  },
  {
   "source": [
    "### Cosine distance between two sentences using CountVectorizer -> BagOfWords (BOW)"
   ],
   "cell_type": "markdown",
   "metadata": {}
  },
  {
   "source": [
    "import string\n",
    "from sklearn.metrics.pairwise import cosine_similarity\n",
    "from sklearn.feature_extraction.text import CountVectorizer\n",
    "\n",
    "def cosine_similarity_between_sentences(sen1,sen2):\n",
    "    \n",
    "    def cosine_sim_vectors(vec1, vec2):\n",
    "      vec1 = vec1.reshape(1, -1)\n",
    "      vec2 = vec2.reshape(1, -1)\n",
    "      # Cosine distance between two TF-IDF vectors\n",
    "      return cosine_similarity(vec1,vec2)[0][0]\n",
    "\n",
    "    vectorizer = CountVectorizer().fit_transform([sen1,sen2])\n",
    "    vectors = vectorizer.toarray()\n",
    "\n",
    "    return cosine_sim_vectors(vectors[0], vectors[1])"
   ],
   "cell_type": "markdown",
   "metadata": {}
  }
 ]
}