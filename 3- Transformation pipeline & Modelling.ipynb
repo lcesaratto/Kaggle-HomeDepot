{
 "metadata": {
  "language_info": {
   "codemirror_mode": {
    "name": "ipython",
    "version": 3
   },
   "file_extension": ".py",
   "mimetype": "text/x-python",
   "name": "python",
   "nbconvert_exporter": "python",
   "pygments_lexer": "ipython3",
   "version": "3.7.9-final"
  },
  "orig_nbformat": 2,
  "kernelspec": {
   "name": "python3",
   "display_name": "Python 3",
   "language": "python"
  }
 },
 "nbformat": 4,
 "nbformat_minor": 2,
 "cells": [
  {
   "source": [
    "# Load cleaned data"
   ],
   "cell_type": "markdown",
   "metadata": {}
  },
  {
   "cell_type": "code",
   "execution_count": 1,
   "metadata": {},
   "outputs": [
    {
     "output_type": "display_data",
     "data": {
      "text/plain": "   id  product_uid                    product_title   search_term  \\\n0   2       100001  simpson strong tie 12 gaug angl  angl bracket   \n1   3       100001  simpson strong tie 12 gaug angl       bracket   \n\n                                 product_description      MFG Brand Name  \\\n0  not only do angles make joints stronger , they...  simpson strong tie   \n1  not only do angles make joints stronger , they...  simpson strong tie   \n\n                                            Bullet02  \\\n0  stronger than angled nailing or screw fastenin...   \n1  stronger than angled nailing or screw fastenin...   \n\n                                            Bullet03  \\\n0  help ensure joints are consistently straight a...   \n1  help ensure joints are consistently straight a...   \n\n                               Bullet04  \\\n0  dimensions 3 in. x 3 in. x 1 1/2 in.   \n1  dimensions 3 in. x 3 in. x 1 1/2 in.   \n\n                                            Bullet01  ...  \\\n0  versatile connector for various 90 connections...  ...   \n1  versatile connector for various 90 connections...  ...   \n\n  Certifications and Listings Bullet09 Assembled Height (in.)  \\\n0                                                               \n1                                                               \n\n  Assembled Width (in.) Assembled Depth (in.) Product Length (in.) Bullet10  \\\n0                                                                             \n1                                                                             \n\n  Indoor/Outdoor Bullet11 relevance  \n0                               3.0  \n1                               2.5  \n\n[2 rows x 31 columns]",
      "text/html": "<div>\n<style scoped>\n    .dataframe tbody tr th:only-of-type {\n        vertical-align: middle;\n    }\n\n    .dataframe tbody tr th {\n        vertical-align: top;\n    }\n\n    .dataframe thead th {\n        text-align: right;\n    }\n</style>\n<table border=\"1\" class=\"dataframe\">\n  <thead>\n    <tr style=\"text-align: right;\">\n      <th></th>\n      <th>id</th>\n      <th>product_uid</th>\n      <th>product_title</th>\n      <th>search_term</th>\n      <th>product_description</th>\n      <th>MFG Brand Name</th>\n      <th>Bullet02</th>\n      <th>Bullet03</th>\n      <th>Bullet04</th>\n      <th>Bullet01</th>\n      <th>...</th>\n      <th>Certifications and Listings</th>\n      <th>Bullet09</th>\n      <th>Assembled Height (in.)</th>\n      <th>Assembled Width (in.)</th>\n      <th>Assembled Depth (in.)</th>\n      <th>Product Length (in.)</th>\n      <th>Bullet10</th>\n      <th>Indoor/Outdoor</th>\n      <th>Bullet11</th>\n      <th>relevance</th>\n    </tr>\n  </thead>\n  <tbody>\n    <tr>\n      <th>0</th>\n      <td>2</td>\n      <td>100001</td>\n      <td>simpson strong tie 12 gaug angl</td>\n      <td>angl bracket</td>\n      <td>not only do angles make joints stronger , they...</td>\n      <td>simpson strong tie</td>\n      <td>stronger than angled nailing or screw fastenin...</td>\n      <td>help ensure joints are consistently straight a...</td>\n      <td>dimensions 3 in. x 3 in. x 1 1/2 in.</td>\n      <td>versatile connector for various 90 connections...</td>\n      <td>...</td>\n      <td></td>\n      <td></td>\n      <td></td>\n      <td></td>\n      <td></td>\n      <td></td>\n      <td></td>\n      <td></td>\n      <td></td>\n      <td>3.0</td>\n    </tr>\n    <tr>\n      <th>1</th>\n      <td>3</td>\n      <td>100001</td>\n      <td>simpson strong tie 12 gaug angl</td>\n      <td>bracket</td>\n      <td>not only do angles make joints stronger , they...</td>\n      <td>simpson strong tie</td>\n      <td>stronger than angled nailing or screw fastenin...</td>\n      <td>help ensure joints are consistently straight a...</td>\n      <td>dimensions 3 in. x 3 in. x 1 1/2 in.</td>\n      <td>versatile connector for various 90 connections...</td>\n      <td>...</td>\n      <td></td>\n      <td></td>\n      <td></td>\n      <td></td>\n      <td></td>\n      <td></td>\n      <td></td>\n      <td></td>\n      <td></td>\n      <td>2.5</td>\n    </tr>\n  </tbody>\n</table>\n<p>2 rows × 31 columns</p>\n</div>"
     },
     "metadata": {}
    }
   ],
   "source": [
    "import pandas as pd\n",
    "\n",
    "train = pd.read_csv('train_cleaned.csv')\n",
    "train.fillna('',inplace=True)\n",
    "display(train.head(2))\n",
    "X_train, y_train = train.loc[:, train.columns != 'relevance'], train['relevance']"
   ]
  },
  {
   "source": [
    "# Transformation pipeline: Creating training features"
   ],
   "cell_type": "markdown",
   "metadata": {}
  },
  {
   "cell_type": "code",
   "execution_count": 18,
   "metadata": {},
   "outputs": [],
   "source": [
    "from sklearn.pipeline import Pipeline\n",
    "from sklearn.base import BaseEstimator, TransformerMixin\n",
    "from sklearn.feature_extraction.text import TfidfVectorizer\n",
    "import numpy as np\n",
    "\n",
    "class LenghtOfQuery(BaseEstimator, TransformerMixin):\n",
    "    def fit(self, X, y=None):\n",
    "        return self\n",
    "    def transform(self, X, y=None):\n",
    "        X['len_of_query'] = X['search_term'].apply(lambda x:len(x.split())).astype(np.int64)\n",
    "        return X\n",
    "\n",
    "class LenghtCommonWords(BaseEstimator, TransformerMixin):\n",
    "    def str_common_word(self, str1, str2):\n",
    "        str1, str2 = str1.lower(), str2.lower()\n",
    "        words, cnt = str1.split(), 0\n",
    "        for word in words:\n",
    "            if str2.find(word)>=0:\n",
    "                cnt+=1\n",
    "        return cnt\n",
    "    def fit(self, X, y=None):\n",
    "        return self\n",
    "    def transform(self, X, y=None):\n",
    "        X['word_in_title'] = X.apply(lambda x:self.str_common_word(x['search_term'],x['product_title']), axis=1)\n",
    "        X['word_in_description'] = X.apply(lambda x:self.str_common_word(x['search_term'],x['product_description']), axis=1)\n",
    "        return X\n",
    "\n",
    "class TfIdfBasedFeatures(BaseEstimator, TransformerMixin):\n",
    "    def fit(self, X, y=None):\n",
    "        self.tf_transformer = TfidfVectorizer().fit(X)\n",
    "        return self\n",
    "    def transform(self, X, y=None):\n",
    "        # X['search_term_tfidf'] = self.tf_transformer.transform(X['search_term'])\n",
    "        return X\n",
    "\n",
    "class SelectFeatures(BaseEstimator, TransformerMixin):\n",
    "    def __init__(self, features_list):\n",
    "        self.features_list = features_list\n",
    "    def fit(self, X, y=None):\n",
    "        return self\n",
    "    def transform(self, X, y=None):\n",
    "        X = X[self.features_list]\n",
    "        return X\n",
    "\n",
    "\n",
    "prep_pipeline = Pipeline([\n",
    "    (\"lenght_query\", LenghtOfQuery()),\n",
    "    (\"lenght_common_words\", LenghtCommonWords()),\n",
    "    ('tf-idf_features', TfIdfBasedFeatures()),\n",
    "    (\"select_features\", SelectFeatures(features_list=[\"len_of_query\",\"word_in_title\",\"word_in_description\"]))\n",
    "])\n",
    "\n",
    "# X_train_prep = prep_pipeline.fit_transform(X_train,y_train)\n",
    "# X_train_prep"
   ]
  },
  {
   "source": [
    "### Cosine distance between two sentences using CountVectorizer -> BagOfWords (BOW)"
   ],
   "cell_type": "markdown",
   "metadata": {}
  },
  {
   "cell_type": "code",
   "execution_count": null,
   "metadata": {},
   "outputs": [],
   "source": [
    "# import string\n",
    "# from sklearn.metrics.pairwise import cosine_similarity\n",
    "# from sklearn.feature_extraction.text import CountVectorizer\n",
    "\n",
    "# def cosine_similarity_between_sentences(sen1,sen2):\n",
    "    \n",
    "#     def cosine_sim_vectors(vec1, vec2):\n",
    "#       vec1 = vec1.reshape(1, -1)\n",
    "#       vec2 = vec2.reshape(1, -1)\n",
    "#       # Cosine distance between two TF-IDF vectors\n",
    "#       return cosine_similarity(vec1,vec2)[0][0]\n",
    "\n",
    "#     vectorizer = CountVectorizer().fit_transform([sen1,sen2])\n",
    "#     vectors = vectorizer.toarray()\n",
    "\n",
    "#     return cosine_sim_vectors(vectors[0], vectors[1])"
   ]
  },
  {
   "source": [
    "# Model building and Hyperparameter tunning w/ Grid Search"
   ],
   "cell_type": "markdown",
   "metadata": {}
  },
  {
   "cell_type": "code",
   "execution_count": 4,
   "metadata": {},
   "outputs": [
    {
     "output_type": "stream",
     "name": "stdout",
     "text": [
      "Fitting 3 folds for each of 4 candidates, totalling 12 fits\n",
      "[Parallel(n_jobs=-1)]: Using backend ThreadingBackend with 12 concurrent workers.\n",
      "[Parallel(n_jobs=-1)]: Done  25 out of  25 | elapsed:    0.0s finished\n",
      "Pipeline(steps=[('estimator',\n",
      "                 RandomForestRegressor(max_depth=6, n_estimators=25, n_jobs=-1,\n",
      "                                       random_state=42, verbose=1))])\n",
      "-0.5071780166367612\n"
     ]
    }
   ],
   "source": [
    "from sklearn.pipeline import Pipeline\n",
    "from sklearn.ensemble import RandomForestRegressor\n",
    "from sklearn.model_selection import GridSearchCV\n",
    "from sklearn.metrics import make_scorer, mean_squared_error\n",
    "import os\n",
    "import numpy as np\n",
    "import pickle\n",
    "\n",
    "def my_custom_loss_func(y_true,y_pred):\n",
    "    mse = mean_squared_error(y_true, y_pred)\n",
    "    rmse = np.sqrt(mse)\n",
    "    print(rmse)\n",
    "    return rmse\n",
    "\n",
    "RMSE = make_scorer(my_custom_loss_func, greater_is_better=False)\n",
    "\n",
    "def execute_pipeline(features,labels, search_space=[\n",
    "                    {\"estimator\": [RandomForestRegressor(random_state=42, verbose=1, n_jobs=-1)],\n",
    "                    \"estimator__n_estimators\": [10, 25],\n",
    "                    \"estimator__max_depth\": [2, 6]\n",
    "                    }], \n",
    "                    cv=3,\n",
    "                    verbose=1,\n",
    "                    n_jobs=os.cpu_count() - 2,\n",
    "                    scoring=RMSE):\n",
    "    \n",
    "    pipe = Pipeline([(\"estimator\", RandomForestRegressor())])\n",
    "    \n",
    "    gridsearch = GridSearchCV(pipe, search_space, scoring=scoring, cv=cv, verbose=verbose,n_jobs=n_jobs)\n",
    "    best_model = gridsearch.fit(features, labels)\n",
    "    print(best_model.best_estimator_)\n",
    "    print(best_model.best_score_)\n",
    "    return best_model\n",
    "\n",
    "best_estimator = execute_pipeline(X_train_prep,y_train)\n",
    "\n",
    "pickle.dump(best_estimator,open( \"best_estimator.pkl\", \"wb\" ))"
   ]
  },
  {
   "source": [
    "df_result = pd.DataFrame({'Relevance': y_test, 'Prediction':predicted})\n",
    "mask = df_result.Relevance < 2\n",
    "print (\"MSE for relevance<2:\", mean_squared_error(df_result[mask]['Relevance'], df_result[mask]['Prediction']))"
   ],
   "cell_type": "markdown",
   "metadata": {}
  },
  {
   "source": [
    "# Generate predictions on test set"
   ],
   "cell_type": "markdown",
   "metadata": {}
  },
  {
   "cell_type": "code",
   "execution_count": 5,
   "metadata": {},
   "outputs": [],
   "source": [
    "import pickle\n",
    "from sklearn.pipeline import Pipeline\n",
    "from sklearn.ensemble import RandomForestRegressor\n",
    "from sklearn.model_selection import GridSearchCV\n",
    "from sklearn.metrics import make_scorer, mean_squared_error\n",
    "import numpy as np\n",
    "\n",
    "def my_custom_loss_func(y_true,y_pred):\n",
    "    mse = mean_squared_error(y_true, y_pred)\n",
    "    rmse = np.sqrt(mse)\n",
    "    print(rmse)\n",
    "    return rmse\n",
    "\n",
    "RMSE = make_scorer(my_custom_loss_func, greater_is_better=False)\n",
    "\n",
    "best_estimator = pickle.load(open( \"best_estimator.pkl\", \"rb\" ))"
   ]
  },
  {
   "cell_type": "code",
   "execution_count": 19,
   "metadata": {},
   "outputs": [
    {
     "output_type": "stream",
     "name": "stderr",
     "text": [
      "[Parallel(n_jobs=12)]: Using backend ThreadingBackend with 12 concurrent workers.\n[Parallel(n_jobs=12)]: Done  25 out of  25 | elapsed:    0.0s finished\n"
     ]
    },
    {
     "output_type": "display_data",
     "data": {
      "text/plain": "            id  product_uid  \\\n0            1       100001   \n1            4       100001   \n2            5       100001   \n3            6       100001   \n4            7       100001   \n...        ...          ...   \n166688  240756       224424   \n166689  240757       224425   \n166690  240758       224426   \n166691  240759       224427   \n166692  240760       224428   \n\n                                            product_title  \\\n0                         simpson strong tie 12 gaug angl   \n1                         simpson strong tie 12 gaug angl   \n2                         simpson strong tie 12 gaug angl   \n3                         simpson strong tie 12 gaug angl   \n4                         simpson strong tie 12 gaug angl   \n...                                                   ...   \n166688  stufurhom norma 24in w x 16in x 34in h linen s...   \n166689  home decor collect 49in alessandro spiceberri ...   \n166690  simpson strong tie hb 3 12 x 14in top flang jo...   \n166691  14in 20 tpi x 1 12in stainless steel button he...   \n166692                        bosch 4in bi metal hole saw   \n\n                   search_term  \\\n0                degre bracket   \n1                metal bracket   \n2              simpson ski abl   \n3           simpson strong tie   \n4       simpson strong tie acc   \n...                        ...   \n166688    white storag cabinet   \n166689       adirondack fusion   \n166690                           \n166691              hex socket   \n166692           inch hole saw   \n\n                                      product_description  \\\n0       not only do angles make joints stronger , they...   \n1       not only do angles make joints stronger , they...   \n2       not only do angles make joints stronger , they...   \n3       not only do angles make joints stronger , they...   \n4       not only do angles make joints stronger , they...   \n...                                                   ...   \n166688  create a neat yet stylish storage space for or...   \n166689  our bullnose adirondack chair cushions fit adi...   \n166690  joist hangers are designed to provide support ...   \n166691  these socket cap screws are ideal for applicat...   \n166692  the bosch quick change bi metal hole saws feat...   \n\n                    MFG Brand Name  \\\n0               simpson strong tie   \n1               simpson strong tie   \n2               simpson strong tie   \n3               simpson strong tie   \n4               simpson strong tie   \n...                            ...   \n166688                  stufurhome   \n166689  home decorators collection   \n166690                               \n166691                               \n166692                       bosch   \n\n                                                 Bullet02  \\\n0       stronger than angled nailing or screw fastenin...   \n1       stronger than angled nailing or screw fastenin...   \n2       stronger than angled nailing or screw fastenin...   \n3       stronger than angled nailing or screw fastenin...   \n4       stronger than angled nailing or screw fastenin...   \n...                                                   ...   \n166688                  dtc soft closing door and drawers   \n166689      filled with mildew resistant polyester fibers   \n166690                                                      \n166691                                                      \n166692         reinforced shoulder for increased strength   \n\n                                                 Bullet03  \\\n0       help ensure joints are consistently straight a...   \n1       help ensure joints are consistently straight a...   \n2       help ensure joints are consistently straight a...   \n3       help ensure joints are consistently straight a...   \n4       help ensure joints are consistently straight a...   \n...                                                   ...   \n166688                            brushed nickel hardware   \n166689       available in a variety of designs and colors   \n166690                                                      \n166691                                                      \n166692          8 cobalt alloy has higher heat resistance   \n\n                                            Bullet04  \\\n0               dimensions 3 in. x 3 in. x 1 1/2 in.   \n1               dimensions 3 in. x 3 in. x 1 1/2 in.   \n2               dimensions 3 in. x 3 in. x 1 1/2 in.   \n3               dimensions 3 in. x 3 in. x 1 1/2 in.   \n4               dimensions 3 in. x 3 in. x 1 1/2 in.   \n...                                              ...   \n166688                          2 functional drawers   \n166689               2 in. h x 20.5 in. w x 49 in. d   \n166690                                                 \n166691                                                 \n166692  10 degree cutting angle for high performance   \n\n                                                 Bullet01  ...  \\\n0       versatile connector for various 90 connections...  ...   \n1       versatile connector for various 90 connections...  ...   \n2       versatile connector for various 90 connections...  ...   \n3       versatile connector for various 90 connections...  ...   \n4       versatile connector for various 90 connections...  ...   \n...                                                   ...  ...   \n166688  solid wood construction , only the side and ba...  ...   \n166689                 resists fading , stains and mildew  ...   \n166690                                                     ...   \n166691                                                     ...   \n166692  progressor tooth design for faster cutting and...  ...   \n\n       Assembled Width (in.) Assembled Depth (in.) Product Length (in.)  \\\n0                                                                         \n1                                                                         \n2                                                                         \n3                                                                         \n4                                                                         \n...                      ...                   ...                  ...   \n166688                                                                    \n166689               20.5 in                 49 in                        \n166690                                                                    \n166691                                                                    \n166692                                                                    \n\n       Bullet10 Indoor/Outdoor Bullet11 len_of_query word_in_title  \\\n0                                                  2             0   \n1                                                  2             0   \n2                                                  3             1   \n3                                                  3             3   \n4                                                  4             3   \n...         ...            ...      ...          ...           ...   \n166688                                             3             3   \n166689                                             2             1   \n166690                                             0             0   \n166691                                             2             2   \n166692                                             3             2   \n\n       word_in_description relevance  \n0                        0  2.117476  \n1                        0  2.117476  \n2                        1  2.180334  \n3                        3  2.712659  \n4                        3  2.402828  \n...                    ...       ...  \n166688                   3  2.712659  \n166689                   1  2.427454  \n166690                   0  2.046966  \n166691                   2  2.613946  \n166692                   2  2.327052  \n\n[166693 rows x 34 columns]",
      "text/html": "<div>\n<style scoped>\n    .dataframe tbody tr th:only-of-type {\n        vertical-align: middle;\n    }\n\n    .dataframe tbody tr th {\n        vertical-align: top;\n    }\n\n    .dataframe thead th {\n        text-align: right;\n    }\n</style>\n<table border=\"1\" class=\"dataframe\">\n  <thead>\n    <tr style=\"text-align: right;\">\n      <th></th>\n      <th>id</th>\n      <th>product_uid</th>\n      <th>product_title</th>\n      <th>search_term</th>\n      <th>product_description</th>\n      <th>MFG Brand Name</th>\n      <th>Bullet02</th>\n      <th>Bullet03</th>\n      <th>Bullet04</th>\n      <th>Bullet01</th>\n      <th>...</th>\n      <th>Assembled Width (in.)</th>\n      <th>Assembled Depth (in.)</th>\n      <th>Product Length (in.)</th>\n      <th>Bullet10</th>\n      <th>Indoor/Outdoor</th>\n      <th>Bullet11</th>\n      <th>len_of_query</th>\n      <th>word_in_title</th>\n      <th>word_in_description</th>\n      <th>relevance</th>\n    </tr>\n  </thead>\n  <tbody>\n    <tr>\n      <th>0</th>\n      <td>1</td>\n      <td>100001</td>\n      <td>simpson strong tie 12 gaug angl</td>\n      <td>degre bracket</td>\n      <td>not only do angles make joints stronger , they...</td>\n      <td>simpson strong tie</td>\n      <td>stronger than angled nailing or screw fastenin...</td>\n      <td>help ensure joints are consistently straight a...</td>\n      <td>dimensions 3 in. x 3 in. x 1 1/2 in.</td>\n      <td>versatile connector for various 90 connections...</td>\n      <td>...</td>\n      <td></td>\n      <td></td>\n      <td></td>\n      <td></td>\n      <td></td>\n      <td></td>\n      <td>2</td>\n      <td>0</td>\n      <td>0</td>\n      <td>2.117476</td>\n    </tr>\n    <tr>\n      <th>1</th>\n      <td>4</td>\n      <td>100001</td>\n      <td>simpson strong tie 12 gaug angl</td>\n      <td>metal bracket</td>\n      <td>not only do angles make joints stronger , they...</td>\n      <td>simpson strong tie</td>\n      <td>stronger than angled nailing or screw fastenin...</td>\n      <td>help ensure joints are consistently straight a...</td>\n      <td>dimensions 3 in. x 3 in. x 1 1/2 in.</td>\n      <td>versatile connector for various 90 connections...</td>\n      <td>...</td>\n      <td></td>\n      <td></td>\n      <td></td>\n      <td></td>\n      <td></td>\n      <td></td>\n      <td>2</td>\n      <td>0</td>\n      <td>0</td>\n      <td>2.117476</td>\n    </tr>\n    <tr>\n      <th>2</th>\n      <td>5</td>\n      <td>100001</td>\n      <td>simpson strong tie 12 gaug angl</td>\n      <td>simpson ski abl</td>\n      <td>not only do angles make joints stronger , they...</td>\n      <td>simpson strong tie</td>\n      <td>stronger than angled nailing or screw fastenin...</td>\n      <td>help ensure joints are consistently straight a...</td>\n      <td>dimensions 3 in. x 3 in. x 1 1/2 in.</td>\n      <td>versatile connector for various 90 connections...</td>\n      <td>...</td>\n      <td></td>\n      <td></td>\n      <td></td>\n      <td></td>\n      <td></td>\n      <td></td>\n      <td>3</td>\n      <td>1</td>\n      <td>1</td>\n      <td>2.180334</td>\n    </tr>\n    <tr>\n      <th>3</th>\n      <td>6</td>\n      <td>100001</td>\n      <td>simpson strong tie 12 gaug angl</td>\n      <td>simpson strong tie</td>\n      <td>not only do angles make joints stronger , they...</td>\n      <td>simpson strong tie</td>\n      <td>stronger than angled nailing or screw fastenin...</td>\n      <td>help ensure joints are consistently straight a...</td>\n      <td>dimensions 3 in. x 3 in. x 1 1/2 in.</td>\n      <td>versatile connector for various 90 connections...</td>\n      <td>...</td>\n      <td></td>\n      <td></td>\n      <td></td>\n      <td></td>\n      <td></td>\n      <td></td>\n      <td>3</td>\n      <td>3</td>\n      <td>3</td>\n      <td>2.712659</td>\n    </tr>\n    <tr>\n      <th>4</th>\n      <td>7</td>\n      <td>100001</td>\n      <td>simpson strong tie 12 gaug angl</td>\n      <td>simpson strong tie acc</td>\n      <td>not only do angles make joints stronger , they...</td>\n      <td>simpson strong tie</td>\n      <td>stronger than angled nailing or screw fastenin...</td>\n      <td>help ensure joints are consistently straight a...</td>\n      <td>dimensions 3 in. x 3 in. x 1 1/2 in.</td>\n      <td>versatile connector for various 90 connections...</td>\n      <td>...</td>\n      <td></td>\n      <td></td>\n      <td></td>\n      <td></td>\n      <td></td>\n      <td></td>\n      <td>4</td>\n      <td>3</td>\n      <td>3</td>\n      <td>2.402828</td>\n    </tr>\n    <tr>\n      <th>...</th>\n      <td>...</td>\n      <td>...</td>\n      <td>...</td>\n      <td>...</td>\n      <td>...</td>\n      <td>...</td>\n      <td>...</td>\n      <td>...</td>\n      <td>...</td>\n      <td>...</td>\n      <td>...</td>\n      <td>...</td>\n      <td>...</td>\n      <td>...</td>\n      <td>...</td>\n      <td>...</td>\n      <td>...</td>\n      <td>...</td>\n      <td>...</td>\n      <td>...</td>\n      <td>...</td>\n    </tr>\n    <tr>\n      <th>166688</th>\n      <td>240756</td>\n      <td>224424</td>\n      <td>stufurhom norma 24in w x 16in x 34in h linen s...</td>\n      <td>white storag cabinet</td>\n      <td>create a neat yet stylish storage space for or...</td>\n      <td>stufurhome</td>\n      <td>dtc soft closing door and drawers</td>\n      <td>brushed nickel hardware</td>\n      <td>2 functional drawers</td>\n      <td>solid wood construction , only the side and ba...</td>\n      <td>...</td>\n      <td></td>\n      <td></td>\n      <td></td>\n      <td></td>\n      <td></td>\n      <td></td>\n      <td>3</td>\n      <td>3</td>\n      <td>3</td>\n      <td>2.712659</td>\n    </tr>\n    <tr>\n      <th>166689</th>\n      <td>240757</td>\n      <td>224425</td>\n      <td>home decor collect 49in alessandro spiceberri ...</td>\n      <td>adirondack fusion</td>\n      <td>our bullnose adirondack chair cushions fit adi...</td>\n      <td>home decorators collection</td>\n      <td>filled with mildew resistant polyester fibers</td>\n      <td>available in a variety of designs and colors</td>\n      <td>2 in. h x 20.5 in. w x 49 in. d</td>\n      <td>resists fading , stains and mildew</td>\n      <td>...</td>\n      <td>20.5 in</td>\n      <td>49 in</td>\n      <td></td>\n      <td></td>\n      <td></td>\n      <td></td>\n      <td>2</td>\n      <td>1</td>\n      <td>1</td>\n      <td>2.427454</td>\n    </tr>\n    <tr>\n      <th>166690</th>\n      <td>240758</td>\n      <td>224426</td>\n      <td>simpson strong tie hb 3 12 x 14in top flang jo...</td>\n      <td></td>\n      <td>joist hangers are designed to provide support ...</td>\n      <td></td>\n      <td></td>\n      <td></td>\n      <td></td>\n      <td></td>\n      <td>...</td>\n      <td></td>\n      <td></td>\n      <td></td>\n      <td></td>\n      <td></td>\n      <td></td>\n      <td>0</td>\n      <td>0</td>\n      <td>0</td>\n      <td>2.046966</td>\n    </tr>\n    <tr>\n      <th>166691</th>\n      <td>240759</td>\n      <td>224427</td>\n      <td>14in 20 tpi x 1 12in stainless steel button he...</td>\n      <td>hex socket</td>\n      <td>these socket cap screws are ideal for applicat...</td>\n      <td></td>\n      <td></td>\n      <td></td>\n      <td></td>\n      <td></td>\n      <td>...</td>\n      <td></td>\n      <td></td>\n      <td></td>\n      <td></td>\n      <td></td>\n      <td></td>\n      <td>2</td>\n      <td>2</td>\n      <td>2</td>\n      <td>2.613946</td>\n    </tr>\n    <tr>\n      <th>166692</th>\n      <td>240760</td>\n      <td>224428</td>\n      <td>bosch 4in bi metal hole saw</td>\n      <td>inch hole saw</td>\n      <td>the bosch quick change bi metal hole saws feat...</td>\n      <td>bosch</td>\n      <td>reinforced shoulder for increased strength</td>\n      <td>8 cobalt alloy has higher heat resistance</td>\n      <td>10 degree cutting angle for high performance</td>\n      <td>progressor tooth design for faster cutting and...</td>\n      <td>...</td>\n      <td></td>\n      <td></td>\n      <td></td>\n      <td></td>\n      <td></td>\n      <td></td>\n      <td>3</td>\n      <td>2</td>\n      <td>2</td>\n      <td>2.327052</td>\n    </tr>\n  </tbody>\n</table>\n<p>166693 rows × 34 columns</p>\n</div>"
     },
     "metadata": {}
    }
   ],
   "source": [
    "import pandas as pd\n",
    "\n",
    "X_test = pd.read_csv('test_cleaned.csv')\n",
    "X_test.fillna('',inplace=True)\n",
    "\n",
    "X_test_prep = prep_pipeline.transform(X_test)\n",
    "X_test['relevance'] = best_estimator.predict(X_test_prep)\n",
    "display(X_test)\n",
    "\n",
    "X_test[['id','relevance']].to_csv('submission.csv',index=False)"
   ]
  }
 ]
}